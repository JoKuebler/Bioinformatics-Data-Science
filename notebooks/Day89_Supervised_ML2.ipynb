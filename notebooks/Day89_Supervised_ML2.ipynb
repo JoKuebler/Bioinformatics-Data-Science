{
 "cells": [
  {
   "cell_type": "code",
   "execution_count": 1,
   "metadata": {},
   "outputs": [],
   "source": [
    "%matplotlib inline\n",
    "%config IPCompleter.greedy=True"
   ]
  },
  {
   "cell_type": "markdown",
   "metadata": {},
   "source": [
    "## Supervised learning on mice phenotype data\n",
    "\n",
    "Predicting diet from differential expression data was easy with SVMs. It was very neat and regular data, no cells were missing, all values were in a similar range, etc. We will now use a slightly uglier dataset: the phenotype tables from days 3/4.\n",
    "\n",
    "You may remember that each of those sheets had one row per strain, and two separate columns for each measurement taken under the two dietary conditions. We have transformed those sheets such that 1) all of them are contained in a single table, 2) each strain gets two rows, one for phenotype measurements under CD and one for HFD diet. We will use the `diet` column as our target."
   ]
  },
  {
   "cell_type": "code",
   "execution_count": 2,
   "metadata": {},
   "outputs": [],
   "source": [
    "import pandas as pd\n",
    "import numpy as np\n",
    "import matplotlib.pyplot as plt\n",
    "import seaborn as sns\n",
    "from sklearn.svm import SVC\n",
    "from sklearn.svm import LinearSVC\n",
    "from sklearn.model_selection import StratifiedKFold\n",
    "from sklearn.model_selection import cross_val_score\n",
    "from sklearn.preprocessing import StandardScaler\n",
    "from sklearn.metrics import confusion_matrix\n",
    "from sklearn import metrics\n",
    "from sklearn.metrics import roc_curve, auc"
   ]
  },
  {
   "cell_type": "code",
   "execution_count": 25,
   "metadata": {},
   "outputs": [],
   "source": [
    "# Read in training data and targets\n",
    "pheno = pd.read_csv('../example_data/phenotype_cd_hfd.csv', index_col=0)\n",
    "target = pheno['diet'].replace('CD', 0).replace('HFD', 1)"
   ]
  },
  {
   "cell_type": "markdown",
   "metadata": {},
   "source": [
    "### 1.1 Get rid of columns with missing values\n",
    "\n",
    "Since most ML algorithms can't deal with NaN values, we will first restrict ourselves to those features that are available for every sample.\n",
    "Identify these columns and put `pheno.loc[:, good_columns]` into the variable `data`.\n",
    "\n",
    "Also, drop the columns `diet` and `strain` from the data table, since we don't want to use them for prediction."
   ]
  },
  {
   "cell_type": "code",
   "execution_count": 4,
   "metadata": {},
   "outputs": [],
   "source": [
    "# Drop NA values and diet and strain columns\n",
    "data = pheno.dropna(axis=1)\n",
    "data_dropped = data.drop(['diet', 'strain'], axis=1)"
   ]
  },
  {
   "cell_type": "markdown",
   "metadata": {},
   "source": [
    "### 1.2 Use an SVM for your predictions\n",
    "Try the RBF kernel for a change. First, fit and score using the entire dataset, and print out the accuracy.\n",
    "Do a proper evaluation using 3-fold cross-validation, and print those scores as well. How did it go?"
   ]
  },
  {
   "cell_type": "code",
   "execution_count": 5,
   "metadata": {},
   "outputs": [
    {
     "data": {
      "text/plain": [
       "0.4954954954954955"
      ]
     },
     "execution_count": 5,
     "metadata": {},
     "output_type": "execute_result"
    }
   ],
   "source": [
    "# Init SVM Classifier and train it\n",
    "clf = SVC()\n",
    "clf.fit(data_dropped, target)\n",
    "\n",
    "# Cross validation on data\n",
    "kf = StratifiedKFold(n_splits=3, shuffle=True)\n",
    "cross_val_score(clf, data_dropped, target, cv=kf).mean()"
   ]
  },
  {
   "cell_type": "markdown",
   "metadata": {},
   "source": [
    "### 1.3 Use a linear kernel to get the same two values\n",
    "Was it better or worse than with the RBF? Why?"
   ]
  },
  {
   "cell_type": "code",
   "execution_count": 6,
   "metadata": {},
   "outputs": [
    {
     "data": {
      "text/plain": [
       "0.8847795163584639"
      ]
     },
     "execution_count": 6,
     "metadata": {},
     "output_type": "execute_result"
    }
   ],
   "source": [
    "# Init linear kernel\n",
    "clf_lin = SVC(random_state=0, kernel='linear', class_weight={0: 0.01, 1: 0.99})\n",
    "\n",
    "# Cross validation on data\n",
    "kf = StratifiedKFold(n_splits=3, shuffle=True)\n",
    "cross_val_score(clf_lin, data_dropped, target, cv=kf).mean()"
   ]
  },
  {
   "cell_type": "markdown",
   "metadata": {},
   "source": [
    "### 1.4 Standardize the data\n",
    "Look at the value ranges of each feature. Standardize them, such that they all have zero mean and 1 standard deviation. Either by simply subtracting the means and dividing by the standard deviations, or using the `sklearn.preprocessing.StandardScaler` class.\n",
    "\n",
    "Display the cross-validated scores using an RBF and a linear SVM."
   ]
  },
  {
   "cell_type": "code",
   "execution_count": 7,
   "metadata": {},
   "outputs": [
    {
     "name": "stdout",
     "output_type": "stream",
     "text": [
      "StandardScaler(copy=True, with_mean=True, with_std=True)\n"
     ]
    }
   ],
   "source": [
    "# Init Standard Scaler\n",
    "scaler = StandardScaler()\n",
    "print(scaler.fit(data_dropped))\n",
    "\n",
    "scaled = scaler.transform(data_dropped)\n",
    "\n",
    "# Cross Validated score using linear SVM\n",
    "# clf_lin.fit(scaled, target)\n",
    "# cross_val_score(clf_lin, scaled, target, cv=kf).mean()\n",
    "\n",
    "# # Cross Validated score using RBF Kernel\n",
    "# clf.fit(scaled, target)\n",
    "# cross_val_score(clf, scaled, target, cv=kf).mean()\n",
    "\n",
    "# Standardizing of the values benefits the rbf kernel a lot, the performance improves.\n",
    "# Standardizing in general is very helpful if the range of the data points is quite high and you have extreme values"
   ]
  },
  {
   "cell_type": "markdown",
   "metadata": {},
   "source": [
    "### 1.4.2 Optional: Standardize the data fold-by-fold\n",
    "\n",
    "When we standardized the entire dataset in one go, we were cheating a bit. We did not keep the training and test data fully independent. For a truly honest evaluation, we should derive the standardization parameters from the training data only, and apply the same transformation to the test data separately.\n",
    "\n",
    "If you standardize manually, use the training set means and std's for the transformation of both the training and the test data. If you use `StandardScaler`, use `fit_transform` for the training data and `transform` only for the training data.\n",
    "\n",
    "Did it influence the accuracy?"
   ]
  },
  {
   "cell_type": "code",
   "execution_count": 8,
   "metadata": {},
   "outputs": [
    {
     "name": "stdout",
     "output_type": "stream",
     "text": [
      "SENSITIVITY 1.0\n",
      "SPECIFICITY 0.7368421052631579\n"
     ]
    },
    {
     "data": {
      "image/png": "[encoded data removed]",
      "text/plain": [
       "<matplotlib.figure.Figure at 0x11414d400>"
      ]
     },
     "metadata": {},
     "output_type": "display_data"
    },
    {
     "name": "stdout",
     "output_type": "stream",
     "text": [
      "SENSITIVITY 0.9473684210526315\n",
      "SPECIFICITY 0.6842105263157895\n"
     ]
    },
    {
     "data": {
      "image/png": "[encoded data removed]",
      "text/plain": [
       "<matplotlib.figure.Figure at 0x114246860>"
      ]
     },
     "metadata": {},
     "output_type": "display_data"
    },
    {
     "name": "stdout",
     "output_type": "stream",
     "text": [
      "SENSITIVITY 0.8333333333333334\n",
      "SPECIFICITY 0.9473684210526315\n"
     ]
    },
    {
     "data": {
      "image/png": "[encoded data removed]",
      "text/plain": [
       "<matplotlib.figure.Figure at 0x114246160>"
      ]
     },
     "metadata": {},
     "output_type": "display_data"
    }
   ],
   "source": [
    "# Do cross validation without standardizing the entire data set\n",
    "# Plot ROC curver for each fold\n",
    "kf = StratifiedKFold(n_splits=3, shuffle=True)\n",
    "for train, test in kf.split(data_dropped, target):\n",
    "    \n",
    "    data_train = scaler.fit_transform(data_dropped.iloc[train])\n",
    "    data_test = scaler.transform(data_dropped.iloc[test])\n",
    "    target_train = target.iloc[train]\n",
    "    target_test = target.iloc[test]\n",
    "    clf_lin.fit(data_train, target_train)\n",
    "\n",
    "    predictions = clf_lin.predict(data_test)\n",
    "    matrix = confusion_matrix(target_test, predictions)\n",
    "    \n",
    "    tp = matrix[1,1]\n",
    "    tn = matrix[0,0]\n",
    "    fp = matrix[0,1]\n",
    "    fn = matrix[1,0]\n",
    "\n",
    "    sensitivity = tp/(tp+fn)\n",
    "    specificity = tn/(tn+fp)\n",
    "    print('SENSITIVITY', sensitivity)\n",
    "    print('SPECIFICITY', specificity)\n",
    "    \n",
    "    scores = clf_lin.decision_function(data_train)\n",
    "    \n",
    "    # calculate all ingridients for the \n",
    "    fpr, tpr, thresholds = metrics.roc_curve(target_train, scores, pos_label=1)\n",
    "    roc_auc = auc(fpr, tpr)\n",
    "\n",
    "    # Plot it\n",
    "    plt.plot(fpr, tpr, color='darkorange', label='ROC curve (area = %0.2f)' % roc_auc)\n",
    "    plt.show()\n",
    "    \n"
   ]
  },
  {
   "cell_type": "markdown",
   "metadata": {},
   "source": [
    "### 1.5: Sensitivity, specificity, precision...\n",
    "In some cases, the accuracy of a prediction is secondary to other quality measures, such as sensitivity or specificity. For example, HIV tests are optimized for sensitivity at the expense of accuracy, ensuring that very few HIV-positive individuals test negative on an HIV test. This results in an HIV-scare for a lot of HIV-negative individuals each year (as higher sensitivity always implies a higher false positive rate) but in exchange no case of HIV goes undetected on a test.\n",
    "\n",
    "We can tune most ML models similarly, and sacrifice accuracy for higher sensitivity or specificity. But first, simply report the sensitivity of your linear SVM for both classes. You will find tools in `sklearn` that help you calculate this value."
   ]
  },
  {
   "cell_type": "code",
   "execution_count": 9,
   "metadata": {
    "scrolled": true
   },
   "outputs": [],
   "source": [
    "# See previous task"
   ]
  },
  {
   "cell_type": "markdown",
   "metadata": {},
   "source": [
    "### 1.5.2 Make your SVM 95+% sensitive for HFD\n",
    "Find a parameter that helps you increase your sensitivity for mice on an HFD diet."
   ]
  },
  {
   "cell_type": "code",
   "execution_count": 10,
   "metadata": {},
   "outputs": [],
   "source": [
    "# Already at 95%"
   ]
  },
  {
   "cell_type": "markdown",
   "metadata": {},
   "source": [
    "### 1.6 ROC curves\n",
    "You might be interested in your model's relationship between its accuracy and sensitivity, or a more commonly used pair of quality measures: false positive rate vs. sensitivity (aka true positive rate). This is what ROC (receiver operating characteristic) curves display: the trade-off between these two qualities.\n",
    "\n",
    "Most classification ML methods, despite their categorical output, use continuous internal variables for their predictions, and their final decision is a simple thresholding of this continuous variable. For example, in the case of SVMs, this variable is the data point's signed distance to the separating plane: positive values are assigned to one class, negative values to the other class. Values close to zero (= close to the boundary) are harder to place in either class, and it's down to the arbitrary threshold how they end up being predicted.\n",
    "\n",
    "You can create a ROC curve by testing how the choice of threshold affects false positive rate and sensitivity. Needless to say, `sklearn` helps you create such plots. All you need to do is extract the SVM's continuous predictive variables, pass it to the appropriate function with the true labels, and plot the results."
   ]
  },
  {
   "cell_type": "code",
   "execution_count": 12,
   "metadata": {},
   "outputs": [
    {
     "data": {
      "text/plain": [
       "array([ 4.78635939,  1.11561728,  1.00287577,  0.88864884,  0.86978712,\n",
       "        0.6616068 ,  0.41321316,  0.21757707,  0.06638889,  0.01952999,\n",
       "       -0.66948196, -0.73043892, -0.98751226, -0.98833482, -2.45623235])"
      ]
     },
     "execution_count": 12,
     "metadata": {},
     "output_type": "execute_result"
    },
    {
     "data": {
      "image/png": "[encoded data removed]",
      "text/plain": [
       "<matplotlib.figure.Figure at 0x114e7b0b8>"
      ]
     },
     "metadata": {},
     "output_type": "display_data"
    }
   ],
   "source": [
    "# Scores for roc curve\n",
    "scores = clf_lin.decision_function(scaled)\n",
    "\n",
    "# calculate all ingridients for the \n",
    "fpr, tpr, thresholds = metrics.roc_curve(target, scores, pos_label=1)\n",
    "roc_auc = auc(fpr, tpr)\n",
    "\n",
    "# Plot it\n",
    "plt.plot(fpr, tpr, color='darkorange', label='ROC curve (area = %0.2f)' % roc_auc)\n",
    "\n",
    "thresholds"
   ]
  },
  {
   "cell_type": "markdown",
   "metadata": {},
   "source": [
    "### 1.7 Find the threshold for the desired sensitivity / FPR tradeoff\n",
    "In 1.5.2 you increased sensitivity for HFD (label 1) by telling the SVM to use a higher weight for that class. Since then, you have learned that you could have also used the SVM's continuous predictive variables, and threshold them to your own liking, instead of leaving it to the SVM's default (0 for decision_function and 0.5 for predict_proba).\n",
    "\n",
    "Your task is to find the threshold value that would suit your purpose (i.e. 95% sensitivity). Remember, the roc_curve function returned three vectors: the ROC plot's FPR values, sensitivity values and the threshold that corresponded to them.\n",
    "\n",
    "Hint: iterate over the sensitivity and threshold values together, and report the first threshold where sensitivity exceeds 0.95. You can iterate over two lists together using Python's zip function."
   ]
  },
  {
   "cell_type": "code",
   "execution_count": 23,
   "metadata": {},
   "outputs": [
    {
     "name": "stdout",
     "output_type": "stream",
     "text": [
      "0.019529990999678948\n"
     ]
    }
   ],
   "source": [
    "# Find threshold for desired FPR tradeoff\n",
    "for sens, thres in zip(tpr, thresholds):\n",
    "    if sens > 0.95:\n",
    "        print(thres)\n",
    "        break"
   ]
  }
 ],
 "metadata": {
  "kernelspec": {
   "display_name": "Python 3",
   "language": "python",
   "name": "python3"
  },
  "language_info": {
   "codemirror_mode": {
    "name": "ipython",
    "version": 3
   },
   "file_extension": ".py",
   "mimetype": "text/x-python",
   "name": "python",
   "nbconvert_exporter": "python",
   "pygments_lexer": "ipython3",
   "version": "3.6.4"
  }
 },
 "nbformat": 4,
 "nbformat_minor": 2
}
