{
 "cells": [
  {
   "cell_type": "markdown",
   "metadata": {
    "toc": "true"
   },
   "source": [
    "# Table of Contents\n",
    " <p><div class=\"lev1\"><a href=\"#Import-pandas,-numpy,-matplotlib-and-seaborn\"><span class=\"toc-item-num\">1&nbsp;&nbsp;</span>Import pandas, numpy, matplotlib and seaborn</a></div><div class=\"lev1\"><a href=\"#Create-a-Series-object,-access-it's-index-and-cells\"><span class=\"toc-item-num\">2&nbsp;&nbsp;</span>Create a Series object, access it's index and cells</a></div><div class=\"lev1\"><a href=\"#Create-a-DataFrame-object,-access-its-rows,-columns,-indices,-cells\"><span class=\"toc-item-num\">3&nbsp;&nbsp;</span>Create a DataFrame object, access its rows, columns, indices, cells</a></div><div class=\"lev1\"><a href=\"#Data-Import\"><span class=\"toc-item-num\">4&nbsp;&nbsp;</span>Data Import</a></div><div class=\"lev1\"><a href=\"#DataFrame-filtering\"><span class=\"toc-item-num\">5&nbsp;&nbsp;</span>DataFrame filtering</a></div><div class=\"lev1\"><a href=\"#Data-export\"><span class=\"toc-item-num\">6&nbsp;&nbsp;</span>Data export</a></div><div class=\"lev1\"><a href=\"#DataFrame-aggregation\"><span class=\"toc-item-num\">7&nbsp;&nbsp;</span>DataFrame aggregation</a></div><div class=\"lev1\"><a href=\"#Data-Merging\"><span class=\"toc-item-num\">8&nbsp;&nbsp;</span>Data Merging</a></div>"
   ]
  },
  {
   "cell_type": "markdown",
   "metadata": {},
   "source": [
    "This notebook is to quickly repeat the most basic pandas operations prior to starting the practical course.\n",
    "You should be able to quickly perform the following tasks before you start working on the exercises in the Day1 notebook. If you need to look up, how certain problems can be solved, have a look at the pandas [10 Minutes Introduction](http://pandas.pydata.org/pandas-docs/stable/10min.html), the [tutorials](http://pandas.pydata.org/pandas-docs/stable/tutorials.html) and the lecture slides.\n",
    "\n",
    "And here is a source for [Jupyter keyboard shortcuts](https://www.cheatography.com/weidadeyue/cheat-sheets/jupyter-notebook/) to help you format the notebooks in an efficient way."
   ]
  },
  {
   "cell_type": "markdown",
   "metadata": {},
   "source": [
    "# Import pandas, numpy, matplotlib and seaborn"
   ]
  },
  {
   "cell_type": "code",
   "execution_count": 1,
   "metadata": {},
   "outputs": [],
   "source": [
    "# this will enable some additional autocompletion using the tab button\n",
    "\n",
    "%config IPCompleter.greedy=True"
   ]
  },
  {
   "cell_type": "code",
   "execution_count": 5,
   "metadata": {
    "run_control": {
     "frozen": false,
     "read_only": false
    }
   },
   "outputs": [],
   "source": [
    "import pandas as pd\n",
    "import numpy as np\n",
    "import matplotlib as mp \n",
    "import seaborn as sb"
   ]
  },
  {
   "cell_type": "markdown",
   "metadata": {},
   "source": [
    "# Create a Series object, access it's index and cells"
   ]
  },
  {
   "cell_type": "markdown",
   "metadata": {},
   "source": [
    "Create a Series object representing the following measurements\n",
    "\n",
    "| S   |\n",
    "|-----|\n",
    "| 1.0 |\n",
    "| 1.5 |\n",
    "| 3.0 |\n",
    "| 4.3 |\n",
    "| 8.2 |"
   ]
  },
  {
   "cell_type": "code",
   "execution_count": 7,
   "metadata": {},
   "outputs": [
    {
     "data": {
      "text/plain": [
       "0    1.0\n",
       "1    1.5\n",
       "2    3.0\n",
       "3    4.3\n",
       "4    8.2\n",
       "dtype: float64"
      ]
     },
     "execution_count": 7,
     "metadata": {},
     "output_type": "execute_result"
    }
   ],
   "source": [
    "s = pd.Series([1, 1.5, 3, 4.3, 8.2])\n",
    "s"
   ]
  },
  {
   "cell_type": "markdown",
   "metadata": {},
   "source": [
    "# Create a DataFrame object, access its rows, columns, indices, cells"
   ]
  },
  {
   "cell_type": "markdown",
   "metadata": {},
   "source": [
    "Create a dataframe of the following table.\n",
    "\n",
    "|index   |a |b  |c   |d          |e |\n",
    "|--------|--|---|----|-----------|--|\n",
    "|1       |2 |3  |5.  |horse      |13|\n",
    "|2       |3 |1  |1.4 |cat        |11|\n",
    "|3       |4 |9  |1.2 |dog        |  |\n",
    "|4       |5 |12 |0.8 |tortoise   |  |\n",
    "|5       |6 |2  |2.3 |rabbit     |9 |\n",
    "\n",
    "Now\n",
    "* access the values of each row individually\n",
    "* access single cells\n",
    "* print the index and column names\n",
    "* access values of each column individually\n",
    "* rename columns\n",
    "* extract rows 2-4 as new dataframe\n",
    "* obtain summary table of dataframe"
   ]
  },
  {
   "cell_type": "code",
   "execution_count": 111,
   "metadata": {
    "run_control": {
     "frozen": false,
     "read_only": false
    }
   },
   "outputs": [
    {
     "name": "stdout",
     "output_type": "stream",
     "text": [
      "dog\n",
      "dog\n",
      "Int64Index([1, 2, 3, 4, 5], dtype='int64')\n",
      "Index(['a', 'b', 'c', 'd', 'e'], dtype='object')\n",
      "1       horse\n",
      "2         cat\n",
      "3         dog\n",
      "4    tortoise\n",
      "5      rabbit\n",
      "Name: d, dtype: category\n",
      "Categories (5, object): [cat, dog, horse, rabbit, tortoise]\n",
      "['z', 'y', 'x', 'w', 'v']\n",
      "   z   y    x         w     v\n",
      "2  3   1  1.4       cat  11.0\n",
      "3  4   9  1.2       dog   NaN\n",
      "4  5  12  0.8  tortoise   NaN\n",
      "5  6   2  2.3    rabbit   9.0\n"
     ]
    },
    {
     "data": {
      "text/html": [
       "<div>\n",
       "<style scoped>\n",
       "    .dataframe tbody tr th:only-of-type {\n",
       "        vertical-align: middle;\n",
       "    }\n",
       "\n",
       "    .dataframe tbody tr th {\n",
       "        vertical-align: top;\n",
       "    }\n",
       "\n",
       "    .dataframe thead th {\n",
       "        text-align: right;\n",
       "    }\n",
       "</style>\n",
       "<table border=\"1\" class=\"dataframe\">\n",
       "  <thead>\n",
       "    <tr style=\"text-align: right;\">\n",
       "      <th></th>\n",
       "      <th>z</th>\n",
       "      <th>y</th>\n",
       "      <th>x</th>\n",
       "      <th>v</th>\n",
       "    </tr>\n",
       "  </thead>\n",
       "  <tbody>\n",
       "    <tr>\n",
       "      <th>count</th>\n",
       "      <td>5.000000</td>\n",
       "      <td>5.000000</td>\n",
       "      <td>5.000000</td>\n",
       "      <td>3.0</td>\n",
       "    </tr>\n",
       "    <tr>\n",
       "      <th>mean</th>\n",
       "      <td>4.000000</td>\n",
       "      <td>5.400000</td>\n",
       "      <td>2.140000</td>\n",
       "      <td>11.0</td>\n",
       "    </tr>\n",
       "    <tr>\n",
       "      <th>std</th>\n",
       "      <td>1.581139</td>\n",
       "      <td>4.827007</td>\n",
       "      <td>1.690562</td>\n",
       "      <td>2.0</td>\n",
       "    </tr>\n",
       "    <tr>\n",
       "      <th>min</th>\n",
       "      <td>2.000000</td>\n",
       "      <td>1.000000</td>\n",
       "      <td>0.800000</td>\n",
       "      <td>9.0</td>\n",
       "    </tr>\n",
       "    <tr>\n",
       "      <th>25%</th>\n",
       "      <td>3.000000</td>\n",
       "      <td>2.000000</td>\n",
       "      <td>1.200000</td>\n",
       "      <td>10.0</td>\n",
       "    </tr>\n",
       "    <tr>\n",
       "      <th>50%</th>\n",
       "      <td>4.000000</td>\n",
       "      <td>3.000000</td>\n",
       "      <td>1.400000</td>\n",
       "      <td>11.0</td>\n",
       "    </tr>\n",
       "    <tr>\n",
       "      <th>75%</th>\n",
       "      <td>5.000000</td>\n",
       "      <td>9.000000</td>\n",
       "      <td>2.300000</td>\n",
       "      <td>12.0</td>\n",
       "    </tr>\n",
       "    <tr>\n",
       "      <th>max</th>\n",
       "      <td>6.000000</td>\n",
       "      <td>12.000000</td>\n",
       "      <td>5.000000</td>\n",
       "      <td>13.0</td>\n",
       "    </tr>\n",
       "  </tbody>\n",
       "</table>\n",
       "</div>"
      ],
      "text/plain": [
       "              z          y         x     v\n",
       "count  5.000000   5.000000  5.000000   3.0\n",
       "mean   4.000000   5.400000  2.140000  11.0\n",
       "std    1.581139   4.827007  1.690562   2.0\n",
       "min    2.000000   1.000000  0.800000   9.0\n",
       "25%    3.000000   2.000000  1.200000  10.0\n",
       "50%    4.000000   3.000000  1.400000  11.0\n",
       "75%    5.000000   9.000000  2.300000  12.0\n",
       "max    6.000000  12.000000  5.000000  13.0"
      ]
     },
     "execution_count": 111,
     "metadata": {},
     "output_type": "execute_result"
    }
   ],
   "source": [
    "In [10]: df2 = pd.DataFrame({'a' : [2,3,4,5,6],\n",
    "                             'b' : [3,1,9,12,2],\n",
    "                             'c' : [5.0, 1.4, 1.2, 0.8, 2.3],\n",
    "                             'd' : pd.Categorical(['horse', 'cat', 'dog', 'tortoise', 'rabbit']),\n",
    "                             'e' : [13, 11, None, None, 9]}, index=[1,2,3,4,5])\n",
    "    \n",
    "# each row\n",
    "# iloc returns by integer value index starting from 0\n",
    "# loc returns by column index e.g. 'd'\n",
    "# for i in range(0, len(df2)):\n",
    "#     print(df2.iloc[i])\n",
    "\n",
    "# single cell\n",
    "print(df2.iloc[2,3])\n",
    "print(df2.loc[3, 'd'])\n",
    "\n",
    "# print index and column\n",
    "print(df2.index)\n",
    "print(df2.columns)\n",
    "\n",
    "# access values of each column\n",
    "print(df2.loc[:,'d'])\n",
    "\n",
    "# rename columns\n",
    "df2.columns = ['z', 'y', 'x', 'w', 'v']\n",
    "print(df2.columns.tolist())\n",
    "\n",
    "# subpart of dataframe\n",
    "df_new = df2.iloc[1:4]\n",
    "print(df_new)\n",
    "\n",
    "# summary table\n",
    "df2.describe(percentiles=None, include=None, exclude=None)"
   ]
  },
  {
   "cell_type": "code",
   "execution_count": null,
   "metadata": {},
   "outputs": [],
   "source": []
  },
  {
   "cell_type": "markdown",
   "metadata": {},
   "source": [
    "# Data Import"
   ]
  },
  {
   "cell_type": "markdown",
   "metadata": {},
   "source": [
    "Import the following file into a dataframe _df2_:\n",
    "\n",
    "Integrated_Bioinformatics/example_data/example_df.csv"
   ]
  },
  {
   "cell_type": "code",
   "execution_count": 115,
   "metadata": {
    "run_control": {
     "frozen": false,
     "read_only": false
    }
   },
   "outputs": [
    {
     "name": "stdout",
     "output_type": "stream",
     "text": [
      "    b    c         d     e\n",
      "a                         \n",
      "2   3  5.0     horse  13.0\n",
      "3   1  1.4       cat  11.0\n",
      "4   9  1.2       dog   NaN\n",
      "5  12  0.8  tortoise   NaN\n",
      "6   2  2.3    rabbit   9.0\n"
     ]
    }
   ],
   "source": [
    "df2 = pd.read_csv('../example_data/example_df.csv', header=0, sep=',', index_col=0, parse_dates=True, encoding=None, tupleize_cols=None, infer_datetime_format=False, engine='python')\n",
    "print(df2)"
   ]
  },
  {
   "cell_type": "markdown",
   "metadata": {},
   "source": [
    "Now import the following file into a pandas dataframe _df3_. Do you need to change some parameters of the funtion?\n",
    "Check whether import makes sense by showing the dataframe\n",
    "\n",
    "Integrated_Bioinformatics/example_data/example_df2.csv"
   ]
  },
  {
   "cell_type": "code",
   "execution_count": 198,
   "metadata": {
    "run_control": {
     "frozen": false,
     "read_only": false
    }
   },
   "outputs": [
    {
     "name": "stdout",
     "output_type": "stream",
     "text": [
      "    b    c         d     e\n",
      "a                         \n",
      "2   3  5.0     horse  13.0\n",
      "3   1  1.4       cat  11.0\n",
      "4   9  1.2       dog   NaN\n",
      "5  12  0.8  tortoise   NaN\n",
      "6   2  2.3    rabbit   9.0\n"
     ]
    }
   ],
   "source": [
    "df3 = pd.read_csv('../example_data/example_df2.csv', header=0, sep=';', index_col=0, parse_dates=True, encoding=None, tupleize_cols=None, infer_datetime_format=False, engine='python')\n",
    "print(df3)"
   ]
  },
  {
   "cell_type": "markdown",
   "metadata": {},
   "source": [
    "# DataFrame filtering\n",
    "Using the dataframe created in section 3:\n",
    "\n",
    "* select rows containing values greater than 2 in the 3rd column\n",
    "* select rows that contain values greater than 2 in the 3rd column or 'cat' in the 4th column\n",
    "* drop rows with missing data\n",
    "* drop duplicate rows\n",
    "* drop 1st column from dataframe\n",
    "* sort rows by 2nd column\n",
    "* convert Strings in 4th column to title-case"
   ]
  },
  {
   "cell_type": "code",
   "execution_count": 183,
   "metadata": {},
   "outputs": [
    {
     "data": {
      "text/plain": [
       "a\n",
       "2       HORSE\n",
       "3         CAT\n",
       "4         DOG\n",
       "5    TORTOISE\n",
       "6      RABBIT\n",
       "Name: d, dtype: object"
      ]
     },
     "execution_count": 183,
     "metadata": {},
     "output_type": "execute_result"
    }
   ],
   "source": [
    "# select rows containing values greater than 2 in the 3rd column\n",
    "# loc[df2['c'] returns series of true and false values which rows to take and which not\n",
    "df2.loc[df2['c'] > 2]\n",
    "\n",
    "# select rows that contain values greater than 2 in the 3rd column or 'cat' in the 4th column\n",
    "df2.loc[(df2['c'] > 2) | (df2['d'] == 'cat')]\n",
    "\n",
    "# drop rows with missing data\n",
    "df2.dropna()\n",
    "\n",
    "# drop duplicate rows\n",
    "df2.drop_duplicates(subset=None, keep='first', inplace=False)\n",
    "\n",
    "# drop 1st column from dataframe\n",
    "df2.drop(df2.index[0])\n",
    "\n",
    "# sort rows by 2nd column\n",
    "df2.sort_values(by=['b'])\n",
    "\n",
    "# convert Strings in 4th column to title-case\n",
    "df2['d'].str.upper()"
   ]
  },
  {
   "cell_type": "code",
   "execution_count": 184,
   "metadata": {},
   "outputs": [],
   "source": [
    "df2.to_csv('exported.csv', header=True, index=True, sep='\\t', mode='a')"
   ]
  },
  {
   "cell_type": "code",
   "execution_count": null,
   "metadata": {},
   "outputs": [],
   "source": []
  },
  {
   "cell_type": "markdown",
   "metadata": {},
   "source": [
    "# Data export"
   ]
  },
  {
   "cell_type": "markdown",
   "metadata": {},
   "source": [
    "Export your filtered dataframe as a text file separated by tabs omitting the index column."
   ]
  },
  {
   "cell_type": "markdown",
   "metadata": {},
   "source": [
    "# DataFrame aggregation\n",
    "\n",
    "Read in df4 from IntegratedBioinformatics/example_data/df4.csv"
   ]
  },
  {
   "cell_type": "code",
   "execution_count": 226,
   "metadata": {
    "run_control": {
     "frozen": false,
     "read_only": false
    }
   },
   "outputs": [
    {
     "name": "stdout",
     "output_type": "stream",
     "text": [
      "         b    c         d     e\n",
      "0   mammal  5.0     horse  13.0\n",
      "1   mammal  1.4       cat  11.0\n",
      "2   mammal  1.2       dog   NaN\n",
      "3     fish  0.1  goldfish   NaN\n",
      "4  reptile  2.3     snake   9.0\n",
      "5     fish  1.8       koi  10.0\n",
      "6     fish  0.8      carp   NaN\n",
      "         b  c  d  e\n",
      "0     fish  3  3  1\n",
      "1   mammal  3  3  2\n",
      "2  reptile  1  1  1\n"
     ]
    }
   ],
   "source": [
    "df4 = pd.read_csv('../example_data/df4.csv')\n",
    "print(df4)\n",
    "print(df4.groupby('b').count().reset_index())"
   ]
  },
  {
   "cell_type": "markdown",
   "metadata": {},
   "source": [
    "Using _df4_, group the data by column 'b'. Test different ways of aggregating the remaining columns as shown in the lecture."
   ]
  },
  {
   "cell_type": "markdown",
   "metadata": {},
   "source": [
    "# Data Merging"
   ]
  },
  {
   "cell_type": "markdown",
   "metadata": {},
   "source": [
    "* Merge df3 with df4 on columns c, d and e. Change columns with same names in a meaningful way."
   ]
  },
  {
   "cell_type": "markdown",
   "metadata": {},
   "source": [
    "* Now perform a full outer join of the data, to keep all rows contained in either of the two dataframes."
   ]
  },
  {
   "cell_type": "code",
   "execution_count": 227,
   "metadata": {},
   "outputs": [
    {
     "name": "stdout",
     "output_type": "stream",
     "text": [
      "    b    c         d     e\n",
      "a                         \n",
      "2   3  5.0     horse  13.0\n",
      "3   1  1.4       cat  11.0\n",
      "4   9  1.2       dog   NaN\n",
      "5  12  0.8  tortoise   NaN\n",
      "6   2  2.3    rabbit   9.0\n",
      "         b    c         d     e\n",
      "0   mammal  5.0     horse  13.0\n",
      "1   mammal  1.4       cat  11.0\n",
      "2   mammal  1.2       dog   NaN\n",
      "3     fish  0.1  goldfish   NaN\n",
      "4  reptile  2.3     snake   9.0\n",
      "5     fish  1.8       koi  10.0\n",
      "6     fish  0.8      carp   NaN\n"
     ]
    },
    {
     "data": {
      "text/html": [
       "<div>\n",
       "<style scoped>\n",
       "    .dataframe tbody tr th:only-of-type {\n",
       "        vertical-align: middle;\n",
       "    }\n",
       "\n",
       "    .dataframe tbody tr th {\n",
       "        vertical-align: top;\n",
       "    }\n",
       "\n",
       "    .dataframe thead th {\n",
       "        text-align: right;\n",
       "    }\n",
       "</style>\n",
       "<table border=\"1\" class=\"dataframe\">\n",
       "  <thead>\n",
       "    <tr style=\"text-align: right;\">\n",
       "      <th></th>\n",
       "      <th>b_x</th>\n",
       "      <th>c</th>\n",
       "      <th>d</th>\n",
       "      <th>e</th>\n",
       "      <th>b_y</th>\n",
       "    </tr>\n",
       "  </thead>\n",
       "  <tbody>\n",
       "    <tr>\n",
       "      <th>0</th>\n",
       "      <td>3</td>\n",
       "      <td>5.0</td>\n",
       "      <td>horse</td>\n",
       "      <td>13.0</td>\n",
       "      <td>mammal</td>\n",
       "    </tr>\n",
       "    <tr>\n",
       "      <th>1</th>\n",
       "      <td>1</td>\n",
       "      <td>1.4</td>\n",
       "      <td>cat</td>\n",
       "      <td>11.0</td>\n",
       "      <td>mammal</td>\n",
       "    </tr>\n",
       "    <tr>\n",
       "      <th>2</th>\n",
       "      <td>9</td>\n",
       "      <td>1.2</td>\n",
       "      <td>dog</td>\n",
       "      <td>NaN</td>\n",
       "      <td>mammal</td>\n",
       "    </tr>\n",
       "  </tbody>\n",
       "</table>\n",
       "</div>"
      ],
      "text/plain": [
       "   b_x    c      d     e     b_y\n",
       "0    3  5.0  horse  13.0  mammal\n",
       "1    1  1.4    cat  11.0  mammal\n",
       "2    9  1.2    dog   NaN  mammal"
      ]
     },
     "execution_count": 227,
     "metadata": {},
     "output_type": "execute_result"
    }
   ],
   "source": [
    "print(df3)\n",
    "print(df4)\n",
    "pd.merge(df3, df4, on=['c', 'd', 'e'], how='inner')"
   ]
  },
  {
   "cell_type": "code",
   "execution_count": 228,
   "metadata": {
    "run_control": {
     "frozen": false,
     "read_only": false
    }
   },
   "outputs": [
    {
     "data": {
      "text/html": [
       "<div>\n",
       "<style scoped>\n",
       "    .dataframe tbody tr th:only-of-type {\n",
       "        vertical-align: middle;\n",
       "    }\n",
       "\n",
       "    .dataframe tbody tr th {\n",
       "        vertical-align: top;\n",
       "    }\n",
       "\n",
       "    .dataframe thead th {\n",
       "        text-align: right;\n",
       "    }\n",
       "</style>\n",
       "<table border=\"1\" class=\"dataframe\">\n",
       "  <thead>\n",
       "    <tr style=\"text-align: right;\">\n",
       "      <th></th>\n",
       "      <th>b_x</th>\n",
       "      <th>c</th>\n",
       "      <th>d</th>\n",
       "      <th>e</th>\n",
       "      <th>b_y</th>\n",
       "    </tr>\n",
       "  </thead>\n",
       "  <tbody>\n",
       "    <tr>\n",
       "      <th>0</th>\n",
       "      <td>3.0</td>\n",
       "      <td>5.0</td>\n",
       "      <td>horse</td>\n",
       "      <td>13.0</td>\n",
       "      <td>mammal</td>\n",
       "    </tr>\n",
       "    <tr>\n",
       "      <th>1</th>\n",
       "      <td>1.0</td>\n",
       "      <td>1.4</td>\n",
       "      <td>cat</td>\n",
       "      <td>11.0</td>\n",
       "      <td>mammal</td>\n",
       "    </tr>\n",
       "    <tr>\n",
       "      <th>2</th>\n",
       "      <td>9.0</td>\n",
       "      <td>1.2</td>\n",
       "      <td>dog</td>\n",
       "      <td>NaN</td>\n",
       "      <td>mammal</td>\n",
       "    </tr>\n",
       "    <tr>\n",
       "      <th>3</th>\n",
       "      <td>12.0</td>\n",
       "      <td>0.8</td>\n",
       "      <td>tortoise</td>\n",
       "      <td>NaN</td>\n",
       "      <td>NaN</td>\n",
       "    </tr>\n",
       "    <tr>\n",
       "      <th>4</th>\n",
       "      <td>2.0</td>\n",
       "      <td>2.3</td>\n",
       "      <td>rabbit</td>\n",
       "      <td>9.0</td>\n",
       "      <td>NaN</td>\n",
       "    </tr>\n",
       "    <tr>\n",
       "      <th>5</th>\n",
       "      <td>NaN</td>\n",
       "      <td>0.1</td>\n",
       "      <td>goldfish</td>\n",
       "      <td>NaN</td>\n",
       "      <td>fish</td>\n",
       "    </tr>\n",
       "    <tr>\n",
       "      <th>6</th>\n",
       "      <td>NaN</td>\n",
       "      <td>2.3</td>\n",
       "      <td>snake</td>\n",
       "      <td>9.0</td>\n",
       "      <td>reptile</td>\n",
       "    </tr>\n",
       "    <tr>\n",
       "      <th>7</th>\n",
       "      <td>NaN</td>\n",
       "      <td>1.8</td>\n",
       "      <td>koi</td>\n",
       "      <td>10.0</td>\n",
       "      <td>fish</td>\n",
       "    </tr>\n",
       "    <tr>\n",
       "      <th>8</th>\n",
       "      <td>NaN</td>\n",
       "      <td>0.8</td>\n",
       "      <td>carp</td>\n",
       "      <td>NaN</td>\n",
       "      <td>fish</td>\n",
       "    </tr>\n",
       "  </tbody>\n",
       "</table>\n",
       "</div>"
      ],
      "text/plain": [
       "    b_x    c         d     e      b_y\n",
       "0   3.0  5.0     horse  13.0   mammal\n",
       "1   1.0  1.4       cat  11.0   mammal\n",
       "2   9.0  1.2       dog   NaN   mammal\n",
       "3  12.0  0.8  tortoise   NaN      NaN\n",
       "4   2.0  2.3    rabbit   9.0      NaN\n",
       "5   NaN  0.1  goldfish   NaN     fish\n",
       "6   NaN  2.3     snake   9.0  reptile\n",
       "7   NaN  1.8       koi  10.0     fish\n",
       "8   NaN  0.8      carp   NaN     fish"
      ]
     },
     "execution_count": 228,
     "metadata": {},
     "output_type": "execute_result"
    }
   ],
   "source": [
    "pd.merge(df3, df4, on=['c', 'd', 'e'], how='outer')"
   ]
  }
 ],
 "metadata": {
  "anaconda-cloud": {},
  "hide_input": false,
  "kernelspec": {
   "display_name": "Python 3",
   "language": "python",
   "name": "python3"
  },
  "language_info": {
   "codemirror_mode": {
    "name": "ipython",
    "version": 3
   },
   "file_extension": ".py",
   "mimetype": "text/x-python",
   "name": "python",
   "nbconvert_exporter": "python",
   "pygments_lexer": "ipython3",
   "version": "3.6.4"
  },
  "toc": {
   "toc_cell": true,
   "toc_number_sections": true,
   "toc_threshold": 6,
   "toc_window_display": false
  }
 },
 "nbformat": 4,
 "nbformat_minor": 1
}
