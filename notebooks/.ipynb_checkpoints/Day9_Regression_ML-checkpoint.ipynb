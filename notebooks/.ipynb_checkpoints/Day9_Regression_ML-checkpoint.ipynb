{
 "cells": [
  {
   "cell_type": "code",
   "execution_count": 2,
   "metadata": {},
   "outputs": [],
   "source": [
    "import pandas as pd\n",
    "import numpy as np\n",
    "import matplotlib.pyplot as plt\n",
    "import seaborn as sns\n",
    "from sklearn.svm import SVR\n",
    "from sklearn.ensemble import RandomForestRegressor\n",
    "from sklearn.neighbors import KNeighborsRegressor\n",
    "from sklearn.model_selection import KFold, cross_val_predict"
   ]
  },
  {
   "cell_type": "markdown",
   "metadata": {},
   "source": [
    "# Regression with ML\n",
    "\n",
    "As final goodbye (or is it a final FU?) we will use machine learning for a regression task, trying to estimate the mice's running activity from ther phenotype data. Our target will no longer be binary (CD/HFD) or even categorical, but continuous valued.\n",
    "\n",
    "To help you get started quickly, we have added a few lines of code to create the target vector, and deleted all running-related phenotype measurements from the input, such as night-time running activity."
   ]
  },
  {
   "cell_type": "code",
   "execution_count": 3,
   "metadata": {},
   "outputs": [],
   "source": [
    "pheno = pd.read_csv('../example_data/phenotype_cd_hfd.csv', index_col=0)\n",
    "target = pheno['24hRun_ActivityWheel_[km]']\n",
    "\n",
    "data = pheno.dropna(axis=1).drop(columns=['strain', '24hRun_ActivityWheel_[km]','DayRun_ActivityWheel_[km]','NightRun_ActivityWheel_[km]', 'Dist_post_[m]', 'Improvement_[meters]', 'Dist_pre_[m]'])\n",
    "data['diet'] = data['diet'].replace('CD', 0).replace('HFD', 1)"
   ]
  },
  {
   "cell_type": "markdown",
   "metadata": {},
   "source": [
    "Initialize a regressor, for example `SVR`. You can also use `RandomForestRegressor` or `KNeighborsRegressor`, they all have the same interface, and most code you write using them is interchangeable."
   ]
  },
  {
   "cell_type": "code",
   "execution_count": null,
   "metadata": {},
   "outputs": [],
   "source": [
    "clf = SVR(C=1.0, epsilon=0.2)"
   ]
  },
  {
   "cell_type": "markdown",
   "metadata": {},
   "source": [
    "Fit and predict all data. Plot the target and predicted vectors against each other using `plt.scatter`."
   ]
  },
  {
   "cell_type": "code",
   "execution_count": null,
   "metadata": {},
   "outputs": [],
   "source": []
  },
  {
   "cell_type": "markdown",
   "metadata": {},
   "source": [
    "Perform a cross-validated prediction. \"Scoring\" as such doesn't make much sense with continuous variables, so just use `cross_val_predict` and present them on a scatter plot against the target values, similar to above. Is it disappointing, satisfactory, or something in between?\n",
    "\n",
    "Calculate the standard error as a measure of accuracy. It's a one liner: the standard deviation of difference between the predicted and the actual values."
   ]
  },
  {
   "cell_type": "code",
   "execution_count": null,
   "metadata": {},
   "outputs": [],
   "source": []
  },
  {
   "cell_type": "markdown",
   "metadata": {},
   "source": [
    "What should we compare this performance to? A random predictor could, for example, return a random value from the available target values. Create a scatter plot of what that would be like. Hint: use `np.random.choice`, select a 100 random values twice, and plot them against each other. What is the average standard error for the random predictor?"
   ]
  },
  {
   "cell_type": "code",
   "execution_count": null,
   "metadata": {},
   "outputs": [],
   "source": []
  },
  {
   "cell_type": "markdown",
   "metadata": {},
   "source": [
    "Use a `RandomForestRegressor` to do the task (use at least 100 trees though), and check the most important features. Do they make sense? Take the top 20, and evaluate models that use an increasing amount of them. Did you find a sweet spot?"
   ]
  },
  {
   "cell_type": "code",
   "execution_count": null,
   "metadata": {},
   "outputs": [],
   "source": []
  }
 ],
 "metadata": {
  "kernelspec": {
   "display_name": "Python 3",
   "language": "python",
   "name": "python3"
  },
  "language_info": {
   "codemirror_mode": {
    "name": "ipython",
    "version": 3
   },
   "file_extension": ".py",
   "mimetype": "text/x-python",
   "name": "python",
   "nbconvert_exporter": "python",
   "pygments_lexer": "ipython3",
   "version": "3.6.4"
  }
 },
 "nbformat": 4,
 "nbformat_minor": 2
}
