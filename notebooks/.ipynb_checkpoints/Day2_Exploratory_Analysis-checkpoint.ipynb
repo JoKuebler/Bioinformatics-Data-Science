{
 "cells": [
  {
   "cell_type": "markdown",
   "metadata": {
    "toc": "true"
   },
   "source": [
    "# Table of Contents\n",
    " <p><div class=\"lev1\"><a href=\"#Today's-topics\"><span class=\"toc-item-num\">1&nbsp;&nbsp;</span>Today's topics</a></div><div class=\"lev1\"><a href=\"#Change-some-defaults\"><span class=\"toc-item-num\">2&nbsp;&nbsp;</span>Change some defaults</a></div><div class=\"lev1\"><a href=\"#Useful-links\"><span class=\"toc-item-num\">3&nbsp;&nbsp;</span>Useful links</a></div><div class=\"lev2\"><a href=\"#Python-packages\"><span class=\"toc-item-num\">3.1&nbsp;&nbsp;</span>Python packages</a></div><div class=\"lev2\"><a href=\"#Jupyter-notebooks\"><span class=\"toc-item-num\">3.2&nbsp;&nbsp;</span>Jupyter notebooks</a></div><div class=\"lev2\"><a href=\"#Data-visualisation\"><span class=\"toc-item-num\">3.3&nbsp;&nbsp;</span>Data visualisation</a></div><div class=\"lev2\"><a href=\"#Learn/Improve-your-python-skills\"><span class=\"toc-item-num\">3.4&nbsp;&nbsp;</span>Learn/Improve your python skills</a></div><div class=\"lev2\"><a href=\"#Data-Science/Programming-help\"><span class=\"toc-item-num\">3.5&nbsp;&nbsp;</span>Data Science/Programming help</a></div><div class=\"lev2\"><a href=\"#Bioinformatics-help\"><span class=\"toc-item-num\">3.6&nbsp;&nbsp;</span>Bioinformatics help</a></div><div class=\"lev2\"><a href=\"#Tutorials\"><span class=\"toc-item-num\">3.7&nbsp;&nbsp;</span>Tutorials</a></div><div class=\"lev1\"><a href=\"#Download-data\"><span class=\"toc-item-num\">4&nbsp;&nbsp;</span>Download data</a></div><div class=\"lev2\"><a href=\"#Task:-Create-a-subdirectory-in-which-you-will-store-all-your-in--and-output-files\"><span class=\"toc-item-num\">4.1&nbsp;&nbsp;</span>Task: Create a subdirectory in which you will store all your in- and output files</a></div><div class=\"lev2\"><a href=\"#Task:-Download-Genotype-supplement-and-check-if-it-worked\"><span class=\"toc-item-num\">4.2&nbsp;&nbsp;</span>Task: Download Genotype supplement and check if it worked</a></div><div class=\"lev3\"><a href=\"#Subtask:-Check-that-the-file-looks-ok-by-opening-it-in-a-text-editor\"><span class=\"toc-item-num\">4.2.1&nbsp;&nbsp;</span>Subtask: Check that the file looks ok by opening it in a text editor</a></div><div class=\"lev2\"><a href=\"#Task:-Repeat-for-Phenotype-supplement\"><span class=\"toc-item-num\">4.3&nbsp;&nbsp;</span>Task: Repeat for Phenotype supplement</a></div><div class=\"lev3\"><a href=\"#Subtask:-Check-that-the-file-looks-ok-by-opening-it-in-a-spreadsheet-software\"><span class=\"toc-item-num\">4.3.1&nbsp;&nbsp;</span>Subtask: Check that the file looks ok by opening it in a spreadsheet software</a></div><div class=\"lev1\"><a href=\"#Genotype\"><span class=\"toc-item-num\">5&nbsp;&nbsp;</span>Genotype</a></div><div class=\"lev2\"><a href=\"#Task:-Load-genotype-file-into-a-pandas-dataframe-using-the-correct-read-function\"><span class=\"toc-item-num\">5.1&nbsp;&nbsp;</span>Task: Load genotype file into a pandas dataframe using the correct read function</a></div><div class=\"lev2\"><a href=\"#Task:-Check-if-import-worked-by-displaying-the-first-10-rows-of-the-dataframe\"><span class=\"toc-item-num\">5.2&nbsp;&nbsp;</span>Task: Check if import worked by displaying the first 10 rows of the dataframe</a></div><div class=\"lev2\"><a href=\"#Task:-Describe-what-the-individuals-rows-and-columns-in-the-dataframe-mean\"><span class=\"toc-item-num\">5.3&nbsp;&nbsp;</span>Task: Describe what the individuals rows and columns in the dataframe mean</a></div><div class=\"lev2\"><a href=\"#Task:-How-many-SNPs-are-defined-in-the-genotype-file\"><span class=\"toc-item-num\">5.4&nbsp;&nbsp;</span>Task: How many SNPs are defined in the genotype file</a></div><div class=\"lev2\"><a href=\"#How-many-different-strains-are-included-in-the-genotype-file\"><span class=\"toc-item-num\">5.5&nbsp;&nbsp;</span>How many different strains are included in the genotype file</a></div><div class=\"lev2\"><a href=\"#Task:-Plot-the-distribution-patterns-of-maternal-and-paternal-alleles-across-strains-and-SNPs\"><span class=\"toc-item-num\">5.6&nbsp;&nbsp;</span>Task: Plot the distribution patterns of maternal and paternal alleles across strains and SNPs</a></div><div class=\"lev3\"><a href=\"#Step-1:-convert-cell-values-to-numbers\"><span class=\"toc-item-num\">5.6.1&nbsp;&nbsp;</span>Step 1: convert cell values to numbers</a></div><div class=\"lev3\"><a href=\"#Step-2:-Plot-clustered-heatmap\"><span class=\"toc-item-num\">5.6.2&nbsp;&nbsp;</span>Step 2: Plot clustered heatmap</a></div><div class=\"lev3\"><a href=\"#Plot-distribution-of-maternal-and-paternal-alleles\"><span class=\"toc-item-num\">5.6.3&nbsp;&nbsp;</span>Plot distribution of maternal and paternal alleles</a></div><div class=\"lev2\"><a href=\"#Study-Linakge-Disequilibrium-between-the-SNPs-on-each-chromosome\"><span class=\"toc-item-num\">5.7&nbsp;&nbsp;</span>Study Linakge Disequilibrium between the SNPs on each chromosome</a></div><div class=\"lev3\"><a href=\"#Subtask:-For-each-pair-of-loci-in-the-mouse-genotype-dataset,-compute-D'\"><span class=\"toc-item-num\">5.7.1&nbsp;&nbsp;</span>Subtask: For each pair of loci in the mouse genotype dataset, compute D'</a></div><div class=\"lev3\"><a href=\"#Subtask:-Plot-the-heatmap-of-pairwise-LD-for-SNPs\"><span class=\"toc-item-num\">5.7.2&nbsp;&nbsp;</span>Subtask: Plot the heatmap of pairwise LD for SNPs</a></div><div class=\"lev3\"><a href=\"#Subtask:-If-you-have-time:-Plot-only-pairwise-LD-for-SNPs-on-specific-chromosome-(e.g.-chr-4)\"><span class=\"toc-item-num\">5.7.3&nbsp;&nbsp;</span>Subtask: If you have time: Plot only pairwise LD for SNPs on specific chromosome (e.g. chr 4)</a></div><div class=\"lev1\"><a href=\"#Phenotype\"><span class=\"toc-item-num\">6&nbsp;&nbsp;</span>Phenotype</a></div><div class=\"lev2\"><a href=\"#Task:-Load-phenotype-file-into-a-pandas-dataframe-using-the-correct-read-function-(keep-all-sheets)\"><span class=\"toc-item-num\">6.1&nbsp;&nbsp;</span>Task: Load phenotype file into a pandas dataframe using the correct read function (keep all sheets)</a></div><div class=\"lev2\"><a href=\"#Task:-List-all-sheet-names\"><span class=\"toc-item-num\">6.2&nbsp;&nbsp;</span>Task: List all sheet names</a></div><div class=\"lev2\"><a href=\"#Task:-Take-a-peek-into-the-different-sheets-based-on-their-respective-name\"><span class=\"toc-item-num\">6.3&nbsp;&nbsp;</span>Task: Take a peek into the different sheets based on their respective name</a></div><div class=\"lev3\"><a href=\"#Subtask:-Try-the-pandas-functions-head()-and-tail()\"><span class=\"toc-item-num\">6.3.1&nbsp;&nbsp;</span>Subtask: Try the pandas functions head() and tail()</a></div><div class=\"lev3\"><a href=\"#Subtask:-List-all-columns-in-the-Biochemistry-sheet\"><span class=\"toc-item-num\">6.3.2&nbsp;&nbsp;</span>Subtask: List all columns in the Biochemistry sheet</a></div><div class=\"lev2\"><a href=\"#Task:-Study-the-variability-of-response-across-different-strains-for-some-of-the-measured-phenotypes:\"><span class=\"toc-item-num\">6.4&nbsp;&nbsp;</span>Task: Study the variability of response across different strains for some of the measured phenotypes:</a></div><div class=\"lev3\"><a href=\"#Subtask:-Compare-activity-on-activity-wheel-across-strains-(use-daily,-nightly-and-24-measurements,-pick-one-diet)\"><span class=\"toc-item-num\">6.4.1&nbsp;&nbsp;</span>Subtask: Compare activity on activity wheel across strains (use daily, nightly and 24 measurements, pick one diet)</a></div><div class=\"lev3\"><a href=\"#Subtask:-Compare-activity-across-different-times-of-day\"><span class=\"toc-item-num\">6.4.2&nbsp;&nbsp;</span>Subtask: Compare activity across different times of day</a></div><div class=\"lev3\"><a href=\"#Subtask:-Compare-the-two-different-diets-(for-several-biochemistry-measurements)\"><span class=\"toc-item-num\">6.4.3&nbsp;&nbsp;</span>Subtask: Compare the two different diets (for several biochemistry measurements)</a></div><div class=\"lev2\"><a href=\"#Task:-Compare-multiple-phenotype-measurements-(%-change-in-weight-and-mass)-across-strains-and-diet\"><span class=\"toc-item-num\">6.5&nbsp;&nbsp;</span>Task: Compare multiple phenotype measurements (% change in weight and mass) across strains and diet</a></div><div class=\"lev3\"><a href=\"#Subtask:-Extract-relevant-columns-from-the-body-weight-data-frame\"><span class=\"toc-item-num\">6.5.1&nbsp;&nbsp;</span>Subtask: Extract relevant columns from the body weight data frame</a></div><div class=\"lev3\"><a href=\"#Subtask:-Create-a-plot\"><span class=\"toc-item-num\">6.5.2&nbsp;&nbsp;</span>Subtask: Create a plot</a></div><div class=\"lev1\"><a href=\"#Merging-dataframes\"><span class=\"toc-item-num\">7&nbsp;&nbsp;</span>Merging dataframes</a></div><div class=\"lev1\"><a href=\"#Aggregating-dataframes\"><span class=\"toc-item-num\">8&nbsp;&nbsp;</span>Aggregating dataframes</a></div>"
   ]
  },
  {
   "cell_type": "markdown",
   "metadata": {},
   "source": [
    "# Today's topics "
   ]
  },
  {
   "cell_type": "markdown",
   "metadata": {},
   "source": [
    "We will mainly explore some of the data provided in the publications listed below. This will include downloading and importing data, describing numerical value columns in respect to the value distribution, and plot several relationships. The main goal is to familiarize yourself with the data while practicing how to use pandas. Feel free to explore other questions that may arise in addition to the tasks listed below."
   ]
  },
  {
   "cell_type": "markdown",
   "metadata": {},
   "source": [
    "The full publication that inspired some of the data analyses steps we'll do in this practical course was published in Science recently:\n",
    "\n",
    "__Systems proteomics of liver mitochondria function__      \n",
    "by Evan G. Williams, Yibo Wu, Pooja Jha, Sébastien Dubuis et al.     \n",
    "_Science_     \n",
    "Volume 352(6291):[aad0189](http://science.sciencemag.org/content/352/6291/aad0189)    \n",
    "June 10, 2016, [doi:10.1126/science.aad0189](doi:10.1126/science.aad0189)\n",
    "\n",
    "The supplemental files are listed here: http://science.sciencemag.org/content/suppl/2016/06/10/352.6291.aad0189.DC1\n",
    "\n",
    "We further include some methodology discussed in a related paper about mouse-human PheWAS\n",
    "\n",
    "__Joint mouse–human phenome-wide association to test gene function and disease risk__\n",
    "by Xusheng Wang, Ashutosh K. Pandey, Megan K. Mulligan, Evan G. Williams et al.     \n",
    "_Nature Communications_     \n",
    "Volume 7, Article number: 10464, [doi:10.1038/ncomms10464](doi:10.1038/ncomms10464)     "
   ]
  },
  {
   "cell_type": "code",
   "execution_count": 1,
   "metadata": {},
   "outputs": [],
   "source": [
    "import os\n",
    "import pandas as pd\n",
    "import seaborn as sns\n",
    "import numpy as np\n",
    "import matplotlib.pyplot as plt\n",
    "from collections import Counter "
   ]
  },
  {
   "cell_type": "markdown",
   "metadata": {},
   "source": [
    "# Download data"
   ]
  },
  {
   "cell_type": "markdown",
   "metadata": {},
   "source": [
    "## Task: Create a subdirectory in which you will store all your in- and output files"
   ]
  },
  {
   "cell_type": "code",
   "execution_count": 2,
   "metadata": {
    "run_control": {
     "frozen": false,
     "read_only": false
    }
   },
   "outputs": [],
   "source": [
    "# os.mkdir('../files_day_two')\n",
    "geno_data = '../files_day_two/aad0189_DataFileS4.txt'\n",
    "pheno_data = '../files_day_two/aad0189_DataFileS2.xlsx'"
   ]
  },
  {
   "cell_type": "markdown",
   "metadata": {},
   "source": [
    "## Task: Download Genotype supplement and check if it worked"
   ]
  },
  {
   "cell_type": "markdown",
   "metadata": {},
   "source": [
    "Hint: the genotype data is in the supplemental file \"aad0189_DataFileS4.txt\" or \"Data S4\""
   ]
  },
  {
   "cell_type": "markdown",
   "metadata": {},
   "source": [
    "###  Subtask: Check that the file looks ok by opening it"
   ]
  },
  {
   "cell_type": "markdown",
   "metadata": {
    "collapsed": true,
    "run_control": {
     "frozen": false,
     "read_only": false
    }
   },
   "source": [
    "## Task: Repeat for Phenotype supplement"
   ]
  },
  {
   "cell_type": "markdown",
   "metadata": {},
   "source": [
    "Hint: the phenotype data is in the supplemental file \"aad0189_DataFileS2.xlsx\" or \"Data S2\""
   ]
  },
  {
   "cell_type": "code",
   "execution_count": null,
   "metadata": {
    "run_control": {
     "frozen": false,
     "read_only": false
    }
   },
   "outputs": [],
   "source": []
  },
  {
   "cell_type": "markdown",
   "metadata": {},
   "source": [
    "### Subtask: Check that the file looks ok by opening it"
   ]
  },
  {
   "cell_type": "markdown",
   "metadata": {},
   "source": [
    "# Genotype\n",
    "The mouse genotype data is provided as a tab-delimited text file (you can check it's general structure using less in the command line or by opening the file in a text editor).\n",
    "## Task: Load genotype file into a pandas dataframe using the correct read function"
   ]
  },
  {
   "cell_type": "markdown",
   "metadata": {},
   "source": [
    "The supplementary file aad0189_DataFileS4_Genotype.txt corresponds to BXD_3000.geno and BXD.geno on [genenetwork.org](http://www.genenetwork.org/webqtl/main.py?FormID=sharinginfo&GN_AccessionId=600). BXD17000 on the other hand contains roughly 17000 markers."
   ]
  },
  {
   "cell_type": "code",
   "execution_count": 3,
   "metadata": {
    "run_control": {
     "frozen": false,
     "read_only": false
    }
   },
   "outputs": [],
   "source": [
    "# read in genotype data\n",
    "geno_df = pd.read_csv(geno_data, sep='\\t', comment='@')"
   ]
  },
  {
   "cell_type": "markdown",
   "metadata": {},
   "source": [
    "## Task: Check if import worked by displaying the first 10 rows of the dataframe"
   ]
  },
  {
   "cell_type": "code",
   "execution_count": 4,
   "metadata": {
    "run_control": {
     "frozen": false,
     "read_only": false
    }
   },
   "outputs": [
    {
     "data": {
      "text/html": [
       "<div>\n",
       "<style scoped>\n",
       "    .dataframe tbody tr th:only-of-type {\n",
       "        vertical-align: middle;\n",
       "    }\n",
       "\n",
       "    .dataframe tbody tr th {\n",
       "        vertical-align: top;\n",
       "    }\n",
       "\n",
       "    .dataframe thead th {\n",
       "        text-align: right;\n",
       "    }\n",
       "</style>\n",
       "<table border=\"1\" class=\"dataframe\">\n",
       "  <thead>\n",
       "    <tr style=\"text-align: right;\">\n",
       "      <th></th>\n",
       "      <th>Chr</th>\n",
       "      <th>Locus</th>\n",
       "      <th>cM</th>\n",
       "      <th>Mb</th>\n",
       "      <th>BXD1</th>\n",
       "      <th>BXD2</th>\n",
       "      <th>BXD5</th>\n",
       "      <th>BXD6</th>\n",
       "      <th>BXD8</th>\n",
       "      <th>BXD9</th>\n",
       "      <th>...</th>\n",
       "      <th>BXD90</th>\n",
       "      <th>BXD91</th>\n",
       "      <th>BXD93</th>\n",
       "      <th>BXD94</th>\n",
       "      <th>BXD95</th>\n",
       "      <th>BXD98</th>\n",
       "      <th>BXD99</th>\n",
       "      <th>BXD100</th>\n",
       "      <th>BXD101</th>\n",
       "      <th>BXD102</th>\n",
       "    </tr>\n",
       "  </thead>\n",
       "  <tbody>\n",
       "    <tr>\n",
       "      <th>0</th>\n",
       "      <td>1</td>\n",
       "      <td>rs6269442</td>\n",
       "      <td>0.000</td>\n",
       "      <td>3.482275</td>\n",
       "      <td>B</td>\n",
       "      <td>B</td>\n",
       "      <td>D</td>\n",
       "      <td>D</td>\n",
       "      <td>D</td>\n",
       "      <td>B</td>\n",
       "      <td>...</td>\n",
       "      <td>B</td>\n",
       "      <td>D</td>\n",
       "      <td>B</td>\n",
       "      <td>D</td>\n",
       "      <td>D</td>\n",
       "      <td>B</td>\n",
       "      <td>B</td>\n",
       "      <td>B</td>\n",
       "      <td>B</td>\n",
       "      <td>B</td>\n",
       "    </tr>\n",
       "    <tr>\n",
       "      <th>1</th>\n",
       "      <td>1</td>\n",
       "      <td>rs6365999</td>\n",
       "      <td>0.000</td>\n",
       "      <td>4.811062</td>\n",
       "      <td>B</td>\n",
       "      <td>B</td>\n",
       "      <td>D</td>\n",
       "      <td>D</td>\n",
       "      <td>D</td>\n",
       "      <td>B</td>\n",
       "      <td>...</td>\n",
       "      <td>B</td>\n",
       "      <td>D</td>\n",
       "      <td>B</td>\n",
       "      <td>D</td>\n",
       "      <td>D</td>\n",
       "      <td>B</td>\n",
       "      <td>B</td>\n",
       "      <td>B</td>\n",
       "      <td>B</td>\n",
       "      <td>U</td>\n",
       "    </tr>\n",
       "    <tr>\n",
       "      <th>2</th>\n",
       "      <td>1</td>\n",
       "      <td>rs6376963</td>\n",
       "      <td>0.895</td>\n",
       "      <td>5.008089</td>\n",
       "      <td>B</td>\n",
       "      <td>B</td>\n",
       "      <td>D</td>\n",
       "      <td>D</td>\n",
       "      <td>D</td>\n",
       "      <td>B</td>\n",
       "      <td>...</td>\n",
       "      <td>B</td>\n",
       "      <td>D</td>\n",
       "      <td>B</td>\n",
       "      <td>D</td>\n",
       "      <td>D</td>\n",
       "      <td>B</td>\n",
       "      <td>B</td>\n",
       "      <td>B</td>\n",
       "      <td>B</td>\n",
       "      <td>U</td>\n",
       "    </tr>\n",
       "    <tr>\n",
       "      <th>3</th>\n",
       "      <td>1</td>\n",
       "      <td>rs3677817</td>\n",
       "      <td>1.185</td>\n",
       "      <td>5.176058</td>\n",
       "      <td>B</td>\n",
       "      <td>B</td>\n",
       "      <td>D</td>\n",
       "      <td>D</td>\n",
       "      <td>D</td>\n",
       "      <td>B</td>\n",
       "      <td>...</td>\n",
       "      <td>B</td>\n",
       "      <td>D</td>\n",
       "      <td>B</td>\n",
       "      <td>D</td>\n",
       "      <td>D</td>\n",
       "      <td>B</td>\n",
       "      <td>B</td>\n",
       "      <td>B</td>\n",
       "      <td>B</td>\n",
       "      <td>U</td>\n",
       "    </tr>\n",
       "    <tr>\n",
       "      <th>4</th>\n",
       "      <td>1</td>\n",
       "      <td>rs8236463</td>\n",
       "      <td>2.081</td>\n",
       "      <td>5.579193</td>\n",
       "      <td>B</td>\n",
       "      <td>B</td>\n",
       "      <td>D</td>\n",
       "      <td>D</td>\n",
       "      <td>D</td>\n",
       "      <td>B</td>\n",
       "      <td>...</td>\n",
       "      <td>B</td>\n",
       "      <td>D</td>\n",
       "      <td>B</td>\n",
       "      <td>D</td>\n",
       "      <td>D</td>\n",
       "      <td>B</td>\n",
       "      <td>B</td>\n",
       "      <td>B</td>\n",
       "      <td>B</td>\n",
       "      <td>U</td>\n",
       "    </tr>\n",
       "    <tr>\n",
       "      <th>5</th>\n",
       "      <td>1</td>\n",
       "      <td>rs6333200</td>\n",
       "      <td>2.081</td>\n",
       "      <td>6.217921</td>\n",
       "      <td>B</td>\n",
       "      <td>B</td>\n",
       "      <td>D</td>\n",
       "      <td>D</td>\n",
       "      <td>D</td>\n",
       "      <td>B</td>\n",
       "      <td>...</td>\n",
       "      <td>B</td>\n",
       "      <td>D</td>\n",
       "      <td>B</td>\n",
       "      <td>D</td>\n",
       "      <td>D</td>\n",
       "      <td>B</td>\n",
       "      <td>B</td>\n",
       "      <td>B</td>\n",
       "      <td>B</td>\n",
       "      <td>U</td>\n",
       "    </tr>\n",
       "    <tr>\n",
       "      <th>6</th>\n",
       "      <td>1</td>\n",
       "      <td>rs6298633</td>\n",
       "      <td>2.367</td>\n",
       "      <td>6.820241</td>\n",
       "      <td>B</td>\n",
       "      <td>B</td>\n",
       "      <td>D</td>\n",
       "      <td>D</td>\n",
       "      <td>D</td>\n",
       "      <td>B</td>\n",
       "      <td>...</td>\n",
       "      <td>B</td>\n",
       "      <td>D</td>\n",
       "      <td>B</td>\n",
       "      <td>D</td>\n",
       "      <td>D</td>\n",
       "      <td>B</td>\n",
       "      <td>B</td>\n",
       "      <td>B</td>\n",
       "      <td>B</td>\n",
       "      <td>U</td>\n",
       "    </tr>\n",
       "    <tr>\n",
       "      <th>7</th>\n",
       "      <td>1</td>\n",
       "      <td>rs6241531</td>\n",
       "      <td>2.367</td>\n",
       "      <td>9.995925</td>\n",
       "      <td>B</td>\n",
       "      <td>B</td>\n",
       "      <td>D</td>\n",
       "      <td>D</td>\n",
       "      <td>D</td>\n",
       "      <td>B</td>\n",
       "      <td>...</td>\n",
       "      <td>B</td>\n",
       "      <td>D</td>\n",
       "      <td>B</td>\n",
       "      <td>D</td>\n",
       "      <td>D</td>\n",
       "      <td>B</td>\n",
       "      <td>B</td>\n",
       "      <td>B</td>\n",
       "      <td>B</td>\n",
       "      <td>D</td>\n",
       "    </tr>\n",
       "    <tr>\n",
       "      <th>8</th>\n",
       "      <td>1</td>\n",
       "      <td>rs6360236</td>\n",
       "      <td>3.263</td>\n",
       "      <td>11.073904</td>\n",
       "      <td>B</td>\n",
       "      <td>B</td>\n",
       "      <td>D</td>\n",
       "      <td>D</td>\n",
       "      <td>D</td>\n",
       "      <td>B</td>\n",
       "      <td>...</td>\n",
       "      <td>B</td>\n",
       "      <td>D</td>\n",
       "      <td>B</td>\n",
       "      <td>D</td>\n",
       "      <td>D</td>\n",
       "      <td>B</td>\n",
       "      <td>B</td>\n",
       "      <td>B</td>\n",
       "      <td>B</td>\n",
       "      <td>D</td>\n",
       "    </tr>\n",
       "    <tr>\n",
       "      <th>9</th>\n",
       "      <td>1</td>\n",
       "      <td>rs3722996</td>\n",
       "      <td>3.263</td>\n",
       "      <td>11.259432</td>\n",
       "      <td>B</td>\n",
       "      <td>B</td>\n",
       "      <td>D</td>\n",
       "      <td>D</td>\n",
       "      <td>D</td>\n",
       "      <td>B</td>\n",
       "      <td>...</td>\n",
       "      <td>B</td>\n",
       "      <td>D</td>\n",
       "      <td>B</td>\n",
       "      <td>D</td>\n",
       "      <td>D</td>\n",
       "      <td>B</td>\n",
       "      <td>B</td>\n",
       "      <td>B</td>\n",
       "      <td>B</td>\n",
       "      <td>D</td>\n",
       "    </tr>\n",
       "  </tbody>\n",
       "</table>\n",
       "<p>10 rows × 97 columns</p>\n",
       "</div>"
      ],
      "text/plain": [
       "  Chr      Locus     cM         Mb BXD1 BXD2 BXD5 BXD6 BXD8 BXD9  ...   BXD90  \\\n",
       "0   1  rs6269442  0.000   3.482275    B    B    D    D    D    B  ...       B   \n",
       "1   1  rs6365999  0.000   4.811062    B    B    D    D    D    B  ...       B   \n",
       "2   1  rs6376963  0.895   5.008089    B    B    D    D    D    B  ...       B   \n",
       "3   1  rs3677817  1.185   5.176058    B    B    D    D    D    B  ...       B   \n",
       "4   1  rs8236463  2.081   5.579193    B    B    D    D    D    B  ...       B   \n",
       "5   1  rs6333200  2.081   6.217921    B    B    D    D    D    B  ...       B   \n",
       "6   1  rs6298633  2.367   6.820241    B    B    D    D    D    B  ...       B   \n",
       "7   1  rs6241531  2.367   9.995925    B    B    D    D    D    B  ...       B   \n",
       "8   1  rs6360236  3.263  11.073904    B    B    D    D    D    B  ...       B   \n",
       "9   1  rs3722996  3.263  11.259432    B    B    D    D    D    B  ...       B   \n",
       "\n",
       "  BXD91 BXD93 BXD94 BXD95 BXD98 BXD99 BXD100 BXD101 BXD102  \n",
       "0     D     B     D     D     B     B      B      B      B  \n",
       "1     D     B     D     D     B     B      B      B      U  \n",
       "2     D     B     D     D     B     B      B      B      U  \n",
       "3     D     B     D     D     B     B      B      B      U  \n",
       "4     D     B     D     D     B     B      B      B      U  \n",
       "5     D     B     D     D     B     B      B      B      U  \n",
       "6     D     B     D     D     B     B      B      B      U  \n",
       "7     D     B     D     D     B     B      B      B      D  \n",
       "8     D     B     D     D     B     B      B      B      D  \n",
       "9     D     B     D     D     B     B      B      B      D  \n",
       "\n",
       "[10 rows x 97 columns]"
      ]
     },
     "execution_count": 4,
     "metadata": {},
     "output_type": "execute_result"
    }
   ],
   "source": [
    "# display first 10 rows of data\n",
    "geno_df[:10]"
   ]
  },
  {
   "cell_type": "markdown",
   "metadata": {},
   "source": [
    "## Task: Describe what the individuals rows and columns in the dataframe mean\n",
    "You may have to have a look at the file header of the genotype file as well as the data repositories containing genetic data of mice: http://www.genenetwork.org/mouseCross.html and http://www.genenetwork.org/webqtl/main.py?FormID=sharinginfo&GN_AccessionId=600 "
   ]
  },
  {
   "cell_type": "markdown",
   "metadata": {
    "collapsed": true
   },
   "source": [
    "(use this type of markdown cell for text solutions)"
   ]
  },
  {
   "cell_type": "markdown",
   "metadata": {},
   "source": [
    "## Task: How many SNPs are defined in the genotype file"
   ]
  },
  {
   "cell_type": "code",
   "execution_count": 5,
   "metadata": {
    "run_control": {
     "frozen": false,
     "read_only": false
    }
   },
   "outputs": [
    {
     "data": {
      "text/plain": [
       "3811"
      ]
     },
     "execution_count": 5,
     "metadata": {},
     "output_type": "execute_result"
    }
   ],
   "source": [
    "# SNP count (rows)\n",
    "geno_df.shape[0]"
   ]
  },
  {
   "cell_type": "markdown",
   "metadata": {},
   "source": [
    "## How many different strains are included in the genotype file"
   ]
  },
  {
   "cell_type": "code",
   "execution_count": 6,
   "metadata": {
    "run_control": {
     "frozen": false,
     "read_only": false
    }
   },
   "outputs": [
    {
     "data": {
      "text/plain": [
       "93"
      ]
     },
     "execution_count": 6,
     "metadata": {},
     "output_type": "execute_result"
    }
   ],
   "source": [
    "# Different strains (columns)\n",
    "geno_df.shape[1]-4"
   ]
  },
  {
   "cell_type": "markdown",
   "metadata": {},
   "source": [
    "## Task: Plot the distribution patterns of maternal and paternal alleles across strains and SNPs"
   ]
  },
  {
   "cell_type": "markdown",
   "metadata": {},
   "source": [
    "### Step 1: convert cell values to numbers"
   ]
  },
  {
   "cell_type": "markdown",
   "metadata": {},
   "source": [
    "Note on heterozygous loci: \"It is recommended to treat these rare heterozygous loci as missing data and ensure that only the additive effects of B vs. D alleles are estimated\" (http://www.genenetwork.org/webqtl/main.py?FormID=sharinginfo&GN_AccessionId=600)\n",
    "\n",
    "Hint: For the Heatmap in the next task, it is preferable to have a [-x,x] range, rather than a [0,x] range."
   ]
  },
  {
   "cell_type": "code",
   "execution_count": 7,
   "metadata": {
    "run_control": {
     "frozen": false,
     "read_only": false
    }
   },
   "outputs": [],
   "source": [
    "# convert cell values to numerical values by applymap a encode dictionary\n",
    "encode = {'B': -1, 'D': 1, 'H': 0, 'U': 0}\n",
    "geno_df = geno_df.iloc[:, 4:]\n",
    "geno_df = geno_df.applymap(encode.get)"
   ]
  },
  {
   "cell_type": "markdown",
   "metadata": {},
   "source": [
    "### Step 2: Plot clustered heatmap"
   ]
  },
  {
   "cell_type": "code",
   "execution_count": 8,
   "metadata": {
    "run_control": {
     "frozen": false,
     "read_only": false
    }
   },
   "outputs": [
    {
     "data": {
      "text/plain": [
       "<seaborn.matrix.ClusterGrid at 0x11343ecc0>"
      ]
     },
     "execution_count": 8,
     "metadata": {},
     "output_type": "execute_result"
    },
    {
     "data": {
      "image/png": "[encoded data removed]",
      "text/plain": [
       "<matplotlib.figure.Figure at 0x1065584e0>"
      ]
     },
     "metadata": {},
     "output_type": "display_data"
    }
   ],
   "source": [
    "# Plots heatmap\n",
    "# Rather less distant mice (according to the tree) show similar values in the heatmap \n",
    "# since they are genetically more related then others\n",
    "sns.clustermap(geno_df)"
   ]
  },
  {
   "cell_type": "markdown",
   "metadata": {},
   "source": [
    "### Plot distribution of maternal and paternal alleles"
   ]
  },
  {
   "cell_type": "markdown",
   "metadata": {},
   "source": [
    "Hint: Count occurances of the alleles B and D for each strain"
   ]
  },
  {
   "cell_type": "code",
   "execution_count": 9,
   "metadata": {
    "run_control": {
     "frozen": false,
     "read_only": false
    }
   },
   "outputs": [
    {
     "name": "stdout",
     "output_type": "stream",
     "text": [
      "     -1    0     1\n",
      "0  2246  NaN  1565\n",
      "1  2001  NaN  1810\n",
      "2  2173  NaN  1638\n",
      "3  2027  1.0  1783\n",
      "4  2058  NaN  1753\n"
     ]
    },
    {
     "data": {
      "text/plain": [
       "<matplotlib.axes._subplots.AxesSubplot at 0x105b72c50>"
      ]
     },
     "execution_count": 9,
     "metadata": {},
     "output_type": "execute_result"
    },
    {
     "data": {
      "image/png": "[encoded data removed]",
      "text/plain": [
       "<matplotlib.figure.Figure at 0x114ea5b70>"
      ]
     },
     "metadata": {},
     "output_type": "display_data"
    },
    {
     "data": {
      "image/png": "[encoded data removed]",
      "text/plain": [
       "<matplotlib.figure.Figure at 0x114ec5160>"
      ]
     },
     "metadata": {},
     "output_type": "display_data"
    }
   ],
   "source": [
    "columns = geno_df.columns\n",
    "rows = []\n",
    "for column in columns:\n",
    "    rows.append(Counter(geno_df[column]))\n",
    "    \n",
    "df_dist = pd.DataFrame.from_dict(rows, orient='columns')\n",
    "print(df_dist.head())\n",
    "\n",
    "sns.boxplot(data=df_dist)\n",
    "plt.figure()\n",
    "sns.barplot(data=df_dist)\n"
   ]
  },
  {
   "cell_type": "code",
   "execution_count": null,
   "metadata": {},
   "outputs": [],
   "source": []
  },
  {
   "cell_type": "markdown",
   "metadata": {},
   "source": [
    "# Phenotype\n",
    "The BXD mouse phenotype data has been accumulated over the past 50 years and with various measurements being available for different mice and different tissue types. The data provided by the paper supplement is structured as a multi-sheet EXCEL spreadsheet - you can open it in the corresponding software to get a first impression about the structure of the file.\n",
    "## Task: Load phenotype file into a pandas dataframe using the correct read function (keep all sheets)"
   ]
  },
  {
   "cell_type": "code",
   "execution_count": 10,
   "metadata": {
    "run_control": {
     "frozen": false,
     "read_only": false
    },
    "scrolled": true
   },
   "outputs": [],
   "source": [
    "# read in excel\n",
    "xls = pd.ExcelFile(pheno_data)"
   ]
  },
  {
   "cell_type": "markdown",
   "metadata": {},
   "source": [
    "## Task: List all sheet names"
   ]
  },
  {
   "cell_type": "code",
   "execution_count": 11,
   "metadata": {
    "run_control": {
     "frozen": false,
     "read_only": false
    }
   },
   "outputs": [],
   "source": [
    "# get all sheet names of Excel\n",
    "sheet_names = xls.sheet_names"
   ]
  },
  {
   "cell_type": "markdown",
   "metadata": {},
   "source": [
    "## Task: Take a peek into the different sheets based on their respective name"
   ]
  },
  {
   "cell_type": "markdown",
   "metadata": {},
   "source": [
    "### Subtask: Try the pandas functions head() and tail()"
   ]
  },
  {
   "cell_type": "code",
   "execution_count": 12,
   "metadata": {
    "scrolled": true
   },
   "outputs": [
    {
     "name": "stdout",
     "output_type": "stream",
     "text": [
      "                CD_Sacrifice_Order_[Rank] SE  N HFD_Sacrifice_Order_[Rank]  \\\n",
      "@format=column                                                               \n",
      "C57BL/6J                                8  x  5                          8   \n",
      "DBA/2J                                  8  x  5                          8   \n",
      "BXD1                                   42  x  5                         43   \n",
      "BXD2                                   54  x  4                         54   \n",
      "BXD6                                   48  x  5                         51   \n",
      "\n",
      "               SE.1 N.1  CD_Sacrifice_Order_[Weeks] SE.2  N.2  \\\n",
      "@format=column                                                  \n",
      "C57BL/6J          x   5                          13    x    5   \n",
      "DBA/2J            x   5                          13    x    5   \n",
      "BXD1              x   5                         189    x    5   \n",
      "BXD2              x   5                         300    x    4   \n",
      "BXD6              x   5                         287    x    5   \n",
      "\n",
      "                HFD_Sacrifice_Order_[Weeks]  ...  N.54  \\\n",
      "@format=column                               ...         \n",
      "C57BL/6J                               13.0  ...     4   \n",
      "DBA/2J                                 13.0  ...     3   \n",
      "BXD1                                  202.0  ...     5   \n",
      "BXD2                                  300.0  ...     4   \n",
      "BXD6                                  292.0  ...     5   \n",
      "\n",
      "               HFD_FatMassLoss_AfterExercise_[%]    SE.55  N.55  \\\n",
      "@format=column                                                    \n",
      "C57BL/6J                                 16.5883  5.33707     4   \n",
      "DBA/2J                                   51.7277  11.6676     5   \n",
      "BXD1                                     44.5071  0.91356     5   \n",
      "BXD2                                     16.4364   6.4008     5   \n",
      "BXD6                                     9.44013  2.12561     5   \n",
      "\n",
      "                CD_BodyWeightLoss_PreSacrifice_[g]     SE.56 N.56      s  \\\n",
      "@format=column                                                             \n",
      "C57BL/6J                                         x         x    x      x   \n",
      "DBA/2J                                      1.3275     0.425    4  1.072   \n",
      "BXD1                                             3      0.48    5   1.82   \n",
      "BXD2                                        1.4325  0.694963    4  2.662   \n",
      "BXD6                                         1.834  0.383401    5  2.168   \n",
      "\n",
      "                    SE.57  N.57  \n",
      "@format=column                   \n",
      "C57BL/6J                x     x  \n",
      "DBA/2J              0.323     5  \n",
      "BXD1             0.255284     5  \n",
      "BXD2             0.239529     5  \n",
      "BXD6            0.0935628     5  \n",
      "\n",
      "[5 rows x 174 columns]\n",
      "                CD_Sacrifice_Order_[Rank] SE  N HFD_Sacrifice_Order_[Rank]  \\\n",
      "@format=column                                                               \n",
      "BXD95                                  18  x  4                         38   \n",
      "BXD98                                  31  x  5                         31   \n",
      "BXD99                                  24  x  5                         24   \n",
      "BXD100                                 10  x  3                         10   \n",
      "BXD101                                 29  x  4                         37   \n",
      "\n",
      "               SE.1 N.1  CD_Sacrifice_Order_[Weeks] SE.2  N.2  \\\n",
      "@format=column                                                  \n",
      "BXD95             x   5                          59    x    4   \n",
      "BXD98             x   5                          96    x    5   \n",
      "BXD99             x   5                          80    x    5   \n",
      "BXD100            x   5                          16    x    3   \n",
      "BXD101            x   4                          89    x    4   \n",
      "\n",
      "                HFD_Sacrifice_Order_[Weeks]  ...  N.54  \\\n",
      "@format=column                               ...         \n",
      "BXD95                                 119.0  ...     4   \n",
      "BXD98                                  95.0  ...     4   \n",
      "BXD99                                  80.0  ...     5   \n",
      "BXD100                                 16.0  ...     3   \n",
      "BXD101                                115.0  ...     4   \n",
      "\n",
      "               HFD_FatMassLoss_AfterExercise_[%]     SE.55  N.55  \\\n",
      "@format=column                                                     \n",
      "BXD95                                      26.61      12.8     5   \n",
      "BXD98                                    6.46144  0.676844     5   \n",
      "BXD99                                    38.4186   6.44173     5   \n",
      "BXD100                                   23.7813   9.49946     5   \n",
      "BXD101                                     16.83      8.04     4   \n",
      "\n",
      "                CD_BodyWeightLoss_PreSacrifice_[g]  SE.56 N.56     s  SE.57  \\\n",
      "@format=column                                                                \n",
      "BXD95                                         0.95   0.42    4  2.22   0.25   \n",
      "BXD98                                          2.1   0.16    4  3.16   0.14   \n",
      "BXD99                                         2.43   0.34    5  1.79   0.19   \n",
      "BXD100                                        2.82  0.701    3  1.24  0.197   \n",
      "BXD101                                        0.94   0.57    4     x      x   \n",
      "\n",
      "                N.57  \n",
      "@format=column        \n",
      "BXD95              5  \n",
      "BXD98              5  \n",
      "BXD99              5  \n",
      "BXD100             5  \n",
      "BXD101             x  \n",
      "\n",
      "[5 rows x 174 columns]\n",
      "                CD_DiastolicBP_NIBP_[mmHg]        SE  N  \\\n",
      "@format=column                                            \n",
      "C57BL/6J                              93.5  4.140393  8   \n",
      "DBA/2J                                87.5  3.807887  8   \n",
      "BXD1                                  89.2  5.453439  5   \n",
      "BXD2                                  77.0  6.570134  4   \n",
      "BXD6                                  76.8  4.993996  5   \n",
      "\n",
      "               HFD_DiastolicBP_NIBP_[mmHg]     SE.1 N.1  \\\n",
      "@format=column                                            \n",
      "C57BL/6J                            77.125  3.07895   8   \n",
      "DBA/2J                               80.25  3.13249   8   \n",
      "BXD1                                  78.2   6.9383   5   \n",
      "BXD2                                  76.2  3.83927   5   \n",
      "BXD6                                  69.4  4.34281   5   \n",
      "\n",
      "                CD_SystolicBP_NIBP_[mmHg]      SE.2  N.2  \\\n",
      "@format=column                                             \n",
      "C57BL/6J                           117.00  4.140393    8   \n",
      "DBA/2J                             115.00  3.807887    8   \n",
      "BXD1                               115.40  5.887274    5   \n",
      "BXD2                               109.75  3.859512    4   \n",
      "BXD6                               102.60  3.264966    5   \n",
      "\n",
      "               HFD_SystolicBP_NIBP_[mmHg]     SE.3 N.3  \\\n",
      "@format=column                                           \n",
      "C57BL/6J                            111.5  5.48374   8   \n",
      "DBA/2J                                108  3.27327   8   \n",
      "BXD1                                104.6  5.06557   5   \n",
      "BXD2                                107.8      3.2   5   \n",
      "BXD6                                 96.2  4.35201   5   \n",
      "\n",
      "               CD_HeartRate_NIBP_[bpm]     SE.4 N.4 HFD_HeartRate_NIBP_[bpm]  \\\n",
      "@format=column                                                                 \n",
      "C57BL/6J                       716.125  9.78964   8                   697.25   \n",
      "DBA/2J                          702.25  6.81844   8                   688.25   \n",
      "BXD1                            653.75  16.7997   4                    652.2   \n",
      "BXD2                               626   9.0185   4                      653   \n",
      "BXD6                             634.6  11.1964   5                      660   \n",
      "\n",
      "                   SE.5 N.5  \n",
      "@format=column               \n",
      "C57BL/6J        5.89113   8  \n",
      "DBA/2J          7.84845   8  \n",
      "BXD1            27.3009   5  \n",
      "BXD2            3.61939   5  \n",
      "BXD6            4.37035   5  \n",
      "                CD_DiastolicBP_NIBP_[mmHg]        SE  N  \\\n",
      "@format=column                                            \n",
      "BXD95                               94.739  2.344000  8   \n",
      "BXD98                               74.600  2.600000  8   \n",
      "BXD99                               85.475  4.196000  8   \n",
      "BXD100                              68.670  3.383333  6   \n",
      "BXD101                              80.900  3.800000  8   \n",
      "\n",
      "               HFD_DiastolicBP_NIBP_[mmHg]     SE.1 N.1  \\\n",
      "@format=column                                            \n",
      "BXD95                                90.85      4.4   8   \n",
      "BXD98                                 76.8      4.2   8   \n",
      "BXD99                                98.49     3.29   8   \n",
      "BXD100                             59.7625  4.35541   8   \n",
      "BXD101                               82.99      2.4   8   \n",
      "\n",
      "                CD_SystolicBP_NIBP_[mmHg]      SE.2  N.2  \\\n",
      "@format=column                                             \n",
      "BXD95                             123.019  2.645400    8   \n",
      "BXD98                             104.600  1.800000    8   \n",
      "BXD99                             105.010  6.155940    8   \n",
      "BXD100                            104.300  2.333333    6   \n",
      "BXD101                            103.200  2.800000    8   \n",
      "\n",
      "               HFD_SystolicBP_NIBP_[mmHg]     SE.3 N.3  \\\n",
      "@format=column                                           \n",
      "BXD95                               120.8      5.9   8   \n",
      "BXD98                               103.6      3.7   8   \n",
      "BXD99                             117.655    2.528   8   \n",
      "BXD100                             99.385  4.11925   8   \n",
      "BXD101                            105.886      1.8   8   \n",
      "\n",
      "               CD_HeartRate_NIBP_[bpm]    SE.4 N.4 HFD_HeartRate_NIBP_[bpm]  \\\n",
      "@format=column                                                                \n",
      "BXD95                          680.959  26.579   8                    666.3   \n",
      "BXD98                            661.2     9.6   8                      621   \n",
      "BXD99                           676.58  8.8339   8                   643.89   \n",
      "BXD100                           792.8     3.7   6                    756.5   \n",
      "BXD101                           702.2     7.2   8                    691.4   \n",
      "\n",
      "                   SE.5 N.5  \n",
      "@format=column               \n",
      "BXD95               7.3   8  \n",
      "BXD98              13.3   8  \n",
      "BXD99             8.024   8  \n",
      "BXD100          7.76439   8  \n",
      "BXD101              5.9   8  \n",
      "               CD_DayRER_CLAMS_[ratio]          SE  N  \\\n",
      "@format=column                                          \n",
      "C57BL/6J                       0.88285  0.00692007  4   \n",
      "DBA/2J                         0.81775  0.00954956  4   \n",
      "BXD1                            0.8186   0.0240616  5   \n",
      "BXD2                           0.77775   0.0162859  4   \n",
      "BXD6                            0.8226   0.0144069  5   \n",
      "\n",
      "               HFD_DayRER_CLAMS_[ratio]        SE.1 N.1  \\\n",
      "@format=column                                            \n",
      "C57BL/6J                        0.76725  0.00502999   4   \n",
      "DBA/2J                         0.776925   0.0111938   4   \n",
      "BXD1                            0.75218  0.00825096   5   \n",
      "BXD2                              0.762  0.00976217   5   \n",
      "BXD6                             0.7662   0.0107396   5   \n",
      "\n",
      "               CD_NightRER_CLAMS_[ratio]       SE.2 N.2  \\\n",
      "@format=column                                            \n",
      "C57BL/6J                         0.93275  0.0166594   4   \n",
      "DBA/2J                           0.88225  0.0107827   4   \n",
      "BXD1                              0.8384  0.0128242   5   \n",
      "BXD2                             0.82025  0.0195123   4   \n",
      "BXD6                              0.8798  0.0198706   5   \n",
      "\n",
      "               HFD_NightRER_CLAMS_[ratio]  ...  N.28 VO2_LeanBWCor_Day_HFD  \\\n",
      "@format=column                             ...                               \n",
      "C57BL/6J                           0.7833  ...     4                  4197   \n",
      "DBA/2J                            0.78555  ...     4                  4368   \n",
      "BXD1                              0.75814  ...     5               3692.05   \n",
      "BXD2                               0.7726  ...     4               3958.36   \n",
      "BXD6                               0.7736  ...     5                     x   \n",
      "\n",
      "                  SE.29 N.29 VO2_LeanBWCor_Night_CD    SE.30 N.30  \\\n",
      "@format=column                                                      \n",
      "C57BL/6J             74    4                 3776.5  93.2343    4   \n",
      "DBA/2J              181    4                5164.09  74.0681    4   \n",
      "BXD1            140.808    5                3287.61  124.278    5   \n",
      "BXD2            82.9973    5                4074.05  222.708    4   \n",
      "BXD6                  x    x                3851.85  122.094    5   \n",
      "\n",
      "               VO2_LeanBWCor_Night_HFD    SE.31  N.31  \n",
      "@format=column                                         \n",
      "C57BL/6J                       4781.93  162.162     4  \n",
      "DBA/2J                          5200.6  217.084     4  \n",
      "BXD1                            4163.4  165.104     5  \n",
      "BXD2                           4427.68  123.677     5  \n",
      "BXD6                                 x        x     x  \n",
      "\n",
      "[5 rows x 96 columns]\n",
      "               CD_DayRER_CLAMS_[ratio]     SE  N HFD_DayRER_CLAMS_[ratio]  \\\n",
      "@format=column                                                              \n",
      "BXD95                            0.808   0.01  4                     0.64   \n",
      "BXD98                            0.748  0.011  5                    0.726   \n",
      "BXD99                            0.789  0.011  5                    0.757   \n",
      "BXD100                           0.822  0.042  3                    0.763   \n",
      "BXD101                               x      x  x                        x   \n",
      "\n",
      "                 SE.1 N.1 CD_NightRER_CLAMS_[ratio]   SE.2 N.2  \\\n",
      "@format=column                                                   \n",
      "BXD95           0.015   5                     0.887  0.017   4   \n",
      "BXD98           0.012   5                     0.801  0.014   5   \n",
      "BXD99           0.003   5                     0.831  0.012   5   \n",
      "BXD100          0.014   5                     0.883  0.055   3   \n",
      "BXD101              x   x                         x      x   x   \n",
      "\n",
      "               HFD_NightRER_CLAMS_[ratio]  ...  N.28 VO2_LeanBWCor_Day_HFD  \\\n",
      "@format=column                             ...                               \n",
      "BXD95                               0.654  ...     4                     x   \n",
      "BXD98                               0.751  ...     5               3755.44   \n",
      "BXD99                               0.768  ...     5               4295.68   \n",
      "BXD100                              0.776  ...     3               4201.78   \n",
      "BXD101                                  x  ...     x                     x   \n",
      "\n",
      "                  SE.29 N.29 VO2_LeanBWCor_Night_CD    SE.30 N.30  \\\n",
      "@format=column                                                      \n",
      "BXD95                 x    x                3860.71  126.193    4   \n",
      "BXD98           161.412    5                4324.05  157.046    5   \n",
      "BXD99           130.081    5                 4324.2   136.43    5   \n",
      "BXD100          153.379    5                4045.02  76.4332    3   \n",
      "BXD101                x    x                      x        x    x   \n",
      "\n",
      "               VO2_LeanBWCor_Night_HFD    SE.31  N.31  \n",
      "@format=column                                         \n",
      "BXD95                                x        x     x  \n",
      "BXD98                          4532.18  148.812     5  \n",
      "BXD99                          4678.83  128.332     5  \n",
      "BXD100                         4967.98  174.361     5  \n",
      "BXD101                               x        x     x  \n",
      "\n",
      "[5 rows x 96 columns]\n",
      "                CD_Glucose0min_OGTT_[mg/dL]         SE  N  \\\n",
      "@format=column                                              \n",
      "C57BL/6J                              103.5   2.870000  4   \n",
      "DBA/2J                                 86.5   4.870000  4   \n",
      "BXD1                                   72.8   3.839000  5   \n",
      "BXD2                                  115.0   3.027650  4   \n",
      "BXD6                                  102.0  10.583005  5   \n",
      "\n",
      "               HFD_Glucose0min_OGTT_[mg/dL]     SE.1 N.1  \\\n",
      "@format=column                                             \n",
      "C57BL/6J                                163      6.1   4   \n",
      "DBA/2J                                132.7      3.5   3   \n",
      "BXD1                                   93.2  8.09568   5   \n",
      "BXD2                                  146.6  9.31987   5   \n",
      "BXD6                                    116  10.4403   5   \n",
      "\n",
      "                CD_Glucose15min_OGTT_[mg/dL]       SE.2  N.2  \\\n",
      "@format=column                                                 \n",
      "C57BL/6J                              294.50  29.130000    4   \n",
      "DBA/2J                                186.00  25.650000    4   \n",
      "BXD1                                  241.80  15.850000    5   \n",
      "BXD2                                  235.75  19.567724    4   \n",
      "BXD6                                  277.80  29.821804    5   \n",
      "\n",
      "               HFD_Glucose15min_OGTT_[mg/dL]  ...  N.36 OGTT_HFD_Homa_IR  \\\n",
      "@format=column                                ...                          \n",
      "C57BL/6J                               349.5  ...     4          23.6735   \n",
      "DBA/2J                                   256  ...     4          17.6471   \n",
      "BXD1                                     306  ...     5          1.47877   \n",
      "BXD2                                   268.6  ...     4          11.1988   \n",
      "BXD6                                   321.8  ...     5          3.18102   \n",
      "\n",
      "                   SE.37  N.37  OGTT_CD_Homa_B      SE.38 N.38  \\\n",
      "@format=column                                                   \n",
      "C57BL/6J         1.70105     4        3.707027   2.149357    4   \n",
      "DBA/2J          0.329625     3       45.419218  17.285916    4   \n",
      "BXD1            0.228293     5       18.120000  14.360111    4   \n",
      "BXD2              2.8511     5        2.571795   0.871932    4   \n",
      "BXD6             1.05471     5        2.959208   1.117116    5   \n",
      "\n",
      "               OGTT_HFD_Homa_B     SE.39  N.39  \n",
      "@format=column                                  \n",
      "C57BL/6J               12.1832   1.76617     4  \n",
      "DBA/2J                 15.6427   1.37484     3  \n",
      "BXD1                   6.27914   2.16025     5  \n",
      "BXD2                   6.90086  0.812889     5  \n",
      "BXD6                   7.77883   4.82073     5  \n",
      "\n",
      "[5 rows x 120 columns]\n",
      "                CD_Glucose0min_OGTT_[mg/dL]     SE  N  \\\n",
      "@format=column                                          \n",
      "BXD95                                 123.0  25.60  4   \n",
      "BXD98                                 107.2   2.80  5   \n",
      "BXD99                                  84.8   4.20  5   \n",
      "BXD100                                121.0   6.66  3   \n",
      "BXD101                                 68.0   2.45  4   \n",
      "\n",
      "               HFD_Glucose0min_OGTT_[mg/dL]   SE.1 N.1  \\\n",
      "@format=column                                           \n",
      "BXD95                                 131.6  12.77   5   \n",
      "BXD98                                   158      7   5   \n",
      "BXD99                                 111.6    9.6   5   \n",
      "BXD100                                  163  13.51   5   \n",
      "BXD101                                   94      9   4   \n",
      "\n",
      "                CD_Glucose15min_OGTT_[mg/dL]   SE.2  N.2  \\\n",
      "@format=column                                             \n",
      "BXD95                                  270.0  21.90    4   \n",
      "BXD98                                  324.0  24.00    5   \n",
      "BXD99                                  214.0  18.80    5   \n",
      "BXD100                                 362.0  58.94    3   \n",
      "BXD101                                 310.0   9.96    4   \n",
      "\n",
      "               HFD_Glucose15min_OGTT_[mg/dL]  ...  N.36 OGTT_HFD_Homa_IR  \\\n",
      "@format=column                                ...                          \n",
      "BXD95                                  329.6  ...     4          7.18258   \n",
      "BXD98                                    439  ...     5          9.71902   \n",
      "BXD99                                    319  ...     5          4.48371   \n",
      "BXD100                                 352.4  ...     3          19.6894   \n",
      "BXD101                                   213  ...     4          4.17889   \n",
      "\n",
      "                   SE.37  N.37  OGTT_CD_Homa_B      SE.38 N.38  \\\n",
      "@format=column                                                   \n",
      "BXD95            1.85982     5        1.337554   0.613242    4   \n",
      "BXD98           0.618869     5        0.091915   0.091915    5   \n",
      "BXD99           0.680541     5        4.045335   2.568128    5   \n",
      "BXD100           6.50373     5        8.962191   4.769810    3   \n",
      "BXD101          0.773473     4       24.661091  11.889476    3   \n",
      "\n",
      "               OGTT_HFD_Homa_B     SE.39  N.39  \n",
      "@format=column                                  \n",
      "BXD95                  5.61423    1.9166     5  \n",
      "BXD98                  5.43988  0.680327     5  \n",
      "BXD99                  7.31882   1.17615     5  \n",
      "BXD100                 9.20613   1.91607     5  \n",
      "BXD101                 13.3878   2.34689     4  \n",
      "\n",
      "[5 rows x 120 columns]\n"
     ]
    },
    {
     "name": "stdout",
     "output_type": "stream",
     "text": [
      "                CD_0H_ColdTest_[°C]        SE  N HFD_0H_ColdTest_[°C]  \\\n",
      "@format=column                                                          \n",
      "C57BL/6J                     38.160  0.258070  5                38.22   \n",
      "DBA/2J                       37.850  0.396863  4                38.08   \n",
      "BXD1                         37.580  0.199000  5                37.22   \n",
      "BXD2                         36.475  0.225000  4                37.02   \n",
      "BXD6                         36.860  0.163095  5                37.08   \n",
      "\n",
      "                     SE.1 N.1  CD_1H_ColdTest_[°C]      SE.2  N.2  \\\n",
      "@format=column                                                      \n",
      "C57BL/6J          0.20347   5                36.84  0.326497    5   \n",
      "DBA/2J           0.267208   5                36.95  0.320156    4   \n",
      "BXD1            0.0734847   5                36.58  0.190788    5   \n",
      "BXD2                 0.12   5                36.45  0.232737    4   \n",
      "BXD6             0.182757   5                35.92  0.315278    5   \n",
      "\n",
      "               HFD_1H_ColdTest_[°C]  ...  N.18 HFD_Decrease_3-6H_[%]  \\\n",
      "@format=column                       ...                               \n",
      "C57BL/6J                         37  ...     5                1.3355   \n",
      "DBA/2J                        37.38  ...     4               2.69268   \n",
      "BXD1                          36.44  ...     5               1.31286   \n",
      "BXD2                          36.64  ...     4            -0.0726933   \n",
      "BXD6                          36.14  ...     5               2.19872   \n",
      "\n",
      "                   SE.19  N.19  HFD/CD_0H_[ratio]       SE.20 N.20  \\\n",
      "@format=column                                                       \n",
      "C57BL/6J        0.709101     5            1.00157  0.00533202    5   \n",
      "DBA/2J          0.852707     5            1.00608  0.00705965    4   \n",
      "BXD1            0.872869     5            0.99042           x    5   \n",
      "BXD2            0.906294     5            1.01494           x    4   \n",
      "BXD6             1.21391     5            1.00597           x    5   \n",
      "\n",
      "               HFD/CD_6H_[ratio]       SE.21  N.21  \n",
      "@format=column                                      \n",
      "C57BL/6J                 1.02265  0.00629278     5  \n",
      "DBA/2J                  0.991316  0.00732479     4  \n",
      "BXD1                     1.04435           x     5  \n",
      "BXD2                       1.005           x     4  \n",
      "BXD6                    0.966063           x     5  \n",
      "\n",
      "[5 rows x 66 columns]\n",
      "                CD_0H_ColdTest_[°C]    SE  N HFD_0H_ColdTest_[°C]   SE.1 N.1  \\\n",
      "@format=column                                                                 \n",
      "BXD95                         38.00  0.25  4                 36.9  0.084   5   \n",
      "BXD98                         36.15  0.39  4                37.08   0.12   5   \n",
      "BXD99                         37.68  0.29  5                 37.8   0.14   5   \n",
      "BXD100                        37.93  0.23  3                 37.9   0.34   5   \n",
      "BXD101                        36.60  0.30  4                 37.1   0.05   4   \n",
      "\n",
      "                CD_1H_ColdTest_[°C]  SE.2  N.2 HFD_1H_ColdTest_[°C]  ...   \\\n",
      "@format=column                                                       ...    \n",
      "BXD95                         36.00  0.21    4                35.18  ...    \n",
      "BXD98                         35.15  0.21    4                35.24  ...    \n",
      "BXD99                         36.60  0.21    5                36.32  ...    \n",
      "BXD100                        38.03  0.45    3                   37  ...    \n",
      "BXD101                        36.90  0.20    4                 35.7  ...    \n",
      "\n",
      "               N.18 HFD_Decrease_3-6H_[%]  SE.19  N.19  HFD/CD_0H_[ratio]  \\\n",
      "@format=column                                                              \n",
      "BXD95             4                 -1.78   0.51     5           0.971053   \n",
      "BXD98             4                  2.61   1.91     5            1.02573   \n",
      "BXD99             5                  0.98   1.68     5            1.00318   \n",
      "BXD100            3                  1.96    1.1     5           0.999209   \n",
      "BXD101            4                   2.1   0.94     4            1.01366   \n",
      "\n",
      "               SE.20 N.20 HFD/CD_6H_[ratio]  SE.21  N.21  \n",
      "@format=column                                            \n",
      "BXD95              x    4           0.99255      x     4  \n",
      "BXD98              x    4           1.01251      x     4  \n",
      "BXD99           0.01    5          0.963667   0.02     5  \n",
      "BXD100             x    3           1.00758      x     3  \n",
      "BXD101             x    4          0.982857      x     4  \n",
      "\n",
      "[5 rows x 66 columns]\n",
      "                CD_24hXYTot_TSE_[#/hr]          SE  N HFD_24hXYTot_TSE_[#/hr]  \\\n",
      "@format=column                                                                  \n",
      "C57BL/6J                    4764.00000  291.000000  4                    2704   \n",
      "DBA/2J                      4471.00000  292.000000  3                    4114   \n",
      "BXD1                        4032.00000  329.000000  5                    3366   \n",
      "BXD2                        3539.90625  457.541726  4                 2985.99   \n",
      "BXD6                        3046.00000  187.880705  5                    2532   \n",
      "\n",
      "                   SE.1 N.1  CD_DayXYTot_TSE_[#/hr]        SE.2  N.2  \\\n",
      "@format=column                                                         \n",
      "C57BL/6J            296   4                  3644.0  341.000000    4   \n",
      "DBA/2J              489   5                  2058.0  198.000000    3   \n",
      "BXD1                428   5                  2460.0  144.000000    5   \n",
      "BXD2            209.391   5                  2322.0  213.665668    4   \n",
      "BXD6            208.727   5                  2214.0  415.782980    5   \n",
      "\n",
      "               HFD_DayXYTot_TSE_[#/hr] ...  N.16  \\\n",
      "@format=column                         ...         \n",
      "C57BL/6J                          2212 ...     4   \n",
      "DBA/2J                            1938 ...     3   \n",
      "BXD1                              2085 ...     5   \n",
      "BXD2                           2111.68 ...     4   \n",
      "BXD6                              1597 ...     5   \n",
      "\n",
      "               Kcal_Intake_HFD_24H_[(g_food*5.1kcal/g)/g_BW*100]    SE.17  \\\n",
      "@format=column                                                              \n",
      "C57BL/6J                                                 49.9193  6.20819   \n",
      "DBA/2J                                                   39.6131   6.3466   \n",
      "BXD1                                                     25.3686  1.55953   \n",
      "BXD2                                                     33.7976  8.03607   \n",
      "BXD6                                                     23.9672  1.99994   \n",
      "\n",
      "                N.17  BodyWeight_TSE_CD     SE.18 N.18 BodyWeight_TSE_HFD  \\\n",
      "@format=column                                                              \n",
      "C57BL/6J           4            32.0800  0.363000    4              46.66   \n",
      "DBA/2J             5            33.0900  1.910000    3              44.53   \n",
      "BXD1               5            30.3040  1.160679    5             40.934   \n",
      "BXD2               2            37.8825  0.705908    4             46.142   \n",
      "BXD6               5            34.1840  1.436390    5              47.28   \n",
      "\n",
      "                  SE.19 N.19  \n",
      "@format=column                \n",
      "C57BL/6J           1.33    4  \n",
      "DBA/2J             2.26    5  \n",
      "BXD1            1.93684    5  \n",
      "BXD2             2.7964    5  \n",
      "BXD6            1.92208    5  \n",
      "\n",
      "[5 rows x 60 columns]\n",
      "                CD_24hXYTot_TSE_[#/hr]     SE  N HFD_24hXYTot_TSE_[#/hr] SE.1  \\\n",
      "@format=column                                                                  \n",
      "BXD95                           3406.0  281.0  4                    2851  305   \n",
      "BXD98                           3785.0  192.0  4                    2931   71   \n",
      "BXD99                           4548.0  297.0  5                    3905  377   \n",
      "BXD100                          4149.0  990.0  3                    3302  426   \n",
      "BXD101                          5817.0  359.0  4                    3666  301   \n",
      "\n",
      "               N.1  CD_DayXYTot_TSE_[#/hr]   SE.2  N.2  \\\n",
      "@format=column                                           \n",
      "BXD95            5                  2481.0  120.0    4   \n",
      "BXD98            5                  2372.0   26.0    4   \n",
      "BXD99            5                  2688.0  354.0    5   \n",
      "BXD100           5                  1981.0  256.0    3   \n",
      "BXD101           4                  3302.0  285.0    4   \n",
      "\n",
      "               HFD_DayXYTot_TSE_[#/hr] ...  N.16  \\\n",
      "@format=column                         ...         \n",
      "BXD95                             2053 ...     4   \n",
      "BXD98                             2196 ...     4   \n",
      "BXD99                             2900 ...     5   \n",
      "BXD100                            2303 ...     3   \n",
      "BXD101                            2100 ...     4   \n",
      "\n",
      "               Kcal_Intake_HFD_24H_[(g_food*5.1kcal/g)/g_BW*100]    SE.17  \\\n",
      "@format=column                                                              \n",
      "BXD95                                                    24.7388  1.55795   \n",
      "BXD98                                                    33.5965  2.25349   \n",
      "BXD99                                                    40.7678  14.1767   \n",
      "BXD100                                                   34.0984  6.39789   \n",
      "BXD101                                                   36.1735        x   \n",
      "\n",
      "                N.17  BodyWeight_TSE_CD SE.18 N.18 BodyWeight_TSE_HFD SE.19  \\\n",
      "@format=column                                                                \n",
      "BXD95              5              35.32  2.12    4              52.32  2.31   \n",
      "BXD98              5              35.60  1.49    4              51.77  1.11   \n",
      "BXD99              2              39.91  0.44    5              52.42  2.01   \n",
      "BXD100             2              39.40  6.66    3               55.1  1.77   \n",
      "BXD101             1              33.83  1.91    4              52.24  1.13   \n",
      "\n",
      "               N.19  \n",
      "@format=column       \n",
      "BXD95             5  \n",
      "BXD98             5  \n",
      "BXD99             5  \n",
      "BXD100            5  \n",
      "BXD101            4  \n",
      "\n",
      "[5 rows x 60 columns]\n",
      "                CD_Dist_pre_[m]         SE  N HFD_Dist_pre_[m]     SE.1 N.1  \\\n",
      "@format=column                                                                \n",
      "C57BL/6J                437.250  48.880000  4           236.25   41.199   4   \n",
      "DBA/2J                  648.667  16.820000  3            395.8    45.92   5   \n",
      "BXD1                    354.750  26.392471  4            138.4  30.1108   5   \n",
      "BXD2                    275.500  31.739828  4              199  25.6729   5   \n",
      "BXD6                    376.400  20.578144  5            226.8  11.8338   5   \n",
      "\n",
      "                CD_Dist_post_[m]        SE.2  N.2 HFD_Dist_post_[m] ...  N.24  \\\n",
      "@format=column                                                      ...         \n",
      "C57BL/6J                  614.25   49.490000    4            478.75 ...     4   \n",
      "DBA/2J                   1024.33  125.690000    3              1215 ...     3   \n",
      "BXD1                      537.00   80.138422    4             377.6 ...     5   \n",
      "BXD2                      387.25   41.245959    4             318.8 ...     4   \n",
      "BXD6                      518.60   22.999130    5             409.8 ...     5   \n",
      "\n",
      "               HFDdeltaVO2m_Improve [mL/kg/min]    SE.25  N.25  \\\n",
      "@format=column                                                   \n",
      "C57BL/6J                                     12  2.19848     4   \n",
      "DBA/2J                                     35.2  7.57892     5   \n",
      "BXD1                                         27  3.67423     5   \n",
      "BXD2                                          9  1.67332     5   \n",
      "BXD6                                        7.8  3.91663     5   \n",
      "\n",
      "                CDdeltaRERbas_improve       SE.26 N.26 HFDdeltaRERbas_Improve  \\\n",
      "@format=column                                                                  \n",
      "C57BL/6J                     -0.00905  0.00835479    4                0.00375   \n",
      "DBA/2J                          0.024       0.008    3                0.00262   \n",
      "BXD1                           0.0422   0.0307334    5                0.01035   \n",
      "BXD2                           0.0145  0.00517204    4                 0.0092   \n",
      "BXD6                         -0.01494   0.0148069    5                -0.0113   \n",
      "\n",
      "                     SE.27 N.27  \n",
      "@format=column                   \n",
      "C57BL/6J         0.0128801    4  \n",
      "DBA/2J          0.00989233    5  \n",
      "BXD1            0.00332754    5  \n",
      "BXD2            0.00714423    5  \n",
      "BXD6              0.013568    5  \n",
      "\n",
      "[5 rows x 84 columns]\n",
      "                CD_Dist_pre_[m]      SE  N HFD_Dist_pre_[m]   SE.1 N.1  \\\n",
      "@format=column                                                           \n",
      "BXD95                     562.0  68.400  4            213.6   38.8   5   \n",
      "BXD98                     585.0  81.100  4              207     27   5   \n",
      "BXD99                     413.6  21.100  5            358.8   33.9   5   \n",
      "BXD100                    552.2  33.711  3           441.08  71.69   5   \n",
      "BXD101                    321.0  26.900  4              245     34   4   \n",
      "\n",
      "                CD_Dist_post_[m]    SE.2  N.2 HFD_Dist_post_[m] ...  N.24  \\\n",
      "@format=column                                                  ...         \n",
      "BXD95                      946.0   99.18    4             807.4 ...     4   \n",
      "BXD98                      897.0   71.20    4               399 ...     4   \n",
      "BXD99                     1158.6   67.00    5             929.6 ...     5   \n",
      "BXD100                    1016.9  161.01    3            686.84 ...     3   \n",
      "BXD101                     989.0  228.00    4             790.8 ...     4   \n",
      "\n",
      "               HFDdeltaVO2m_Improve [mL/kg/min]    SE.25  N.25  \\\n",
      "@format=column                                                   \n",
      "BXD95                                      16.5     8.57     5   \n",
      "BXD98                                       4.5      1.5     4   \n",
      "BXD99                                      26.2     5.86     5   \n",
      "BXD100                                      8.2  7.81281     5   \n",
      "BXD101                                     15.8      4.6     4   \n",
      "\n",
      "                CDdeltaRERbas_improve    SE.26 N.26 HFDdeltaRERbas_Improve  \\\n",
      "@format=column                                                               \n",
      "BXD95                          0.0363    0.009    4                 -0.002   \n",
      "BXD98                         -0.0163   0.0188    4                0.00525   \n",
      "BXD99                         0.00672   0.0096    5               -0.03172   \n",
      "BXD100                         0.0172  0.01213    3               -0.02762   \n",
      "BXD101                        -0.0331    0.021    4                 -0.028   \n",
      "\n",
      "                     SE.27 N.27  \n",
      "@format=column                   \n",
      "BXD95                 0.01    5  \n",
      "BXD98               0.0019    4  \n",
      "BXD99              0.01254    5  \n",
      "BXD100          0.00586655    5  \n",
      "BXD101               0.007    4  \n",
      "\n",
      "[5 rows x 84 columns]\n",
      "                CD_DayRun_ActivityWheel_[km]        SE  N  \\\n",
      "@format=column                                              \n",
      "C57BL/6J                            0.110775  0.044505  4   \n",
      "DBA/2J                              0.000833  0.000833  3   \n",
      "BXD1                                0.213000  0.127000  5   \n",
      "BXD2                                0.064941  0.029647  4   \n",
      "BXD6                                0.117778  0.102737  5   \n",
      "\n",
      "               HFD_DayRun_ActivityWheel_[km]       SE.1 N.1  \\\n",
      "@format=column                                                \n",
      "C57BL/6J                            0.258075  0.0570952   4   \n",
      "DBA/2J                                0.8074   0.240083   5   \n",
      "BXD1                                   0.337      0.129   5   \n",
      "BXD2                                  0.1103  0.0446298   5   \n",
      "BXD6                                0.266555  0.0514909   5   \n",
      "\n",
      "                CD_NightRun_ActivityWheel_[km]      SE.2  N.2  \\\n",
      "@format=column                                                  \n",
      "C57BL/6J                              6.765900  0.771588    4   \n",
      "DBA/2J                                3.390467  1.667547    3   \n",
      "BXD1                                  2.076000  0.836000    5   \n",
      "BXD2                                  0.408927  0.137838    4   \n",
      "BXD6                                  3.084563  1.170924    5   \n",
      "\n",
      "               HFD_NightRun_ActivityWheel_[km]      SE.3 N.3  \\\n",
      "@format=column                                                 \n",
      "C57BL/6J                               3.81537  0.691243   4   \n",
      "DBA/2J                                 7.37066  0.577015   5   \n",
      "BXD1                                     1.144      0.17   5   \n",
      "BXD2                                   2.05035  0.861755   5   \n",
      "BXD6                                  0.863286  0.122457   5   \n",
      "\n",
      "                CD_24hRun_ActivityWheel_[km]      SE.4  N.4  \\\n",
      "@format=column                                                \n",
      "C57BL/6J                            6.876650  0.759657    4   \n",
      "DBA/2J                              3.651333  1.816531    3   \n",
      "BXD1                                2.288600  0.823450    5   \n",
      "BXD2                                0.473750  0.157773    4   \n",
      "BXD6                                3.200800  1.178263    5   \n",
      "\n",
      "               HFD_24hRun_ActivityWheel_[km]      SE.5 N.5  \n",
      "@format=column                                              \n",
      "C57BL/6J                             4.07343  0.647422   4  \n",
      "DBA/2J                               8.47794  0.711399   5  \n",
      "BXD1                                   1.488  0.274661   5  \n",
      "BXD2                                  2.1588  0.868721   5  \n",
      "BXD6                                   1.127  0.164309   5  \n",
      "                CD_DayRun_ActivityWheel_[km]        SE  N  \\\n",
      "@format=column                                              \n",
      "BXD95                               0.350000  0.146000  4   \n",
      "BXD98                               0.053000  0.030000  4   \n",
      "BXD99                               1.020000  0.170000  4   \n",
      "BXD100                              0.376867  0.355367  3   \n",
      "BXD101                              0.114000  0.069500  2   \n",
      "\n",
      "               HFD_DayRun_ActivityWheel_[km]      SE.1 N.1  \\\n",
      "@format=column                                               \n",
      "BXD95                                 0.4881     0.286   5   \n",
      "BXD98                                  0.095     0.053   5   \n",
      "BXD99                                   0.26      0.12   5   \n",
      "BXD100                               0.16782  0.109459   5   \n",
      "BXD101                                  0.04      0.02   4   \n",
      "\n",
      "                CD_NightRun_ActivityWheel_[km]      SE.2  N.2  \\\n",
      "@format=column                                                  \n",
      "BXD95                                 2.450000  0.480000    4   \n",
      "BXD98                                 5.170000  1.000000    4   \n",
      "BXD99                                 5.490000  0.950000    4   \n",
      "BXD100                                2.444067  1.249671    3   \n",
      "BXD101                                8.347000  0.511000    2   \n",
      "\n",
      "               HFD_NightRun_ActivityWheel_[km]     SE.3 N.3  \\\n",
      "@format=column                                                \n",
      "BXD95                                     2.93     1.34   5   \n",
      "BXD98                                     1.65     0.19   5   \n",
      "BXD99                                     7.01    0.825   5   \n",
      "BXD100                                 5.74158  1.83656   5   \n",
      "BXD101                                   4.744     2.21   4   \n",
      "\n",
      "                CD_24hRun_ActivityWheel_[km]      SE.4  N.4  \\\n",
      "@format=column                                                \n",
      "BXD95                               2.800000  0.500000    4   \n",
      "BXD98                               5.220000  0.980000    4   \n",
      "BXD99                               6.420000  0.810000    4   \n",
      "BXD100                              2.820967  1.510845    3   \n",
      "BXD101                              8.460000  0.580000    2   \n",
      "\n",
      "               HFD_24hRun_ActivityWheel_[km]     SE.5 N.5  \n",
      "@format=column                                             \n",
      "BXD95                                   3.42      1.5   5  \n",
      "BXD98                                   1.75     0.17   5  \n",
      "BXD99                                   7.19     0.88   5  \n",
      "BXD100                                5.9094  1.93933   5  \n",
      "BXD101                                 4.781      2.2   4  \n"
     ]
    },
    {
     "name": "stdout",
     "output_type": "stream",
     "text": [
      "                CD_Liver_[g]         SE  N HFD_Liver_[g]       SE.1 N.1  \\\n",
      "@format=column                                                            \n",
      "C57BL/6J            1.578600   0.099767  5       2.27116   0.328277   5   \n",
      "DBA/2J              1.382025    0.09536  4       1.94682    0.07836   5   \n",
      "BXD1                1.087000      0.038  5       1.02814  0.0540652   5   \n",
      "BXD2                1.550167  0.0579666  3       1.93922   0.197506   5   \n",
      "BXD6                1.401600  0.0555928  5       1.47584   0.120069   5   \n",
      "\n",
      "               CD_Heart_[g]        SE.2  N.2 HFD_Heart_[g]  ...  N.28  \\\n",
      "@format=column                                              ...         \n",
      "C57BL/6J            0.23876    0.008329    5       0.23134  ...     5   \n",
      "DBA/2J              0.20615     0.00621    4       0.23438  ...     4   \n",
      "BXD1                 0.1527  0.00751053    5       0.15648  ...     5   \n",
      "BXD2               0.142667   0.0116511    3        0.1838  ...     4   \n",
      "BXD6                 0.1795   0.0233335    5       0.19292  ...     5   \n",
      "\n",
      "               HFD_Gastrocnemius_[%]      SE.29 N.29  CD_Soleus_[%]  \\\n",
      "@format=column                                                        \n",
      "C57BL/6J                    0.735447  0.0223493    5      0.0544374   \n",
      "DBA/2J                      0.633948  0.0146328    5      0.0441582   \n",
      "BXD1                        0.785908  0.0258706    5         0.0434   \n",
      "BXD2                        0.667331  0.0480604    5              x   \n",
      "BXD6                        0.625893  0.0361178    5      0.0557263   \n",
      "\n",
      "                     SE.30 N.30 HFD_Soleus_[%]   SE.31  N.31  \n",
      "@format=column                                                \n",
      "C57BL/6J           0.00387    5         0.0491  0.0038     5  \n",
      "DBA/2J             0.00186    4         0.0382  0.0012     5  \n",
      "BXD1                 0.001    5         0.0441  0.0017     5  \n",
      "BXD2                     x    x              x       x     x  \n",
      "BXD6            0.00342969    5              x       x     x  \n",
      "\n",
      "[5 rows x 96 columns]\n",
      "                CD_Liver_[g]      SE  N HFD_Liver_[g]    SE.1 N.1  \\\n",
      "@format=column                                                      \n",
      "BXD95                 1.2931  0.0704  4         1.753    0.16   5   \n",
      "BXD98                 1.3610   0.096  4         3.648    0.23   5   \n",
      "BXD99                 1.3018   0.059  5        2.1378  0.3237   5   \n",
      "BXD100                1.6990  0.2566  3       3.10442  0.3405   5   \n",
      "BXD101                1.2991   0.072  4       2.63445   0.177   4   \n",
      "\n",
      "               CD_Heart_[g]      SE.2  N.2 HFD_Heart_[g]  ...  N.28  \\\n",
      "@format=column                                            ...         \n",
      "BXD95               0.14598    0.0089    4        0.1791  ...     4   \n",
      "BXD98                 0.168    0.0057    4         0.192  ...     4   \n",
      "BXD99                 0.201  0.004855    5       0.21178  ...     5   \n",
      "BXD100              0.21366   0.02292    3       0.24656  ...     3   \n",
      "BXD101              0.17245   0.00766    4       0.19115  ...     3   \n",
      "\n",
      "               HFD_Gastrocnemius_[%]      SE.29 N.29  CD_Soleus_[%]    SE.30  \\\n",
      "@format=column                                                                 \n",
      "BXD95                         0.7892      0.033    5        0.05365  0.00625   \n",
      "BXD98                          0.601      0.023    5          0.055   0.0041   \n",
      "BXD99                       0.658065  0.0240553    5         0.0651   0.0019   \n",
      "BXD100                      0.664247  0.0279034    5         0.0448   0.0037   \n",
      "BXD101                        0.6265      0.024    4         0.0451  0.00284   \n",
      "\n",
      "               N.30 HFD_Soleus_[%]    SE.31  N.31  \n",
      "@format=column                                     \n",
      "BXD95             4           0.05   0.0031     5  \n",
      "BXD98             4         0.0473   0.0016     5  \n",
      "BXD99             5         0.0452  0.00198     5  \n",
      "BXD100            3         0.0369   0.0018     5  \n",
      "BXD101            4         0.0377   0.0029     4  \n",
      "\n",
      "[5 rows x 96 columns]\n",
      "               CD_Glucose_[mmol/L]        SE  N HFD_Glucose_[mmol/L]     SE.1  \\\n",
      "@format=column                                                                  \n",
      "C57BL/6J                      15.1   0.61101  3                21.46  1.34149   \n",
      "DBA/2J                       15.35  0.417333  4                16.38  1.26941   \n",
      "BXD1                           8.9   1.33154  5                13.92  2.29399   \n",
      "BXD2                             x         x  x                    x        x   \n",
      "BXD6                        14.975   1.46138  4                12.92  1.10743   \n",
      "\n",
      "               N.1 CD_Cholesterol_[mmol/L]      SE.2  N.2  \\\n",
      "@format=column                                              \n",
      "C57BL/6J         5                 3.66667  0.218581    3   \n",
      "DBA/2J           5                    3.55  0.170783    4   \n",
      "BXD1             5                    2.92    0.1772    5   \n",
      "BXD2             x                       x         x    0   \n",
      "BXD6             5                   2.725  0.170171    4   \n",
      "\n",
      "               HFD_Cholesterol_[mmol/L] ...  N.48 HFD_IL6_[pg/mL]     SE.49  \\\n",
      "@format=column                          ...                                   \n",
      "C57BL/6J                            5.6 ...     5            6.92  0.666093   \n",
      "DBA/2J                             4.44 ...     4            6.95   1.56276   \n",
      "BXD1                                3.2 ...     x               x         x   \n",
      "BXD2                                  x ...     x               x         x   \n",
      "BXD6                               3.66 ...     x               x         x   \n",
      "\n",
      "               N.49  HFD_IL18_[pg/mL]  SE.50 N.50 HFD_RANTES_[pg/mL] SE.51  \\\n",
      "@format=column                                                               \n",
      "C57BL/6J          5            351.28   99.4    5              9.312   3.5   \n",
      "DBA/2J            4             724.5  136.4    4              11.35  1.99   \n",
      "BXD1              x                 x      x    x                  x     x   \n",
      "BXD2              x                 x      x    x                  x     x   \n",
      "BXD6              x                 x      x    x                  x     x   \n",
      "\n",
      "               N.51  \n",
      "@format=column       \n",
      "C57BL/6J          5  \n",
      "DBA/2J            4  \n",
      "BXD1              x  \n",
      "BXD2              x  \n",
      "BXD6              x  \n",
      "\n",
      "[5 rows x 156 columns]\n",
      "               CD_Glucose_[mmol/L]        SE  N HFD_Glucose_[mmol/L]     SE.1  \\\n",
      "@format=column                                                                  \n",
      "BXD95                         15.9      1.07  4                 15.5     2.28   \n",
      "BXD98                        19.03      1.11  3                15.76     1.24   \n",
      "BXD99                         14.3      2.12  5                19.66     1.25   \n",
      "BXD100                     16.6333  0.185592  3                17.92  1.80649   \n",
      "BXD101                        17.4      1.04  4                11.83     1.22   \n",
      "\n",
      "               N.1 CD_Cholesterol_[mmol/L]     SE.2  N.2  \\\n",
      "@format=column                                             \n",
      "BXD95            4                   4.075    0.307    4   \n",
      "BXD98            5                       3     0.35    3   \n",
      "BXD99            5                     3.3      0.1    5   \n",
      "BXD100           5                     4.6  0.34641    3   \n",
      "BXD101           4                    3.48     0.08    4   \n",
      "\n",
      "               HFD_Cholesterol_[mmol/L] ...  N.48 HFD_IL6_[pg/mL] SE.49 N.49  \\\n",
      "@format=column                          ...                                    \n",
      "BXD95                             5.225 ...     x               x     x    x   \n",
      "BXD98                               6.8 ...     5            4.37  0.55    5   \n",
      "BXD99                              5.12 ...     5             2.8     0    5   \n",
      "BXD100                             6.52 ...     4            3.38  0.42    4   \n",
      "BXD101                             5.03 ...     x               x     x    x   \n",
      "\n",
      "                HFD_IL18_[pg/mL]  SE.50 N.50 HFD_RANTES_[pg/mL] SE.51 N.51  \n",
      "@format=column                                                              \n",
      "BXD95                          x      x    x                  x     x    x  \n",
      "BXD98                     1008.8  735.4    5              12.69  2.84    5  \n",
      "BXD99                      643.4  141.5    5               8.17   1.6    5  \n",
      "BXD100                     434.2  138.4    4               6.89  1.45    4  \n",
      "BXD101                         x      x    x                  x     x    x  \n",
      "\n",
      "[5 rows x 156 columns]\n",
      "               CD_RBC.TotalRedBloodCells_[#*10^6/uL]      SE  N  \\\n",
      "@format=column                                                    \n",
      "C57BL/6J                                        9.38  0.1483  3   \n",
      "DBA/2J                                        10.185   0.243  4   \n",
      "BXD1                                           10.66    0.16  3   \n",
      "BXD2                                               x       x  x   \n",
      "BXD6                                           10.94    0.14  2   \n",
      "\n",
      "               HFD_RBC.TotalRedBloodCells_[#*10^6/uL]      SE.1 N.1  \\\n",
      "@format=column                                                        \n",
      "C57BL/6J                                         8.88      0.26   3   \n",
      "DBA/2J                                          9.256     0.446   5   \n",
      "BXD1                                             9.99     0.177   4   \n",
      "BXD2                                                x         x   x   \n",
      "BXD6                                            10.46  0.129615   5   \n",
      "\n",
      "               CD_%RBCm.MatureRBC_[%]   SE.2 N.2 HFD_%RBCm.MatureRBC_[%] ...   \\\n",
      "@format=column                                                           ...    \n",
      "C57BL/6J                            x      x   x                       x ...    \n",
      "DBA/2J                              x      x   x                       x ...    \n",
      "BXD1                             97.4  0.115   3                   97.43 ...    \n",
      "BXD2                                x      x   x                       x ...    \n",
      "BXD6                            98.15   0.45   2                    97.7 ...    \n",
      "\n",
      "               N.80 HFD_#BASO.Basophil_[#*10^3/µL]     SE.81 N.81  \\\n",
      "@format=column                                                      \n",
      "C57BL/6J          5                            0.3      0.01    3   \n",
      "DBA/2J            4                          0.006  0.002449    5   \n",
      "BXD1              3                              0         0    0   \n",
      "BXD2              x                              x         x    x   \n",
      "BXD6              2                          0.004     0.004    5   \n",
      "\n",
      "               CD_#LUC.LargeUnknownCells_[#*10^3/µL]   SE.82 N.82  \\\n",
      "@format=column                                                      \n",
      "C57BL/6J                                       0.046   0.011    5   \n",
      "DBA/2J                                         0.005   0.003    3   \n",
      "BXD1                                            0.03  0.0066    3   \n",
      "BXD2                                               x       x    x   \n",
      "BXD6                                               0       0    2   \n",
      "\n",
      "               HFD_#LUC.LargeUnknownCells_[#*10^3/µL]   SE.83 N.83  \n",
      "@format=column                                                      \n",
      "C57BL/6J                                        0.093   0.041    3  \n",
      "DBA/2J                                          0.016   0.004    5  \n",
      "BXD1                                             0.08  0.0336    4  \n",
      "BXD2                                                x       x    x  \n",
      "BXD6                                            0.004   0.004    5  \n",
      "\n",
      "[5 rows x 252 columns]\n",
      "               CD_RBC.TotalRedBloodCells_[#*10^6/uL]     SE  N  \\\n",
      "@format=column                                                   \n",
      "BXD95                                           8.85   0.76  3   \n",
      "BXD98                                           9.71   0.52  3   \n",
      "BXD99                                          10.51   0.26  5   \n",
      "BXD100                                          9.89   0.05  2   \n",
      "BXD101                                         11.37  0.238  4   \n",
      "\n",
      "               HFD_RBC.TotalRedBloodCells_[#*10^6/uL]   SE.1 N.1  \\\n",
      "@format=column                                                     \n",
      "BXD95                                            11.1  0.284   5   \n",
      "BXD98                                           10.72   0.16   5   \n",
      "BXD99                                           11.11    0.4   5   \n",
      "BXD100                                           9.55   0.04   2   \n",
      "BXD101                                          10.11   0.24   4   \n",
      "\n",
      "               CD_%RBCm.MatureRBC_[%]   SE.2 N.2 HFD_%RBCm.MatureRBC_[%] ...   \\\n",
      "@format=column                                                           ...    \n",
      "BXD95                           97.57   0.12   3                   97.14 ...    \n",
      "BXD98                           97.97   0.12   3                   97.44 ...    \n",
      "BXD99                           97.62    0.1   5                   96.18 ...    \n",
      "BXD100                              x      x   2                       x ...    \n",
      "BXD101                          97.45  0.087   4                   96.65 ...    \n",
      "\n",
      "               N.80 HFD_#BASO.Basophil_[#*10^3/µL]   SE.81 N.81  \\\n",
      "@format=column                                                    \n",
      "BXD95             3                           0.01   0.005    5   \n",
      "BXD98             3                           0.02  0.0075    5   \n",
      "BXD99             5                           0.04    0.01    5   \n",
      "BXD100            2                          0.015   0.005    2   \n",
      "BXD101            4                           0.01   0.006    4   \n",
      "\n",
      "               CD_#LUC.LargeUnknownCells_[#*10^3/µL]  SE.82 N.82  \\\n",
      "@format=column                                                     \n",
      "BXD95                                           0.01   0.01    3   \n",
      "BXD98                                           0.05   0.03    3   \n",
      "BXD99                                           0.08   0.02    5   \n",
      "BXD100                                          0.07   0.03    2   \n",
      "BXD101                                          0.07  0.005    4   \n",
      "\n",
      "               HFD_#LUC.LargeUnknownCells_[#*10^3/µL]    SE.83 N.83  \n",
      "@format=column                                                       \n",
      "BXD95                                            0.04  0.01166    5  \n",
      "BXD98                                            0.14    0.026    5  \n",
      "BXD99                                            0.38     0.06    5  \n",
      "BXD100                                           0.07     0.03    2  \n",
      "BXD101                                           0.21     0.03    4  \n",
      "\n",
      "[5 rows x 252 columns]\n",
      "Empty DataFrame\n",
      "Columns: []\n",
      "Index: [C57BL/6J, DBA/2J, BXD1, BXD2, BXD6]\n",
      "Empty DataFrame\n",
      "Columns: []\n",
      "Index: [BXD95, BXD98, BXD99, BXD100, BXD101]\n"
     ]
    }
   ],
   "source": [
    "# for each sheet show head and tail\n",
    "for sheet in sheet_names:\n",
    "    df1 = pd.read_excel(xls, sheet, index_col=\"@format=column\")\n",
    "    print(df1.head())\n",
    "    print(df1.tail())"
   ]
  },
  {
   "cell_type": "markdown",
   "metadata": {},
   "source": [
    "### Subtask: List all columns in the Biochemistry sheet"
   ]
  },
  {
   "cell_type": "code",
   "execution_count": 13,
   "metadata": {},
   "outputs": [],
   "source": [
    "# Read in Biochemistry sheet by accessing via sheet name\n",
    "biochem = pd.read_excel(xls, 'Biochemistry')"
   ]
  },
  {
   "cell_type": "markdown",
   "metadata": {},
   "source": [
    "## Task: Study the variability of response across different strains for some of the measured phenotypes:\n",
    "\n",
    "Examples:\n",
    "- activity on the wheel\n",
    "- basal body temperature\n",
    "- alkaline phosphatase (ALPL) protein activity level\n",
    "- weight after 28 weeks\n",
    "\n"
   ]
  },
  {
   "cell_type": "markdown",
   "metadata": {},
   "source": [
    "### Subtask: Compare 'Activity Wheel' across strains (use daily, nightly and 24 measurements, pick one diet)\n",
    "\n"
   ]
  },
  {
   "cell_type": "markdown",
   "metadata": {},
   "source": [
    "hint: the diets are CD (Choline Deficient) and HFD (High Fat Diet)"
   ]
  },
  {
   "cell_type": "code",
   "execution_count": 49,
   "metadata": {
    "run_control": {
     "frozen": false,
     "read_only": false
    }
   },
   "outputs": [
    {
     "data": {
      "text/plain": [
       "<seaborn.axisgrid.PairGrid at 0x13f5a5198>"
      ]
     },
     "execution_count": 49,
     "metadata": {},
     "output_type": "execute_result"
    },
    {
     "data": {
      "image/png": "[encoded data removed]",
      "text/plain": [
       "<matplotlib.figure.Figure at 0x13c0207b8>"
      ]
     },
     "metadata": {},
     "output_type": "display_data"
    },
    {
     "data": {
      "image/png": "[encoded data removed]",
      "text/plain": [
       "<matplotlib.figure.Figure at 0x13fbdac50>"
      ]
     },
     "metadata": {},
     "output_type": "display_data"
    }
   ],
   "source": [
    "act_wheel = pd.read_excel(xls, 'Activity Wheel', na_values='x',index_col=\"@format=column\")\n",
    "\n",
    "# Drop every column but the ones for the diet\n",
    "act_wheel = act_wheel.drop(['SE', 'N','SE.1', 'N.1', 'SE.2', 'N.2', \n",
    "                            'SE.3', 'N.3', 'SE.4', 'N.4', 'SE.5', 'N.5',], axis=1)\n",
    "\n",
    "# make plot bigger\n",
    "# plt.subplots(figsize=(10,5))\n",
    "# transpose to get right boxplots\n",
    "sns.boxplot(data=act_wheel)\n",
    "sns.pairplot(act_wheel.fillna(0))"
   ]
  },
  {
   "cell_type": "markdown",
   "metadata": {},
   "source": [
    "### Subtask: Compare activity across different times of day"
   ]
  },
  {
   "cell_type": "markdown",
   "metadata": {},
   "source": [
    "Compute summary statistics over all strains and plot distributions for each time of day"
   ]
  },
  {
   "cell_type": "code",
   "execution_count": 68,
   "metadata": {
    "run_control": {
     "frozen": false,
     "read_only": false
    }
   },
   "outputs": [],
   "source": [
    "cols = act_wheel.columns\n",
    "\n",
    "cols = [c.replace('CD', 'XX') for c in cols]\n",
    "cols = [c.replace('HFD', 'XX') for c in cols]\n",
    "\n",
    "act_wheel.columns = cols\n",
    "cols = list(set(cols))\n",
    "\n",
    "\n",
    "\n",
    "\n",
    "    \n",
    "\n",
    "       \n"
   ]
  },
  {
   "cell_type": "markdown",
   "metadata": {},
   "source": [
    "### Subtask: Compare the two different diets (for several biochemistry measurements)\n",
    "Tip: after prototyping your analysis, wrap your individual steps in a function that you can use for an arbitrary phenotype in an arbitrary worksheet"
   ]
  },
  {
   "cell_type": "markdown",
   "metadata": {},
   "source": [
    "1. extract columns we are interested in from full dataframe\n",
    "2. add a column with the difference between HFD and CD\n",
    "3. plot all three columns for all strains as a bar plot (see e.g. pandas.DataFrame.plot.bar )"
   ]
  },
  {
   "cell_type": "code",
   "execution_count": null,
   "metadata": {
    "run_control": {
     "frozen": false,
     "read_only": false
    }
   },
   "outputs": [],
   "source": [
    "def analysis(phenotype, worksheet, columns_to_use, boxplot):\n",
    "    \n",
    "    # Read in desired worksheet \n",
    "    data = pd.read_excel(xls, worksheet, na_values='x',index_col=\"@format=column\")\n",
    "    \n",
    "    # only use desired columns\n",
    "    for col in data.columns:\n",
    "        if col not in columns_to_use:\n",
    "            data = data.drop([col], axis=1)\n",
    "            \n",
    "    if boxplot:\n",
    "        sns.boxplot(data=data)\n",
    "    \n",
    "    \n",
    "    "
   ]
  },
  {
   "cell_type": "code",
   "execution_count": null,
   "metadata": {
    "run_control": {
     "frozen": false,
     "read_only": false
    }
   },
   "outputs": [],
   "source": []
  },
  {
   "cell_type": "code",
   "execution_count": null,
   "metadata": {
    "run_control": {
     "frozen": false,
     "read_only": false
    }
   },
   "outputs": [],
   "source": []
  },
  {
   "cell_type": "markdown",
   "metadata": {},
   "source": [
    "__If you did not do it already, define functions that perform aspects of the procedure above__"
   ]
  },
  {
   "cell_type": "code",
   "execution_count": null,
   "metadata": {
    "run_control": {
     "frozen": false,
     "read_only": false
    }
   },
   "outputs": [],
   "source": []
  },
  {
   "cell_type": "markdown",
   "metadata": {},
   "source": [
    "__After refactoring code into functions: Apply function to other phenotypes__"
   ]
  },
  {
   "cell_type": "code",
   "execution_count": null,
   "metadata": {
    "run_control": {
     "frozen": false,
     "read_only": false
    }
   },
   "outputs": [],
   "source": []
  },
  {
   "cell_type": "markdown",
   "metadata": {},
   "source": [
    "## Task: Compare multiple phenotype measurements (% change in weight and mass) across strains and diet\n",
    "Hint: plotting the values may help exploring the ranges."
   ]
  },
  {
   "cell_type": "markdown",
   "metadata": {},
   "source": [
    "### Subtask: Extract relevant columns from the body weight data frame"
   ]
  },
  {
   "cell_type": "code",
   "execution_count": null,
   "metadata": {
    "run_control": {
     "frozen": false,
     "read_only": false
    },
    "scrolled": true
   },
   "outputs": [],
   "source": []
  },
  {
   "cell_type": "markdown",
   "metadata": {},
   "source": [
    "### Subtask: Create a plot\n",
    "\n",
    "hint: use parallel coordinates to plot all strains in parallel <br>\n",
    "<br>\n",
    "cosmetic help:<br>\n",
    "a parallel_coordinates plot might look cluttered initialy <br>\n",
    "use set_xticklabels(labels, rotation=90) to make the x-axis labels vertical <br>\n",
    "use matplotlib.axes.Axes.legend().get_lines(), matplotlib.axes.Axes.legend().get_texts() <br>\n",
    "and plt.legend(lines, labels, ...) to fix the legend"
   ]
  },
  {
   "cell_type": "code",
   "execution_count": 15,
   "metadata": {
    "run_control": {
     "frozen": false,
     "read_only": false
    }
   },
   "outputs": [],
   "source": [
    "from pandas.plotting import parallel_coordinates"
   ]
  },
  {
   "cell_type": "code",
   "execution_count": 16,
   "metadata": {
    "run_control": {
     "frozen": false,
     "read_only": false
    },
    "scrolled": false
   },
   "outputs": [
    {
     "name": "stderr",
     "output_type": "stream",
     "text": [
      "No handles with labels found to put in legend.\n",
      "No handles with labels found to put in legend.\n",
      "No handles with labels found to put in legend.\n"
     ]
    },
    {
     "data": {
      "image/png": "[encoded data removed]",
      "text/plain": [
       "<matplotlib.figure.Figure at 0x11eab9668>"
      ]
     },
     "metadata": {},
     "output_type": "display_data"
    }
   ],
   "source": [
    "with sns.axes_style('white'):\n",
    "    fig, (ax1, ax2) = plt.subplots(1, 2, figsize=(20, 10), sharey=True)\n",
    "    # plot parallel coordinates - needs column containing the categories for coloring -> reset index required\n",
    "     \n",
    "    # Insert your code here\n",
    "    \n",
    "    # fix label rotation\n",
    "    # left plot\n",
    "    labels1 = ax1.get_xmajorticklabels()\n",
    "    ax1.set_xticklabels(labels1, rotation=90)\n",
    "    # right plot\n",
    "    labels2 = ax2.get_xmajorticklabels()\n",
    "    ax2.set_xticklabels(labels2, rotation=90)\n",
    "    \n",
    "    # fix legend\n",
    "    ax1.legend().set_visible(False)\n",
    "    lines = ax2.legend().get_lines()\n",
    "    labels = [t.get_text() for t in ax2.legend().get_texts()]\n",
    "    plt.legend(lines, labels, loc = 'lower center', bbox_to_anchor = (0,-0.45,1,1),\n",
    "               bbox_transform = plt.gcf().transFigure, ncol=10)\n",
    "    "
   ]
  },
  {
   "cell_type": "markdown",
   "metadata": {},
   "source": [
    "# Plot the linear dependence of pairs of phenotypes\n",
    "Try to see if certain biochemical measurements correlate with the fitness measurements or blood parameters. \n",
    "\n",
    "The method of choice for this type of question is usually a simple linear regression. You will learn more about the details of how to perfom such a study tomorrow. For now it suffices to use [built-in functions provided by pandas and seaborn](https://stanford.edu/~mwaskom/software/seaborn/tutorial/regression.html). If you want to read more about linear regression, you can take a peek at [this tutorial](http://www.dataschool.io/linear-regression-in-python/).\n",
    "\n",
    "Seaborn provides convenience functions to fit regression models and simultaneously plot them. Seaborn and pandas also provide convience functions for creating scatterplot matrices. You also learned how to create figures with multiple subplots - this may also be useful for this task."
   ]
  },
  {
   "cell_type": "code",
   "execution_count": null,
   "metadata": {},
   "outputs": [],
   "source": []
  },
  {
   "cell_type": "markdown",
   "metadata": {},
   "source": [
    "## Study Linkage Disequilibrium between the SNPs on each chromosome"
   ]
  },
  {
   "cell_type": "markdown",
   "metadata": {
    "collapsed": true,
    "run_control": {
     "frozen": false,
     "read_only": false
    }
   },
   "source": [
    "__Linkage disequilibrium__ (LD) is the non-random association of alleles at multiple loci. If, in a population, all loci on a chromosome where completely independently distributed, the population would be considered to be at linkage equilibrium - a state that only theoretically reached in population genetics. Stemming from a single founder pair (in complete LD), each generation of offspring observed a set of recombination and crossover events breaking up the structure of the chromosome. This does not necessarily happen at gene boundaries, resulting in set of genes usually inherited together. The state of linkage equilibrium is similar to the Hardy-Weinberg equilibrium that you should have heard about in the context of genotype frequency. In the case of LD we work with haplotypes, however. While the genotype describes the allelic status of a single locus on both chromosomes (A/a), a haplotype expands this scenario to two or more loci that are inherited together from a single parent. If we have two loci with two possible alleles A/a and B/b the following haplotypes can exist\n",
    "\n",
    "|   | B  | b  |\n",
    "|---|----|----|\n",
    "| A | AB | Ab |\n",
    "| a | aB | ab |\n",
    "\n",
    "In a population the frequency of each of these haplotypes can be computed from the data by counting the number of occurrences of the haplotype and dividing it by the number of samples. In our case we can thus compute the frequency for observing the haplotype and $p_{AB} = n_{AB}/n$ (and the rest analogously)\n",
    "\n",
    "| Haplotype | A-B      | A-b      | a-B      | a-b      |\n",
    "|-----------|----------|----------|----------|----------|\n",
    "| Count     | $n_{AB}$ | $n_{Ab}$ | $n_{aB}$ | $n_{ab}$ |\n",
    "| Frequency | $p_{AB}$ | $p_{Ab}$ | $p_{aB}$ | $p_{ab}$ |\n",
    "\n",
    "From a statistical point of view, LD can be calculated as the difference of haplotype frequencies of the alleles at two loci observed in the population compared to the expected haplotype frequency if the two loci where independent $p_A$ and $p_B$. If the coefficient of linkage disequilibrium D between these probabilities is not zero, the two loci are in not independent, i.e. $p_{AB} \\ne p_{A}p_{B}$.\n",
    "\n",
    "$$D = p_{AB} - p_{A}p_{B}$$\n",
    "\n",
    "Usually, this measure is normalized by dividing by the theoretical maximum for the observed allele frequencies\n",
    "\n",
    "$$D' = D / D_\\text{max}$$\n",
    "\n",
    "with\n",
    "\n",
    "$$D_\\text{max} =\n",
    "\\begin{cases}\n",
    "\\min\\{p_{A}p_{B}, (1-p_{A})(1-p_{B})\\} &\\mbox{if } D < 0,\\\\\n",
    "\\min\\{(p_{A}(1-p_{B}), (1-p_{A})p_{B}\\} &\\mbox{if } D > 0\n",
    "\\end{cases}\n",
    "$$\n",
    "\n",
    "You can read up more about the concept in the following review:\n",
    "[Montgomery Slatkin, Linkage disequilibrium — understanding the evolutionary past and mapping the medical future](http://www.nature.com/nrg/journal/v9/n6/full/nrg2361.html). A nice presentation about the intuition can also be found [here](http://csg.sph.umich.edu/abecasis/class/666.03.pdf)."
   ]
  },
  {
   "cell_type": "markdown",
   "metadata": {},
   "source": [
    "## Bonus Task if you have time: calculate linkage disequilibrium for marker loci"
   ]
  },
  {
   "cell_type": "markdown",
   "metadata": {},
   "source": [
    "### Subtask: For each pair of loci in the mouse genotype dataset, compute D'"
   ]
  },
  {
   "cell_type": "markdown",
   "metadata": {},
   "source": [
    "Hint 1: you may exclude rows that are heterozygous for the locus or with unknown genotype\n",
    "\n",
    "Hint 2: You may want to test your approach on a subset of the loci first as it may take a while to compute all pairwise LD coefficients."
   ]
  },
  {
   "cell_type": "code",
   "execution_count": null,
   "metadata": {
    "run_control": {
     "frozen": false,
     "read_only": false
    }
   },
   "outputs": [],
   "source": []
  },
  {
   "cell_type": "markdown",
   "metadata": {},
   "source": [
    "### Subtask: Plot the heatmap of pairwise LD for SNPs"
   ]
  },
  {
   "cell_type": "code",
   "execution_count": null,
   "metadata": {
    "run_control": {
     "frozen": false,
     "read_only": false
    }
   },
   "outputs": [],
   "source": []
  },
  {
   "cell_type": "markdown",
   "metadata": {},
   "source": [
    "### Subtask: Plot only pairwise LD for SNPs on a specific chromosome (e.g. chr 4)"
   ]
  },
  {
   "cell_type": "code",
   "execution_count": null,
   "metadata": {},
   "outputs": [],
   "source": []
  },
  {
   "cell_type": "markdown",
   "metadata": {},
   "source": [
    "# Tip for report\n",
    "After you successfully implemented the functions required for the tasks above, you could consider outsourcing the functions defined here in an external python module (e.g. pibi_tools.py). This allows you to recycle the code later in the course without having to copy and paste (bad!) and also makes the notebooks more readable.\n",
    "\n",
    "Do not forget to add the python module to your repository if you decide to create this external module."
   ]
  }
 ],
 "metadata": {
  "anaconda-cloud": {},
  "hide_input": false,
  "kernelspec": {
   "display_name": "Python 3",
   "language": "python",
   "name": "python3"
  },
  "language_info": {
   "codemirror_mode": {
    "name": "ipython",
    "version": 3
   },
   "file_extension": ".py",
   "mimetype": "text/x-python",
   "name": "python",
   "nbconvert_exporter": "python",
   "pygments_lexer": "ipython3",
   "version": "3.6.4"
  },
  "nav_menu": {},
  "toc": {
   "navigate_menu": true,
   "number_sections": true,
   "sideBar": false,
   "threshold": 6,
   "toc_cell": true,
   "toc_number_sections": true,
   "toc_section_display": "block",
   "toc_window_display": true
  },
  "toc_position": {
   "height": "418px",
   "left": "1547px",
   "right": "20px",
   "top": "106px",
   "width": "309px"
  }
 },
 "nbformat": 4,
 "nbformat_minor": 1
}
