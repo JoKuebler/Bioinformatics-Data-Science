{
 "cells": [
  {
   "cell_type": "markdown",
   "metadata": {},
   "source": [
    "# Biological networks (by example)"
   ]
  },
  {
   "cell_type": "markdown",
   "metadata": {},
   "source": [
    "During your work on the pathways notebook you used KEGG in the classical pathway format, more specifically you only used the information concering which genes are in which pathway. Apart from these groupings of genes KEGG contains a huge variety of other potentially very useful information.\n",
    "\n",
    "One type of information contained in KEGG is how genes interact within the pathways. You can get an idea which types of interactions KEGG contains by having a look in the \"Relations\" section at http://www.kegg.jp/kegg/xml/docs/.\n",
    "\n",
    "There multiple ways to extract these interactions and produce a graph/network representation of it. Here you will be working with the already provided graph you can find under 'networks/mmu_kegg.graphml'. The graph is stored in the so called GraphML format, a XML-based standard format for representing graphs: http://graphml.graphdrawing.org/. Most graph libraries (in any programming language) most likely provide a means of dealing with this format for data import and export."
   ]
  },
  {
   "cell_type": "markdown",
   "metadata": {},
   "source": [
    "## 1. Exploration of the KEGG graph"
   ]
  },
  {
   "cell_type": "markdown",
   "metadata": {},
   "source": [
    "### 1.1 Load the graph into Python\n",
    "\n",
    "There are several options for working with graph/network data in Python. Here, we recommend choosing iGraph (http://igraph.org/python/) or NetworkX (https://networkx.github.io/). \n",
    "\n",
    "By using one of the above packages, load the mouse KEGG graph into Python."
   ]
  },
  {
   "cell_type": "code",
   "execution_count": null,
   "metadata": {
    "collapsed": true
   },
   "outputs": [],
   "source": [
    "#import igraph as ig\n",
    "\n",
    "# XOR\n",
    "\n",
    "#import networkx as nx"
   ]
  },
  {
   "cell_type": "code",
   "execution_count": null,
   "metadata": {
    "collapsed": true
   },
   "outputs": [],
   "source": []
  },
  {
   "cell_type": "markdown",
   "metadata": {},
   "source": [
    "### 1.2 Basic properties of the graph\n",
    "\n",
    "How many nodes/vertices and edges/interactions does the graph contain? What do the nodes and edges represent with respect to KEGG?"
   ]
  },
  {
   "cell_type": "code",
   "execution_count": null,
   "metadata": {
    "collapsed": true
   },
   "outputs": [],
   "source": []
  },
  {
   "cell_type": "markdown",
   "metadata": {},
   "source": [
    "### 1.3 Node and edge attributes\n",
    "\n",
    "Data associated to either nodes or edges is referred to as node or edge attributes. Which node attributes does the graph contain? Which edge attributes exist?"
   ]
  },
  {
   "cell_type": "code",
   "execution_count": null,
   "metadata": {
    "collapsed": true
   },
   "outputs": [],
   "source": []
  },
  {
   "cell_type": "markdown",
   "metadata": {},
   "source": [
    "### 1.4 The interactions...\n",
    "\n",
    "How are the interactions from KEGG represented? Does one edge always have a unqiue interaction type? Also, extract all interactions types and plot a histogram. Are you dealing with a directed or an undirected graph? Does this make sense with respect to semantics of the interaction types?"
   ]
  },
  {
   "cell_type": "code",
   "execution_count": null,
   "metadata": {
    "collapsed": true
   },
   "outputs": [],
   "source": []
  },
  {
   "cell_type": "markdown",
   "metadata": {},
   "source": [
    "### 1.5 Neighbors...\n",
    "\n",
    "Write a function which takes a gene id as argument and which returns all neighbors of the node referred to by that gene id."
   ]
  },
  {
   "cell_type": "code",
   "execution_count": null,
   "metadata": {
    "collapsed": true
   },
   "outputs": [],
   "source": []
  },
  {
   "cell_type": "markdown",
   "metadata": {},
   "source": [
    "## 2. Finding the KEGG *pathways* in the KEGG *graph*"
   ]
  },
  {
   "cell_type": "markdown",
   "metadata": {},
   "source": [
    "### 2.1 Map KEGG pathway information as node attributes\n",
    "\n",
    "Create a node attribute capturing the information which pathways the corresponding gene belongs to."
   ]
  },
  {
   "cell_type": "code",
   "execution_count": null,
   "metadata": {
    "collapsed": true
   },
   "outputs": [],
   "source": []
  },
  {
   "cell_type": "markdown",
   "metadata": {},
   "source": [
    "### 2.2 Connections between the pathways\n",
    "\n",
    "Write a function which takes two KEGG pathways as argument and returns whether they are *directly* connected. Define your notion of what it means for two pathways to be *directly* connected with respect to the KEGG graph first."
   ]
  },
  {
   "cell_type": "code",
   "execution_count": null,
   "metadata": {
    "collapsed": true
   },
   "outputs": [],
   "source": []
  },
  {
   "cell_type": "markdown",
   "metadata": {},
   "source": [
    "### 2.3 Pathway connection graph\n",
    "\n",
    "Using the function you wrote in 2.2, create a *new* graph where nodes correspond to *pathways* and where to *pathways* are connected if and only if they are *directly* connected."
   ]
  },
  {
   "cell_type": "code",
   "execution_count": null,
   "metadata": {
    "collapsed": true
   },
   "outputs": [],
   "source": []
  },
  {
   "cell_type": "markdown",
   "metadata": {},
   "source": [
    "### 2.4 Enriched pathways...\n",
    "\n",
    "Are the pathways which scored as significantly enriched in your *Pathways* notebook *directly* connected? If not, what are the shortest paths between them within the *pathway* graph?"
   ]
  },
  {
   "cell_type": "code",
   "execution_count": null,
   "metadata": {
    "collapsed": true
   },
   "outputs": [],
   "source": []
  },
  {
   "cell_type": "markdown",
   "metadata": {},
   "source": [
    "## 3. Bonus assignment: *Connecting* GWAS-implicated with Expression-implicated genes"
   ]
  },
  {
   "cell_type": "markdown",
   "metadata": {},
   "source": [
    "### 3.1 Running-wheel phenotypes...\n",
    "\n",
    "Create node attributes (for the original KEGG *interaction* graph) capturing the information whether a gene was implicated in GWAS for any \"Activity Wheel\"-phenotype. (Every such phenotype should give rise to one attribute)."
   ]
  },
  {
   "cell_type": "code",
   "execution_count": null,
   "metadata": {
    "collapsed": true
   },
   "outputs": [],
   "source": []
  },
  {
   "cell_type": "markdown",
   "metadata": {},
   "source": [
    "### 3.2 Expression-context of GWAS genes...\n",
    "\n",
    "To get an idea how the genomically important (here defined as GWAS-implicated) genes might interact with gene expression in a network context, figure out the shortest paths between GWAS-genes and differentially expressed genes in the network."
   ]
  },
  {
   "cell_type": "code",
   "execution_count": null,
   "metadata": {
    "collapsed": true
   },
   "outputs": [],
   "source": []
  },
  {
   "cell_type": "markdown",
   "metadata": {},
   "source": [
    "### 3.3 Go crazy and try to interpret the things you calculated...\n",
    "\n",
    "**Remark: the following assignments are relatively vague on purpose.**\n",
    "\n",
    "Taking your shortest paths from 3.2, try to ...\n",
    "\n",
    "3.3.1 ... make an assessment whether some interaction types are somehow \"overrepresented\", for example by creating histogram-type (or other...) visualizations and/or statistically testing for over-representation.\n",
    "\n",
    "3.3.2 ... figure out over which pathways the shortest paths are \"routed\", again for example by visualization...\n",
    "\n",
    "3.3.3 ... compile a short list of further ideas on how to potentially exploit the KEGG graph and your already assembled analyses (GWAS, DE analysis, enriched KEGG pathways) in order to connect and make sense out of them... (there is not really a wrong or right here!)"
   ]
  },
  {
   "cell_type": "code",
   "execution_count": null,
   "metadata": {
    "collapsed": true
   },
   "outputs": [],
   "source": []
  }
 ],
 "metadata": {
  "anaconda-cloud": {},
  "kernelspec": {
   "display_name": "Python 3",
   "language": "python",
   "name": "python3"
  },
  "language_info": {
   "codemirror_mode": {
    "name": "ipython",
    "version": 3
   },
   "file_extension": ".py",
   "mimetype": "text/x-python",
   "name": "python",
   "nbconvert_exporter": "python",
   "pygments_lexer": "ipython3",
   "version": "3.6.4"
  }
 },
 "nbformat": 4,
 "nbformat_minor": 1
}
