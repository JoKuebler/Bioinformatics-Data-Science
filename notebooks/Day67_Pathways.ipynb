{
 "cells": [
  {
   "cell_type": "code",
   "execution_count": 2,
   "metadata": {},
   "outputs": [],
   "source": [
    "# imports\n",
    "from Bio.KEGG.REST import *\n",
    "from Bio.KEGG.KGML import KGML_parser\n",
    "from Bio.Graphics.KGML_vis import KGMLCanvas\n",
    "from Bio import Entrez\n",
    "\n",
    "from IPython.display import Image\n",
    "\n",
    "from wand.image import Image as wandImage"
   ]
  },
  {
   "cell_type": "markdown",
   "metadata": {},
   "source": [
    "## Task 1: KEGG and gene id mapping"
   ]
  },
  {
   "cell_type": "markdown",
   "metadata": {},
   "source": [
    "Familiarize yourself with the KEGG Rest interface and how to access it with Biopyhton:\n",
    "\n",
    "http://www.genome.jp/kegg/rest/keggapi.html\n",
    "\n",
    "http://nbviewer.jupyter.org/github/widdowquinn/notebooks/blob/master/Biopython_KGML_intro.ipynb"
   ]
  },
  {
   "cell_type": "markdown",
   "metadata": {},
   "source": [
    "### Subtask 1.1 Extract gene lists for all (mouse) KEGG pathways and store them in a suitable Python data structure"
   ]
  },
  {
   "cell_type": "code",
   "execution_count": 18,
   "metadata": {},
   "outputs": [
    {
     "name": "stdout",
     "output_type": "stream",
     "text": [
      "path:mmu00010\tGlycolysis / Gluconeogenesis - Mus musculus (mouse)\n",
      "path:mmu00020\tCitrate cycle (TCA cycle) - Mus musculus (mouse)\n",
      "path:mmu00030\tPentose phosphate pathway - Mus musculus (mouse)\n",
      "path:mmu00040\tPentose and glucuronate interconversions - Mus musculus (mouse)\n",
      "path:mmu00051\tFructose and mannose metabolism - Mus musculus (mouse)\n",
      "path:mmu00052\tGalactose metabolism - Mus musculus (mouse)\n",
      "path:mmu00053\tAscorbate and aldarate metabolism - Mus musculus (mouse)\n",
      "path:mmu00061\tFatty acid biosynthesis - Mus musculus (mouse)\n",
      "path:mmu00062\tFatty acid elongation - Mus musculus (mouse)\n",
      "path:mmu00071\tFatty acid degradation - Mus musculus (mouse)\n",
      "path:mmu00072\tSynthesis and degradation of ketone bodies - Mus musculus (mouse)\n",
      "path:mmu00100\tSteroid biosynthesis - Mus musculus (mouse)\n",
      "path:mmu00120\tPrimary bile acid biosynthesis - Mus musculus (mouse)\n",
      "path:mmu00130\tUbiquinone and other terpenoid-quinone biosynthesis - Mus musculus (mouse)\n",
      "path:mmu00140\tSteroid hormone biosynthesis - Mus musculus (mouse)\n",
      "path:mmu00190\tOxidative phosphorylation - Mus musculus (mouse)\n",
      "path:mmu00220\tArginine biosynthesis - Mus musculus (mouse)\n",
      "path:mmu00230\tPurine metabolism - Mus musculus (mouse)\n",
      "path:mmu00232\tCaffeine metabolism - Mus musculus (mouse)\n",
      "path:mmu00240\tPyrimidine metabolism - Mus musculus (mouse)\n",
      "path:mmu00250\tAlanine, aspartate and glutamate metabolism - Mus musculus (mouse)\n",
      "path:mmu00260\tGlycine, serine and threonine metabolism - Mus musculus (mouse)\n",
      "path:mmu00270\tCysteine and methionine metabolism - Mus musculus (mouse)\n",
      "path:mmu00280\tValine, leucine and isoleucine degradation - Mus musculus (mouse)\n",
      "path:mmu00290\tValine, leucine and isoleucine biosynthesis - Mus musculus (mouse)\n",
      "path:mmu00310\tLysine degradation - Mus musculus (mouse)\n",
      "path:mmu00330\tArginine and proline metabolism - Mus musculus (mouse)\n",
      "path:mmu00340\tHistidine metabolism - Mus musculus (mouse)\n",
      "path:mmu00350\tTyrosine metabolism - Mus musculus (mouse)\n",
      "path:mmu00360\tPhenylalanine metabolism - Mus musculus (mouse)\n",
      "path:mmu00380\tTryptophan metabolism - Mus musculus (mouse)\n",
      "path:mmu00400\tPhenylalanine, tyrosine and tryptophan biosynthesis - Mus musculus (mouse)\n",
      "path:mmu00410\tbeta-Alanine metabolism - Mus musculus (mouse)\n",
      "path:mmu00430\tTaurine and hypotaurine metabolism - Mus musculus (mouse)\n",
      "path:mmu00440\tPhosphonate and phosphinate metabolism - Mus musculus (mouse)\n",
      "path:mmu00450\tSelenocompound metabolism - Mus musculus (mouse)\n",
      "path:mmu00471\tD-Glutamine and D-glutamate metabolism - Mus musculus (mouse)\n",
      "path:mmu00472\tD-Arginine and D-ornithine metabolism - Mus musculus (mouse)\n",
      "path:mmu00480\tGlutathione metabolism - Mus musculus (mouse)\n",
      "path:mmu00500\tStarch and sucrose metabolism - Mus musculus (mouse)\n",
      "path:mmu00510\tN-Glycan biosynthesis - Mus musculus (mouse)\n",
      "path:mmu00511\tOther glycan degradation - Mus musculus (mouse)\n",
      "path:mmu00512\tMucin type O-glycan biosynthesis - Mus musculus (mouse)\n",
      "path:mmu00514\tOther types of O-glycan biosynthesis - Mus musculus (mouse)\n",
      "path:mmu00515\tMannose type O-glycan biosynthesis - Mus musculus (mouse)\n",
      "path:mmu00520\tAmino sugar and nucleotide sugar metabolism - Mus musculus (mouse)\n",
      "path:mmu00524\tNeomycin, kanamycin and gentamicin biosynthesis - Mus musculus (mouse)\n",
      "path:mmu00531\tGlycosaminoglycan degradation - Mus musculus (mouse)\n",
      "path:mmu00532\tGlycosaminoglycan biosynthesis - chondroitin sulfate / dermatan sulfate - Mus musculus (mouse)\n",
      "path:mmu00533\tGlycosaminoglycan biosynthesis - keratan sulfate - Mus musculus (mouse)\n",
      "path:mmu00534\tGlycosaminoglycan biosynthesis - heparan sulfate / heparin - Mus musculus (mouse)\n",
      "path:mmu00561\tGlycerolipid metabolism - Mus musculus (mouse)\n",
      "path:mmu00562\tInositol phosphate metabolism - Mus musculus (mouse)\n",
      "path:mmu00563\tGlycosylphosphatidylinositol (GPI)-anchor biosynthesis - Mus musculus (mouse)\n",
      "path:mmu00564\tGlycerophospholipid metabolism - Mus musculus (mouse)\n",
      "path:mmu00565\tEther lipid metabolism - Mus musculus (mouse)\n",
      "path:mmu00590\tArachidonic acid metabolism - Mus musculus (mouse)\n",
      "path:mmu00591\tLinoleic acid metabolism - Mus musculus (mouse)\n",
      "path:mmu00592\talpha-Linolenic acid metabolism - Mus musculus (mouse)\n",
      "path:mmu00600\tSphingolipid metabolism - Mus musculus (mouse)\n",
      "path:mmu00601\tGlycosphingolipid biosynthesis - lacto and neolacto series - Mus musculus (mouse)\n",
      "path:mmu00603\tGlycosphingolipid biosynthesis - globo and isoglobo series - Mus musculus (mouse)\n",
      "path:mmu00604\tGlycosphingolipid biosynthesis - ganglio series - Mus musculus (mouse)\n",
      "path:mmu00620\tPyruvate metabolism - Mus musculus (mouse)\n",
      "path:mmu00630\tGlyoxylate and dicarboxylate metabolism - Mus musculus (mouse)\n",
      "path:mmu00640\tPropanoate metabolism - Mus musculus (mouse)\n",
      "path:mmu00650\tButanoate metabolism - Mus musculus (mouse)\n",
      "path:mmu00670\tOne carbon pool by folate - Mus musculus (mouse)\n",
      "path:mmu00730\tThiamine metabolism - Mus musculus (mouse)\n",
      "path:mmu00740\tRiboflavin metabolism - Mus musculus (mouse)\n",
      "path:mmu00750\tVitamin B6 metabolism - Mus musculus (mouse)\n",
      "path:mmu00760\tNicotinate and nicotinamide metabolism - Mus musculus (mouse)\n",
      "path:mmu00770\tPantothenate and CoA biosynthesis - Mus musculus (mouse)\n",
      "path:mmu00780\tBiotin metabolism - Mus musculus (mouse)\n",
      "path:mmu00785\tLipoic acid metabolism - Mus musculus (mouse)\n",
      "path:mmu00790\tFolate biosynthesis - Mus musculus (mouse)\n",
      "path:mmu00830\tRetinol metabolism - Mus musculus (mouse)\n",
      "path:mmu00860\tPorphyrin and chlorophyll metabolism - Mus musculus (mouse)\n",
      "path:mmu00900\tTerpenoid backbone biosynthesis - Mus musculus (mouse)\n",
      "path:mmu00910\tNitrogen metabolism - Mus musculus (mouse)\n",
      "path:mmu00920\tSulfur metabolism - Mus musculus (mouse)\n",
      "path:mmu00970\tAminoacyl-tRNA biosynthesis - Mus musculus (mouse)\n",
      "path:mmu00980\tMetabolism of xenobiotics by cytochrome P450 - Mus musculus (mouse)\n",
      "path:mmu00982\tDrug metabolism - cytochrome P450 - Mus musculus (mouse)\n",
      "path:mmu00983\tDrug metabolism - other enzymes - Mus musculus (mouse)\n",
      "path:mmu01040\tBiosynthesis of unsaturated fatty acids - Mus musculus (mouse)\n",
      "path:mmu01100\tMetabolic pathways - Mus musculus (mouse)\n",
      "path:mmu01200\tCarbon metabolism - Mus musculus (mouse)\n",
      "path:mmu01210\t2-Oxocarboxylic acid metabolism - Mus musculus (mouse)\n",
      "path:mmu01212\tFatty acid metabolism - Mus musculus (mouse)\n",
      "path:mmu01230\tBiosynthesis of amino acids - Mus musculus (mouse)\n",
      "path:mmu01521\tEGFR tyrosine kinase inhibitor resistance - Mus musculus (mouse)\n",
      "path:mmu01522\tEndocrine resistance - Mus musculus (mouse)\n",
      "path:mmu01523\tAntifolate resistance - Mus musculus (mouse)\n",
      "path:mmu01524\tPlatinum drug resistance - Mus musculus (mouse)\n",
      "path:mmu02010\tABC transporters - Mus musculus (mouse)\n",
      "path:mmu03008\tRibosome biogenesis in eukaryotes - Mus musculus (mouse)\n",
      "path:mmu03010\tRibosome - Mus musculus (mouse)\n",
      "path:mmu03013\tRNA transport - Mus musculus (mouse)\n",
      "path:mmu03015\tmRNA surveillance pathway - Mus musculus (mouse)\n",
      "path:mmu03018\tRNA degradation - Mus musculus (mouse)\n",
      "path:mmu03020\tRNA polymerase - Mus musculus (mouse)\n",
      "path:mmu03022\tBasal transcription factors - Mus musculus (mouse)\n",
      "path:mmu03030\tDNA replication - Mus musculus (mouse)\n",
      "path:mmu03040\tSpliceosome - Mus musculus (mouse)\n",
      "path:mmu03050\tProteasome - Mus musculus (mouse)\n",
      "path:mmu03060\tProtein export - Mus musculus (mouse)\n",
      "path:mmu03320\tPPAR signaling pathway - Mus musculus (mouse)\n",
      "path:mmu03410\tBase excision repair - Mus musculus (mouse)\n",
      "path:mmu03420\tNucleotide excision repair - Mus musculus (mouse)\n",
      "path:mmu03430\tMismatch repair - Mus musculus (mouse)\n",
      "path:mmu03440\tHomologous recombination - Mus musculus (mouse)\n",
      "path:mmu03450\tNon-homologous end-joining - Mus musculus (mouse)\n",
      "path:mmu03460\tFanconi anemia pathway - Mus musculus (mouse)\n",
      "path:mmu04010\tMAPK signaling pathway - Mus musculus (mouse)\n",
      "path:mmu04012\tErbB signaling pathway - Mus musculus (mouse)\n",
      "path:mmu04014\tRas signaling pathway - Mus musculus (mouse)\n",
      "path:mmu04015\tRap1 signaling pathway - Mus musculus (mouse)\n",
      "path:mmu04020\tCalcium signaling pathway - Mus musculus (mouse)\n",
      "path:mmu04022\tcGMP-PKG signaling pathway - Mus musculus (mouse)\n",
      "path:mmu04024\tcAMP signaling pathway - Mus musculus (mouse)\n",
      "path:mmu04060\tCytokine-cytokine receptor interaction - Mus musculus (mouse)\n",
      "path:mmu04062\tChemokine signaling pathway - Mus musculus (mouse)\n",
      "path:mmu04064\tNF-kappa B signaling pathway - Mus musculus (mouse)\n",
      "path:mmu04066\tHIF-1 signaling pathway - Mus musculus (mouse)\n",
      "path:mmu04068\tFoxO signaling pathway - Mus musculus (mouse)\n",
      "path:mmu04070\tPhosphatidylinositol signaling system - Mus musculus (mouse)\n",
      "path:mmu04071\tSphingolipid signaling pathway - Mus musculus (mouse)\n",
      "path:mmu04072\tPhospholipase D signaling pathway - Mus musculus (mouse)\n",
      "path:mmu04080\tNeuroactive ligand-receptor interaction - Mus musculus (mouse)\n",
      "path:mmu04110\tCell cycle - Mus musculus (mouse)\n",
      "path:mmu04114\tOocyte meiosis - Mus musculus (mouse)\n",
      "path:mmu04115\tp53 signaling pathway - Mus musculus (mouse)\n",
      "path:mmu04120\tUbiquitin mediated proteolysis - Mus musculus (mouse)\n",
      "path:mmu04122\tSulfur relay system - Mus musculus (mouse)\n",
      "path:mmu04130\tSNARE interactions in vesicular transport - Mus musculus (mouse)\n",
      "path:mmu04136\tAutophagy - other - Mus musculus (mouse)\n",
      "path:mmu04137\tMitophagy - animal - Mus musculus (mouse)\n",
      "path:mmu04140\tAutophagy - animal - Mus musculus (mouse)\n",
      "path:mmu04141\tProtein processing in endoplasmic reticulum - Mus musculus (mouse)\n",
      "path:mmu04142\tLysosome - Mus musculus (mouse)\n",
      "path:mmu04144\tEndocytosis - Mus musculus (mouse)\n",
      "path:mmu04145\tPhagosome - Mus musculus (mouse)\n",
      "path:mmu04146\tPeroxisome - Mus musculus (mouse)\n",
      "path:mmu04150\tmTOR signaling pathway - Mus musculus (mouse)\n",
      "path:mmu04151\tPI3K-Akt signaling pathway - Mus musculus (mouse)\n",
      "path:mmu04152\tAMPK signaling pathway - Mus musculus (mouse)\n",
      "path:mmu04210\tApoptosis - Mus musculus (mouse)\n",
      "path:mmu04211\tLongevity regulating pathway - Mus musculus (mouse)\n",
      "path:mmu04213\tLongevity regulating pathway - multiple species - Mus musculus (mouse)\n",
      "path:mmu04215\tApoptosis - multiple species - Mus musculus (mouse)\n",
      "path:mmu04216\tFerroptosis - Mus musculus (mouse)\n",
      "path:mmu04217\tNecroptosis - Mus musculus (mouse)\n",
      "path:mmu04218\tCellular senescence - Mus musculus (mouse)\n",
      "path:mmu04260\tCardiac muscle contraction - Mus musculus (mouse)\n",
      "path:mmu04261\tAdrenergic signaling in cardiomyocytes - Mus musculus (mouse)\n",
      "path:mmu04270\tVascular smooth muscle contraction - Mus musculus (mouse)\n",
      "path:mmu04310\tWnt signaling pathway - Mus musculus (mouse)\n",
      "path:mmu04330\tNotch signaling pathway - Mus musculus (mouse)\n",
      "path:mmu04340\tHedgehog signaling pathway - Mus musculus (mouse)\n",
      "path:mmu04350\tTGF-beta signaling pathway - Mus musculus (mouse)\n",
      "path:mmu04360\tAxon guidance - Mus musculus (mouse)\n",
      "path:mmu04370\tVEGF signaling pathway - Mus musculus (mouse)\n",
      "path:mmu04371\tApelin signaling pathway - Mus musculus (mouse)\n",
      "path:mmu04380\tOsteoclast differentiation - Mus musculus (mouse)\n",
      "path:mmu04390\tHippo signaling pathway - Mus musculus (mouse)\n",
      "path:mmu04392\tHippo signaling pathway - multiple species - Mus musculus (mouse)\n",
      "path:mmu04510\tFocal adhesion - Mus musculus (mouse)\n",
      "path:mmu04512\tECM-receptor interaction - Mus musculus (mouse)\n",
      "path:mmu04514\tCell adhesion molecules (CAMs) - Mus musculus (mouse)\n",
      "path:mmu04520\tAdherens junction - Mus musculus (mouse)\n",
      "path:mmu04530\tTight junction - Mus musculus (mouse)\n",
      "path:mmu04540\tGap junction - Mus musculus (mouse)\n",
      "path:mmu04550\tSignaling pathways regulating pluripotency of stem cells - Mus musculus (mouse)\n",
      "path:mmu04610\tComplement and coagulation cascades - Mus musculus (mouse)\n",
      "path:mmu04611\tPlatelet activation - Mus musculus (mouse)\n",
      "path:mmu04612\tAntigen processing and presentation - Mus musculus (mouse)\n",
      "path:mmu04614\tRenin-angiotensin system - Mus musculus (mouse)\n",
      "path:mmu04620\tToll-like receptor signaling pathway - Mus musculus (mouse)\n",
      "path:mmu04621\tNOD-like receptor signaling pathway - Mus musculus (mouse)\n",
      "path:mmu04622\tRIG-I-like receptor signaling pathway - Mus musculus (mouse)\n",
      "path:mmu04623\tCytosolic DNA-sensing pathway - Mus musculus (mouse)\n",
      "path:mmu04625\tC-type lectin receptor signaling pathway - Mus musculus (mouse)\n",
      "path:mmu04630\tJAK-STAT signaling pathway - Mus musculus (mouse)\n",
      "path:mmu04640\tHematopoietic cell lineage - Mus musculus (mouse)\n",
      "path:mmu04650\tNatural killer cell mediated cytotoxicity - Mus musculus (mouse)\n",
      "path:mmu04657\tIL-17 signaling pathway - Mus musculus (mouse)\n",
      "path:mmu04658\tTh1 and Th2 cell differentiation - Mus musculus (mouse)\n",
      "path:mmu04659\tTh17 cell differentiation - Mus musculus (mouse)\n",
      "path:mmu04660\tT cell receptor signaling pathway - Mus musculus (mouse)\n",
      "path:mmu04662\tB cell receptor signaling pathway - Mus musculus (mouse)\n",
      "path:mmu04664\tFc epsilon RI signaling pathway - Mus musculus (mouse)\n",
      "path:mmu04666\tFc gamma R-mediated phagocytosis - Mus musculus (mouse)\n",
      "path:mmu04668\tTNF signaling pathway - Mus musculus (mouse)\n",
      "path:mmu04670\tLeukocyte transendothelial migration - Mus musculus (mouse)\n",
      "path:mmu04672\tIntestinal immune network for IgA production - Mus musculus (mouse)\n",
      "path:mmu04710\tCircadian rhythm - Mus musculus (mouse)\n",
      "path:mmu04713\tCircadian entrainment - Mus musculus (mouse)\n",
      "path:mmu04714\tThermogenesis - Mus musculus (mouse)\n",
      "path:mmu04720\tLong-term potentiation - Mus musculus (mouse)\n",
      "path:mmu04721\tSynaptic vesicle cycle - Mus musculus (mouse)\n",
      "path:mmu04722\tNeurotrophin signaling pathway - Mus musculus (mouse)\n",
      "path:mmu04723\tRetrograde endocannabinoid signaling - Mus musculus (mouse)\n",
      "path:mmu04724\tGlutamatergic synapse - Mus musculus (mouse)\n",
      "path:mmu04725\tCholinergic synapse - Mus musculus (mouse)\n",
      "path:mmu04726\tSerotonergic synapse - Mus musculus (mouse)\n",
      "path:mmu04727\tGABAergic synapse - Mus musculus (mouse)\n",
      "path:mmu04728\tDopaminergic synapse - Mus musculus (mouse)\n",
      "path:mmu04730\tLong-term depression - Mus musculus (mouse)\n",
      "path:mmu04740\tOlfactory transduction - Mus musculus (mouse)\n",
      "path:mmu04742\tTaste transduction - Mus musculus (mouse)\n",
      "path:mmu04744\tPhototransduction - Mus musculus (mouse)\n",
      "path:mmu04750\tInflammatory mediator regulation of TRP channels - Mus musculus (mouse)\n",
      "path:mmu04810\tRegulation of actin cytoskeleton - Mus musculus (mouse)\n",
      "path:mmu04910\tInsulin signaling pathway - Mus musculus (mouse)\n",
      "path:mmu04911\tInsulin secretion - Mus musculus (mouse)\n",
      "path:mmu04912\tGnRH signaling pathway - Mus musculus (mouse)\n",
      "path:mmu04913\tOvarian steroidogenesis - Mus musculus (mouse)\n",
      "path:mmu04914\tProgesterone-mediated oocyte maturation - Mus musculus (mouse)\n",
      "path:mmu04915\tEstrogen signaling pathway - Mus musculus (mouse)\n",
      "path:mmu04916\tMelanogenesis - Mus musculus (mouse)\n",
      "path:mmu04917\tProlactin signaling pathway - Mus musculus (mouse)\n",
      "path:mmu04918\tThyroid hormone synthesis - Mus musculus (mouse)\n",
      "path:mmu04919\tThyroid hormone signaling pathway - Mus musculus (mouse)\n",
      "path:mmu04920\tAdipocytokine signaling pathway - Mus musculus (mouse)\n",
      "path:mmu04921\tOxytocin signaling pathway - Mus musculus (mouse)\n",
      "path:mmu04922\tGlucagon signaling pathway - Mus musculus (mouse)\n",
      "path:mmu04923\tRegulation of lipolysis in adipocytes - Mus musculus (mouse)\n",
      "path:mmu04924\tRenin secretion - Mus musculus (mouse)\n",
      "path:mmu04925\tAldosterone synthesis and secretion - Mus musculus (mouse)\n",
      "path:mmu04926\tRelaxin signaling pathway - Mus musculus (mouse)\n",
      "path:mmu04927\tCortisol synthesis and secretion - Mus musculus (mouse)\n",
      "path:mmu04928\tParathyroid hormone synthesis, secretion and action - Mus musculus (mouse)\n",
      "path:mmu04930\tType II diabetes mellitus - Mus musculus (mouse)\n",
      "path:mmu04931\tInsulin resistance - Mus musculus (mouse)\n",
      "path:mmu04932\tNon-alcoholic fatty liver disease (NAFLD) - Mus musculus (mouse)\n",
      "path:mmu04933\tAGE-RAGE signaling pathway in diabetic complications - Mus musculus (mouse)\n",
      "path:mmu04934\tCushing syndrome - Mus musculus (mouse)\n",
      "path:mmu04940\tType I diabetes mellitus - Mus musculus (mouse)\n",
      "path:mmu04950\tMaturity onset diabetes of the young - Mus musculus (mouse)\n",
      "path:mmu04960\tAldosterone-regulated sodium reabsorption - Mus musculus (mouse)\n",
      "path:mmu04961\tEndocrine and other factor-regulated calcium reabsorption - Mus musculus (mouse)\n",
      "path:mmu04962\tVasopressin-regulated water reabsorption - Mus musculus (mouse)\n",
      "path:mmu04964\tProximal tubule bicarbonate reclamation - Mus musculus (mouse)\n",
      "path:mmu04966\tCollecting duct acid secretion - Mus musculus (mouse)\n",
      "path:mmu04970\tSalivary secretion - Mus musculus (mouse)\n",
      "path:mmu04971\tGastric acid secretion - Mus musculus (mouse)\n",
      "path:mmu04972\tPancreatic secretion - Mus musculus (mouse)\n",
      "path:mmu04973\tCarbohydrate digestion and absorption - Mus musculus (mouse)\n",
      "path:mmu04974\tProtein digestion and absorption - Mus musculus (mouse)\n",
      "path:mmu04975\tFat digestion and absorption - Mus musculus (mouse)\n",
      "path:mmu04976\tBile secretion - Mus musculus (mouse)\n",
      "path:mmu04977\tVitamin digestion and absorption - Mus musculus (mouse)\n",
      "path:mmu04978\tMineral absorption - Mus musculus (mouse)\n",
      "path:mmu04979\tCholesterol metabolism - Mus musculus (mouse)\n",
      "path:mmu05010\tAlzheimer disease - Mus musculus (mouse)\n",
      "path:mmu05012\tParkinson disease - Mus musculus (mouse)\n",
      "path:mmu05014\tAmyotrophic lateral sclerosis (ALS) - Mus musculus (mouse)\n",
      "path:mmu05016\tHuntington disease - Mus musculus (mouse)\n",
      "path:mmu05020\tPrion diseases - Mus musculus (mouse)\n",
      "path:mmu05030\tCocaine addiction - Mus musculus (mouse)\n",
      "path:mmu05031\tAmphetamine addiction - Mus musculus (mouse)\n",
      "path:mmu05032\tMorphine addiction - Mus musculus (mouse)\n",
      "path:mmu05033\tNicotine addiction - Mus musculus (mouse)\n",
      "path:mmu05034\tAlcoholism - Mus musculus (mouse)\n",
      "path:mmu05100\tBacterial invasion of epithelial cells - Mus musculus (mouse)\n",
      "path:mmu05132\tSalmonella infection - Mus musculus (mouse)\n",
      "path:mmu05133\tPertussis - Mus musculus (mouse)\n",
      "path:mmu05134\tLegionellosis - Mus musculus (mouse)\n",
      "path:mmu05140\tLeishmaniasis - Mus musculus (mouse)\n",
      "path:mmu05142\tChagas disease (American trypanosomiasis) - Mus musculus (mouse)\n",
      "path:mmu05143\tAfrican trypanosomiasis - Mus musculus (mouse)\n",
      "path:mmu05144\tMalaria - Mus musculus (mouse)\n",
      "path:mmu05145\tToxoplasmosis - Mus musculus (mouse)\n",
      "path:mmu05146\tAmoebiasis - Mus musculus (mouse)\n",
      "path:mmu05150\tStaphylococcus aureus infection - Mus musculus (mouse)\n",
      "path:mmu05152\tTuberculosis - Mus musculus (mouse)\n",
      "path:mmu05160\tHepatitis C - Mus musculus (mouse)\n",
      "path:mmu05161\tHepatitis B - Mus musculus (mouse)\n",
      "path:mmu05162\tMeasles - Mus musculus (mouse)\n",
      "path:mmu05163\tHuman cytomegalovirus infection - Mus musculus (mouse)\n",
      "path:mmu05164\tInfluenza A - Mus musculus (mouse)\n",
      "path:mmu05165\tHuman papillomavirus infection - Mus musculus (mouse)\n",
      "path:mmu05166\tHuman T-cell leukemia virus 1 infection - Mus musculus (mouse)\n",
      "path:mmu05167\tKaposi sarcoma-associated herpesvirus infection - Mus musculus (mouse)\n",
      "path:mmu05168\tHerpes simplex infection - Mus musculus (mouse)\n",
      "path:mmu05169\tEpstein-Barr virus infection - Mus musculus (mouse)\n",
      "path:mmu05170\tHuman immunodeficiency virus 1 infection - Mus musculus (mouse)\n",
      "path:mmu05200\tPathways in cancer - Mus musculus (mouse)\n",
      "path:mmu05202\tTranscriptional misregulation in cancer - Mus musculus (mouse)\n",
      "path:mmu05203\tViral carcinogenesis - Mus musculus (mouse)\n",
      "path:mmu05204\tChemical carcinogenesis - Mus musculus (mouse)\n",
      "path:mmu05205\tProteoglycans in cancer - Mus musculus (mouse)\n",
      "path:mmu05206\tMicroRNAs in cancer - Mus musculus (mouse)\n",
      "path:mmu05210\tColorectal cancer - Mus musculus (mouse)\n",
      "path:mmu05211\tRenal cell carcinoma - Mus musculus (mouse)\n",
      "path:mmu05212\tPancreatic cancer - Mus musculus (mouse)\n",
      "path:mmu05213\tEndometrial cancer - Mus musculus (mouse)\n",
      "path:mmu05214\tGlioma - Mus musculus (mouse)\n",
      "path:mmu05215\tProstate cancer - Mus musculus (mouse)\n",
      "path:mmu05216\tThyroid cancer - Mus musculus (mouse)\n",
      "path:mmu05217\tBasal cell carcinoma - Mus musculus (mouse)\n",
      "path:mmu05218\tMelanoma - Mus musculus (mouse)\n",
      "path:mmu05219\tBladder cancer - Mus musculus (mouse)\n",
      "path:mmu05220\tChronic myeloid leukemia - Mus musculus (mouse)\n",
      "path:mmu05221\tAcute myeloid leukemia - Mus musculus (mouse)\n",
      "path:mmu05222\tSmall cell lung cancer - Mus musculus (mouse)\n",
      "path:mmu05223\tNon-small cell lung cancer - Mus musculus (mouse)\n",
      "path:mmu05224\tBreast cancer - Mus musculus (mouse)\n",
      "path:mmu05225\tHepatocellular carcinoma - Mus musculus (mouse)\n",
      "path:mmu05226\tGastric cancer - Mus musculus (mouse)\n",
      "path:mmu05230\tCentral carbon metabolism in cancer - Mus musculus (mouse)\n",
      "path:mmu05231\tCholine metabolism in cancer - Mus musculus (mouse)\n",
      "path:mmu05310\tAsthma - Mus musculus (mouse)\n",
      "path:mmu05320\tAutoimmune thyroid disease - Mus musculus (mouse)\n",
      "path:mmu05321\tInflammatory bowel disease (IBD) - Mus musculus (mouse)\n",
      "path:mmu05322\tSystemic lupus erythematosus - Mus musculus (mouse)\n",
      "path:mmu05323\tRheumatoid arthritis - Mus musculus (mouse)\n",
      "path:mmu05330\tAllograft rejection - Mus musculus (mouse)\n",
      "path:mmu05332\tGraft-versus-host disease - Mus musculus (mouse)\n",
      "path:mmu05340\tPrimary immunodeficiency - Mus musculus (mouse)\n",
      "path:mmu05410\tHypertrophic cardiomyopathy (HCM) - Mus musculus (mouse)\n",
      "path:mmu05412\tArrhythmogenic right ventricular cardiomyopathy (ARVC) - Mus musculus (mouse)\n",
      "path:mmu05414\tDilated cardiomyopathy (DCM) - Mus musculus (mouse)\n",
      "path:mmu05416\tViral myocarditis - Mus musculus (mouse)\n",
      "path:mmu05418\tFluid shear stress and atherosclerosis - Mus musculus (mouse)\n",
      "\n"
     ]
    }
   ],
   "source": [
    "# get all 'pathway's from organism 'mmu' (Mus musculus)\n",
    "pathwaysResponse = kegg_list('pathway', 'mmu').read()\n",
    "print(pathwaysResponse)"
   ]
  },
  {
   "cell_type": "code",
   "execution_count": 19,
   "metadata": {},
   "outputs": [
    {
     "name": "stdout",
     "output_type": "stream",
     "text": [
      "326\n"
     ]
    },
    {
     "data": {
      "text/plain": [
       "['mmu00010',\n",
       " 'mmu00020',\n",
       " 'mmu00030',\n",
       " 'mmu00040',\n",
       " 'mmu00051',\n",
       " 'mmu00052',\n",
       " 'mmu00053',\n",
       " 'mmu00061',\n",
       " 'mmu00062',\n",
       " 'mmu00071']"
      ]
     },
     "execution_count": 19,
     "metadata": {},
     "output_type": "execute_result"
    }
   ],
   "source": [
    "# extract pathway IDs from the raw REST response\n",
    "pathways = [((pathway.split('\\t')[0]).split(':'))[-1] for pathway in pathwaysResponse.split('\\n')[:-1]]\n",
    "# print the number of pathways and the IDs of the first 10\n",
    "print(len(pathways))\n",
    "pathways[:10]"
   ]
  },
  {
   "cell_type": "code",
   "execution_count": 14,
   "metadata": {},
   "outputs": [],
   "source": [
    "# for each pathway, get all contained genes from KEGG (in a similar format as the list of pathways above)\n",
    "# and transform that raw response into a list of gene IDs for each pathway.\n",
    "# these lists then should be stored in a dictionary with the pathway IDs as keys\n",
    "\n",
    "# HINT: use kegg_link(organism, pathway).read()\n",
    "exampleGeneList = kegg_link('mmu', pathways[0]).read()\n",
    "print(exampleGeneList)"
   ]
  },
  {
   "cell_type": "code",
   "execution_count": null,
   "metadata": {},
   "outputs": [],
   "source": []
  },
  {
   "cell_type": "markdown",
   "metadata": {},
   "source": [
    "### Subtask 1.2: Transform the gene ids to a format that can be used with your DE analysis"
   ]
  },
  {
   "cell_type": "code",
   "execution_count": 7,
   "metadata": {},
   "outputs": [],
   "source": [
    "# Use this function (that uses the Entrez REST service) to transform KEGG IDs (like 'mmu:104112')\n",
    "# to the type of gene symbols, that we also used for the DE analysis (like 'Gapdh-ps15')\n",
    "\n",
    "# Enter an email address here, e.g. your student address.\n",
    "# Entrez needs one in case you flood their servers with requests and they want to block you\n",
    "# (which should not happen with the few thousand requests we do here)\n",
    "\n",
    "#Entrez.email = \"some.name@student.uni-tuebingen.de\"\n",
    "\n",
    "def entrez2symbol(entrezList):\n",
    "    request = Entrez.epost(\"gene\", id = \",\".join(entrezList))\n",
    "    try:\n",
    "        result = Entrez.read(request)\n",
    "    except RuntimeError as e:\n",
    "        #FIXME: How generate NAs instead of causing an error with invalid IDs?\n",
    "        print(\"An error occurred while retrieving the annotations.\")\n",
    "        print(\"The error returned was %s\" % e)\n",
    "        return []\n",
    "    webEnv = result[\"WebEnv\"]\n",
    "    queryKey = result[\"QueryKey\"]\n",
    "    data = Entrez.esummary(db = \"gene\", webenv = webEnv, query_key = queryKey)\n",
    "    annotations = Entrez.read(data)\n",
    "    symbolList =[]\n",
    "    for k in range(len(entrezList)):\n",
    "        if annotations[u'DocumentSummarySet'][u'DocumentSummary'][k][u'NomenclatureSymbol'] == '':\n",
    "            symbolList.append(entrezList[k])\n",
    "        else:\n",
    "            symbolList.append(annotations[u'DocumentSummarySet'][u'DocumentSummary'][k][u'NomenclatureSymbol'])\n",
    "            \n",
    "    return symbolList"
   ]
  },
  {
   "cell_type": "code",
   "execution_count": null,
   "metadata": {},
   "outputs": [],
   "source": []
  },
  {
   "cell_type": "code",
   "execution_count": null,
   "metadata": {},
   "outputs": [],
   "source": []
  },
  {
   "cell_type": "markdown",
   "metadata": {},
   "source": [
    "### Optional Subtask 1.3: If you have too much time, save the KEGG gene sets as a gmt file <br>\n",
    "we will not need it for further analysis, but gmt is a commonly used format for gene sets. It would be very useful if you want to rerun this notebook in the future, without having to rerun the calls to the KEGG REST service in 1.1\n",
    "or the Entrez service in 1.2"
   ]
  },
  {
   "cell_type": "code",
   "execution_count": null,
   "metadata": {},
   "outputs": [],
   "source": []
  },
  {
   "cell_type": "markdown",
   "metadata": {},
   "source": [
    "hints: \n",
    "\n",
    "http://www.broadinstitute.org/cancer/software/gsea/wiki/index.php/Data_formats"
   ]
  },
  {
   "cell_type": "code",
   "execution_count": null,
   "metadata": {
    "collapsed": true
   },
   "outputs": [],
   "source": []
  },
  {
   "cell_type": "markdown",
   "metadata": {},
   "source": [
    "## Task 2: Gene Set Enrichment"
   ]
  },
  {
   "cell_type": "markdown",
   "metadata": {},
   "source": [
    "### Subtask 2.1: Read in the csv file you produced during the Differential Expression module, extract a gene list (as a python list of gene symbols) from your favorite multiple correction column (and store it in a variable)"
   ]
  },
  {
   "cell_type": "code",
   "execution_count": null,
   "metadata": {},
   "outputs": [],
   "source": []
  },
  {
   "cell_type": "markdown",
   "metadata": {},
   "source": [
    "### Subtask 2.2: Perform gene set enrichment (Fisher's exact test or an hypergeometric test will do for our purposes) with the KEGG gene sets you extracted in Task 1 (you may want to store the results in a pandas dataframe and write them to csv)"
   ]
  },
  {
   "cell_type": "markdown",
   "metadata": {},
   "source": [
    "hint:\n",
    "\n",
    "https://genetrail2.bioinf.uni-sb.de/help?topic=set_level_statistics"
   ]
  },
  {
   "cell_type": "code",
   "execution_count": null,
   "metadata": {
    "collapsed": true
   },
   "outputs": [],
   "source": []
  },
  {
   "cell_type": "markdown",
   "metadata": {},
   "source": [
    "### Subtask 2.3: Extract a list of significantly (at 0.05 significance) enriched KEGG pathways"
   ]
  },
  {
   "cell_type": "code",
   "execution_count": null,
   "metadata": {
    "scrolled": true
   },
   "outputs": [],
   "source": []
  },
  {
   "cell_type": "markdown",
   "metadata": {},
   "source": [
    "## Task 3: KEGG map visualization"
   ]
  },
  {
   "cell_type": "markdown",
   "metadata": {},
   "source": [
    "#### hint:\n",
    "\n",
    "http://nbviewer.jupyter.org/github/widdowquinn/notebooks/blob/master/Biopython_KGML_intro.ipynb\n",
    "\n",
    "#### remark:\n",
    "\n",
    "In real life you may want to use the R-based tool pathview: https://bioconductor.org/packages/release/bioc/html/pathview.html (if you insist you can also try to use r2py for using pathview from Python during the practical)\n",
    "\n",
    "For Python (in addition to the Biopyhton module) https://github.com/idekerlab/py2cytoscape in combination with https://github.com/idekerlab/KEGGscape may be another alternative (in the future)\n",
    "\n",
    "Generally speaking, it is always a good idea to pay attention also to other pathway databases like Reactome or WikiPathways ..."
   ]
  },
  {
   "cell_type": "markdown",
   "metadata": {},
   "source": [
    "### Subtask 3.1: Pick some significantly enriched KEGG pathways of your choice from 2.3 and visualize them"
   ]
  },
  {
   "cell_type": "code",
   "execution_count": null,
   "metadata": {},
   "outputs": [],
   "source": []
  },
  {
   "cell_type": "markdown",
   "metadata": {},
   "source": [
    "### Subtask 3.2: Define a a suitable binary color scheme respresenting the fact whether a gene is significantly expressed or not"
   ]
  },
  {
   "cell_type": "markdown",
   "metadata": {},
   "source": [
    "hint: \n",
    "\n",
    "http://www.rapidtables.com/web/color/RGB_Color.htm"
   ]
  },
  {
   "cell_type": "code",
   "execution_count": null,
   "metadata": {
    "collapsed": true
   },
   "outputs": [],
   "source": []
  },
  {
   "cell_type": "markdown",
   "metadata": {},
   "source": [
    "### Subtask 3.3: Visualize the pathway(s) from 3.1 in such a way that the included genes have the corresponding color from 3.2 ( you may need to define a suitable mapping from single genes to what is actually shown in the pathway map...)"
   ]
  },
  {
   "cell_type": "code",
   "execution_count": 13,
   "metadata": {},
   "outputs": [
    {
     "name": "stdout",
     "output_type": "stream",
     "text": [
      "### Pathway description ###\n",
      "Pathway: Glycolysis / Gluconeogenesis\n",
      "KEGG ID: path:mmu00010\n",
      "Image file: http://www.kegg.jp/kegg/pathway/mmu/mmu00010.png\n",
      "Organism: mmu\n",
      "Entries: 100\n",
      "Entry types:\n",
      "\tortholog: 27\n",
      "\tgene: 35\n",
      "\tcompound: 31\n",
      "\tmap: 7\n",
      "\n",
      "### New gene: ###\n",
      "mmu:11674 mmu:11676 mmu:230163 mmu:353204\n",
      "### Current gene color: ###\n",
      "#BFFFBF\n",
      "### New gene: ###\n",
      "mmu:110695 mmu:11669 mmu:11671 mmu:56752 mmu:72535\n",
      "### Current gene color: ###\n",
      "#BFFFBF\n",
      "### New gene: ###\n",
      "mmu:11670 mmu:56847 mmu:621603 mmu:67689 mmu:73458\n",
      "### Current gene color: ###\n",
      "#BFFFBF\n"
     ]
    }
   ],
   "source": [
    "# some hints on how the data structures of a random pathway look like\n",
    "pathway = KGML_parser.read(kegg_get('mmu00010', \"kgml\"))\n",
    "print('### Pathway description ###')\n",
    "print(pathway)\n",
    "\n",
    "for gene in pathway.genes[0:3]:\n",
    "    print('### New gene: ###')\n",
    "    print(gene.name)\n",
    "    for graphic in gene.graphics:\n",
    "        print('### Current gene color: ###')\n",
    "        print(graphic.bgcolor)\n",
    "        \n",
    "        \n",
    "# use KGMLCanvas(...) to draw PDFs\n",
    "# and wandImage(filename = \"your.pdf\") to display here\n",
    "# (see imports to find out what wandImage is)"
   ]
  },
  {
   "cell_type": "code",
   "execution_count": null,
   "metadata": {},
   "outputs": [],
   "source": []
  },
  {
   "cell_type": "code",
   "execution_count": null,
   "metadata": {},
   "outputs": [],
   "source": []
  },
  {
   "cell_type": "code",
   "execution_count": null,
   "metadata": {},
   "outputs": [],
   "source": []
  }
 ],
 "metadata": {
  "anaconda-cloud": {},
  "kernelspec": {
   "display_name": "Python 3",
   "language": "python",
   "name": "python3"
  },
  "language_info": {
   "codemirror_mode": {
    "name": "ipython",
    "version": 3
   },
   "file_extension": ".py",
   "mimetype": "text/x-python",
   "name": "python",
   "nbconvert_exporter": "python",
   "pygments_lexer": "ipython3",
   "version": "3.6.5"
  }
 },
 "nbformat": 4,
 "nbformat_minor": 1
}
